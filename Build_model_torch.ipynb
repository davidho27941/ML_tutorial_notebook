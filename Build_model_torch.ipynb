{
  "nbformat": 4,
  "nbformat_minor": 0,
  "metadata": {
    "colab": {
      "name": "Build_model_torch.ipynb",
      "provenance": [],
      "collapsed_sections": [],
      "authorship_tag": "ABX9TyMBGrxhxyvZXmcJw+fKpLUe",
      "include_colab_link": true
    },
    "kernelspec": {
      "name": "python3",
      "display_name": "Python 3"
    },
    "language_info": {
      "name": "python"
    },
    "accelerator": "GPU",
    "widgets": {
      "application/vnd.jupyter.widget-state+json": {
        "d0c743ec411b46aa80d78ccb90e86b40": {
          "model_module": "@jupyter-widgets/controls",
          "model_name": "HBoxModel",
          "model_module_version": "1.5.0",
          "state": {
            "_dom_classes": [],
            "_model_module": "@jupyter-widgets/controls",
            "_model_module_version": "1.5.0",
            "_model_name": "HBoxModel",
            "_view_count": null,
            "_view_module": "@jupyter-widgets/controls",
            "_view_module_version": "1.5.0",
            "_view_name": "HBoxView",
            "box_style": "",
            "children": [
              "IPY_MODEL_61dee0a4e7444abeb9f2d943859e2f77",
              "IPY_MODEL_515a1f52d8224c1abc6fb287dacac20d",
              "IPY_MODEL_584df5bc646a49a6969a15b7aa9749ef"
            ],
            "layout": "IPY_MODEL_5e663d8e8f31416dabfc48a51dfbc6d4"
          }
        },
        "61dee0a4e7444abeb9f2d943859e2f77": {
          "model_module": "@jupyter-widgets/controls",
          "model_name": "HTMLModel",
          "model_module_version": "1.5.0",
          "state": {
            "_dom_classes": [],
            "_model_module": "@jupyter-widgets/controls",
            "_model_module_version": "1.5.0",
            "_model_name": "HTMLModel",
            "_view_count": null,
            "_view_module": "@jupyter-widgets/controls",
            "_view_module_version": "1.5.0",
            "_view_name": "HTMLView",
            "description": "",
            "description_tooltip": null,
            "layout": "IPY_MODEL_3c658f8306d4433d99288149598071de",
            "placeholder": "​",
            "style": "IPY_MODEL_6312217fac9243d7a588ae4816db1188",
            "value": ""
          }
        },
        "515a1f52d8224c1abc6fb287dacac20d": {
          "model_module": "@jupyter-widgets/controls",
          "model_name": "FloatProgressModel",
          "model_module_version": "1.5.0",
          "state": {
            "_dom_classes": [],
            "_model_module": "@jupyter-widgets/controls",
            "_model_module_version": "1.5.0",
            "_model_name": "FloatProgressModel",
            "_view_count": null,
            "_view_module": "@jupyter-widgets/controls",
            "_view_module_version": "1.5.0",
            "_view_name": "ProgressView",
            "bar_style": "success",
            "description": "",
            "description_tooltip": null,
            "layout": "IPY_MODEL_d5fcd6ecf2b14971a1179ebf8e7977ab",
            "max": 9912422,
            "min": 0,
            "orientation": "horizontal",
            "style": "IPY_MODEL_1128d1a6a8cf41b2ae6718f8f3ee2d63",
            "value": 9912422
          }
        },
        "584df5bc646a49a6969a15b7aa9749ef": {
          "model_module": "@jupyter-widgets/controls",
          "model_name": "HTMLModel",
          "model_module_version": "1.5.0",
          "state": {
            "_dom_classes": [],
            "_model_module": "@jupyter-widgets/controls",
            "_model_module_version": "1.5.0",
            "_model_name": "HTMLModel",
            "_view_count": null,
            "_view_module": "@jupyter-widgets/controls",
            "_view_module_version": "1.5.0",
            "_view_name": "HTMLView",
            "description": "",
            "description_tooltip": null,
            "layout": "IPY_MODEL_473559e5ab034f679dad18c8006eb897",
            "placeholder": "​",
            "style": "IPY_MODEL_103797a5de254f1e808242300aaa824c",
            "value": " 9913344/? [00:00&lt;00:00, 16736071.56it/s]"
          }
        },
        "5e663d8e8f31416dabfc48a51dfbc6d4": {
          "model_module": "@jupyter-widgets/base",
          "model_name": "LayoutModel",
          "model_module_version": "1.2.0",
          "state": {
            "_model_module": "@jupyter-widgets/base",
            "_model_module_version": "1.2.0",
            "_model_name": "LayoutModel",
            "_view_count": null,
            "_view_module": "@jupyter-widgets/base",
            "_view_module_version": "1.2.0",
            "_view_name": "LayoutView",
            "align_content": null,
            "align_items": null,
            "align_self": null,
            "border": null,
            "bottom": null,
            "display": null,
            "flex": null,
            "flex_flow": null,
            "grid_area": null,
            "grid_auto_columns": null,
            "grid_auto_flow": null,
            "grid_auto_rows": null,
            "grid_column": null,
            "grid_gap": null,
            "grid_row": null,
            "grid_template_areas": null,
            "grid_template_columns": null,
            "grid_template_rows": null,
            "height": null,
            "justify_content": null,
            "justify_items": null,
            "left": null,
            "margin": null,
            "max_height": null,
            "max_width": null,
            "min_height": null,
            "min_width": null,
            "object_fit": null,
            "object_position": null,
            "order": null,
            "overflow": null,
            "overflow_x": null,
            "overflow_y": null,
            "padding": null,
            "right": null,
            "top": null,
            "visibility": null,
            "width": null
          }
        },
        "3c658f8306d4433d99288149598071de": {
          "model_module": "@jupyter-widgets/base",
          "model_name": "LayoutModel",
          "model_module_version": "1.2.0",
          "state": {
            "_model_module": "@jupyter-widgets/base",
            "_model_module_version": "1.2.0",
            "_model_name": "LayoutModel",
            "_view_count": null,
            "_view_module": "@jupyter-widgets/base",
            "_view_module_version": "1.2.0",
            "_view_name": "LayoutView",
            "align_content": null,
            "align_items": null,
            "align_self": null,
            "border": null,
            "bottom": null,
            "display": null,
            "flex": null,
            "flex_flow": null,
            "grid_area": null,
            "grid_auto_columns": null,
            "grid_auto_flow": null,
            "grid_auto_rows": null,
            "grid_column": null,
            "grid_gap": null,
            "grid_row": null,
            "grid_template_areas": null,
            "grid_template_columns": null,
            "grid_template_rows": null,
            "height": null,
            "justify_content": null,
            "justify_items": null,
            "left": null,
            "margin": null,
            "max_height": null,
            "max_width": null,
            "min_height": null,
            "min_width": null,
            "object_fit": null,
            "object_position": null,
            "order": null,
            "overflow": null,
            "overflow_x": null,
            "overflow_y": null,
            "padding": null,
            "right": null,
            "top": null,
            "visibility": null,
            "width": null
          }
        },
        "6312217fac9243d7a588ae4816db1188": {
          "model_module": "@jupyter-widgets/controls",
          "model_name": "DescriptionStyleModel",
          "model_module_version": "1.5.0",
          "state": {
            "_model_module": "@jupyter-widgets/controls",
            "_model_module_version": "1.5.0",
            "_model_name": "DescriptionStyleModel",
            "_view_count": null,
            "_view_module": "@jupyter-widgets/base",
            "_view_module_version": "1.2.0",
            "_view_name": "StyleView",
            "description_width": ""
          }
        },
        "d5fcd6ecf2b14971a1179ebf8e7977ab": {
          "model_module": "@jupyter-widgets/base",
          "model_name": "LayoutModel",
          "model_module_version": "1.2.0",
          "state": {
            "_model_module": "@jupyter-widgets/base",
            "_model_module_version": "1.2.0",
            "_model_name": "LayoutModel",
            "_view_count": null,
            "_view_module": "@jupyter-widgets/base",
            "_view_module_version": "1.2.0",
            "_view_name": "LayoutView",
            "align_content": null,
            "align_items": null,
            "align_self": null,
            "border": null,
            "bottom": null,
            "display": null,
            "flex": null,
            "flex_flow": null,
            "grid_area": null,
            "grid_auto_columns": null,
            "grid_auto_flow": null,
            "grid_auto_rows": null,
            "grid_column": null,
            "grid_gap": null,
            "grid_row": null,
            "grid_template_areas": null,
            "grid_template_columns": null,
            "grid_template_rows": null,
            "height": null,
            "justify_content": null,
            "justify_items": null,
            "left": null,
            "margin": null,
            "max_height": null,
            "max_width": null,
            "min_height": null,
            "min_width": null,
            "object_fit": null,
            "object_position": null,
            "order": null,
            "overflow": null,
            "overflow_x": null,
            "overflow_y": null,
            "padding": null,
            "right": null,
            "top": null,
            "visibility": null,
            "width": null
          }
        },
        "1128d1a6a8cf41b2ae6718f8f3ee2d63": {
          "model_module": "@jupyter-widgets/controls",
          "model_name": "ProgressStyleModel",
          "model_module_version": "1.5.0",
          "state": {
            "_model_module": "@jupyter-widgets/controls",
            "_model_module_version": "1.5.0",
            "_model_name": "ProgressStyleModel",
            "_view_count": null,
            "_view_module": "@jupyter-widgets/base",
            "_view_module_version": "1.2.0",
            "_view_name": "StyleView",
            "bar_color": null,
            "description_width": ""
          }
        },
        "473559e5ab034f679dad18c8006eb897": {
          "model_module": "@jupyter-widgets/base",
          "model_name": "LayoutModel",
          "model_module_version": "1.2.0",
          "state": {
            "_model_module": "@jupyter-widgets/base",
            "_model_module_version": "1.2.0",
            "_model_name": "LayoutModel",
            "_view_count": null,
            "_view_module": "@jupyter-widgets/base",
            "_view_module_version": "1.2.0",
            "_view_name": "LayoutView",
            "align_content": null,
            "align_items": null,
            "align_self": null,
            "border": null,
            "bottom": null,
            "display": null,
            "flex": null,
            "flex_flow": null,
            "grid_area": null,
            "grid_auto_columns": null,
            "grid_auto_flow": null,
            "grid_auto_rows": null,
            "grid_column": null,
            "grid_gap": null,
            "grid_row": null,
            "grid_template_areas": null,
            "grid_template_columns": null,
            "grid_template_rows": null,
            "height": null,
            "justify_content": null,
            "justify_items": null,
            "left": null,
            "margin": null,
            "max_height": null,
            "max_width": null,
            "min_height": null,
            "min_width": null,
            "object_fit": null,
            "object_position": null,
            "order": null,
            "overflow": null,
            "overflow_x": null,
            "overflow_y": null,
            "padding": null,
            "right": null,
            "top": null,
            "visibility": null,
            "width": null
          }
        },
        "103797a5de254f1e808242300aaa824c": {
          "model_module": "@jupyter-widgets/controls",
          "model_name": "DescriptionStyleModel",
          "model_module_version": "1.5.0",
          "state": {
            "_model_module": "@jupyter-widgets/controls",
            "_model_module_version": "1.5.0",
            "_model_name": "DescriptionStyleModel",
            "_view_count": null,
            "_view_module": "@jupyter-widgets/base",
            "_view_module_version": "1.2.0",
            "_view_name": "StyleView",
            "description_width": ""
          }
        },
        "d9d2bf649ad5411fb2bfe135b93f3fea": {
          "model_module": "@jupyter-widgets/controls",
          "model_name": "HBoxModel",
          "model_module_version": "1.5.0",
          "state": {
            "_dom_classes": [],
            "_model_module": "@jupyter-widgets/controls",
            "_model_module_version": "1.5.0",
            "_model_name": "HBoxModel",
            "_view_count": null,
            "_view_module": "@jupyter-widgets/controls",
            "_view_module_version": "1.5.0",
            "_view_name": "HBoxView",
            "box_style": "",
            "children": [
              "IPY_MODEL_80b556b9625542928077ca4885450fd0",
              "IPY_MODEL_527e2dc2914b4106a7441a36272a4a93",
              "IPY_MODEL_fa92027a04494971b2a865125ebb3a48"
            ],
            "layout": "IPY_MODEL_d988c2ab5b874527a61074a19bb9e239"
          }
        },
        "80b556b9625542928077ca4885450fd0": {
          "model_module": "@jupyter-widgets/controls",
          "model_name": "HTMLModel",
          "model_module_version": "1.5.0",
          "state": {
            "_dom_classes": [],
            "_model_module": "@jupyter-widgets/controls",
            "_model_module_version": "1.5.0",
            "_model_name": "HTMLModel",
            "_view_count": null,
            "_view_module": "@jupyter-widgets/controls",
            "_view_module_version": "1.5.0",
            "_view_name": "HTMLView",
            "description": "",
            "description_tooltip": null,
            "layout": "IPY_MODEL_5e825e46642a4c71b329f712d89d1d96",
            "placeholder": "​",
            "style": "IPY_MODEL_7ca83103bb674d9cab0019318dfdd1f3",
            "value": ""
          }
        },
        "527e2dc2914b4106a7441a36272a4a93": {
          "model_module": "@jupyter-widgets/controls",
          "model_name": "FloatProgressModel",
          "model_module_version": "1.5.0",
          "state": {
            "_dom_classes": [],
            "_model_module": "@jupyter-widgets/controls",
            "_model_module_version": "1.5.0",
            "_model_name": "FloatProgressModel",
            "_view_count": null,
            "_view_module": "@jupyter-widgets/controls",
            "_view_module_version": "1.5.0",
            "_view_name": "ProgressView",
            "bar_style": "success",
            "description": "",
            "description_tooltip": null,
            "layout": "IPY_MODEL_46efea360d134044add6f144eb9e15a0",
            "max": 28881,
            "min": 0,
            "orientation": "horizontal",
            "style": "IPY_MODEL_1aef396a506248b69521cd5d3f3bea18",
            "value": 28881
          }
        },
        "fa92027a04494971b2a865125ebb3a48": {
          "model_module": "@jupyter-widgets/controls",
          "model_name": "HTMLModel",
          "model_module_version": "1.5.0",
          "state": {
            "_dom_classes": [],
            "_model_module": "@jupyter-widgets/controls",
            "_model_module_version": "1.5.0",
            "_model_name": "HTMLModel",
            "_view_count": null,
            "_view_module": "@jupyter-widgets/controls",
            "_view_module_version": "1.5.0",
            "_view_name": "HTMLView",
            "description": "",
            "description_tooltip": null,
            "layout": "IPY_MODEL_f7519b5e444a4942b1f0859958eb673a",
            "placeholder": "​",
            "style": "IPY_MODEL_2887039d3ad9401a949a974bb6d7b3c4",
            "value": " 29696/? [00:00&lt;00:00, 758504.67it/s]"
          }
        },
        "d988c2ab5b874527a61074a19bb9e239": {
          "model_module": "@jupyter-widgets/base",
          "model_name": "LayoutModel",
          "model_module_version": "1.2.0",
          "state": {
            "_model_module": "@jupyter-widgets/base",
            "_model_module_version": "1.2.0",
            "_model_name": "LayoutModel",
            "_view_count": null,
            "_view_module": "@jupyter-widgets/base",
            "_view_module_version": "1.2.0",
            "_view_name": "LayoutView",
            "align_content": null,
            "align_items": null,
            "align_self": null,
            "border": null,
            "bottom": null,
            "display": null,
            "flex": null,
            "flex_flow": null,
            "grid_area": null,
            "grid_auto_columns": null,
            "grid_auto_flow": null,
            "grid_auto_rows": null,
            "grid_column": null,
            "grid_gap": null,
            "grid_row": null,
            "grid_template_areas": null,
            "grid_template_columns": null,
            "grid_template_rows": null,
            "height": null,
            "justify_content": null,
            "justify_items": null,
            "left": null,
            "margin": null,
            "max_height": null,
            "max_width": null,
            "min_height": null,
            "min_width": null,
            "object_fit": null,
            "object_position": null,
            "order": null,
            "overflow": null,
            "overflow_x": null,
            "overflow_y": null,
            "padding": null,
            "right": null,
            "top": null,
            "visibility": null,
            "width": null
          }
        },
        "5e825e46642a4c71b329f712d89d1d96": {
          "model_module": "@jupyter-widgets/base",
          "model_name": "LayoutModel",
          "model_module_version": "1.2.0",
          "state": {
            "_model_module": "@jupyter-widgets/base",
            "_model_module_version": "1.2.0",
            "_model_name": "LayoutModel",
            "_view_count": null,
            "_view_module": "@jupyter-widgets/base",
            "_view_module_version": "1.2.0",
            "_view_name": "LayoutView",
            "align_content": null,
            "align_items": null,
            "align_self": null,
            "border": null,
            "bottom": null,
            "display": null,
            "flex": null,
            "flex_flow": null,
            "grid_area": null,
            "grid_auto_columns": null,
            "grid_auto_flow": null,
            "grid_auto_rows": null,
            "grid_column": null,
            "grid_gap": null,
            "grid_row": null,
            "grid_template_areas": null,
            "grid_template_columns": null,
            "grid_template_rows": null,
            "height": null,
            "justify_content": null,
            "justify_items": null,
            "left": null,
            "margin": null,
            "max_height": null,
            "max_width": null,
            "min_height": null,
            "min_width": null,
            "object_fit": null,
            "object_position": null,
            "order": null,
            "overflow": null,
            "overflow_x": null,
            "overflow_y": null,
            "padding": null,
            "right": null,
            "top": null,
            "visibility": null,
            "width": null
          }
        },
        "7ca83103bb674d9cab0019318dfdd1f3": {
          "model_module": "@jupyter-widgets/controls",
          "model_name": "DescriptionStyleModel",
          "model_module_version": "1.5.0",
          "state": {
            "_model_module": "@jupyter-widgets/controls",
            "_model_module_version": "1.5.0",
            "_model_name": "DescriptionStyleModel",
            "_view_count": null,
            "_view_module": "@jupyter-widgets/base",
            "_view_module_version": "1.2.0",
            "_view_name": "StyleView",
            "description_width": ""
          }
        },
        "46efea360d134044add6f144eb9e15a0": {
          "model_module": "@jupyter-widgets/base",
          "model_name": "LayoutModel",
          "model_module_version": "1.2.0",
          "state": {
            "_model_module": "@jupyter-widgets/base",
            "_model_module_version": "1.2.0",
            "_model_name": "LayoutModel",
            "_view_count": null,
            "_view_module": "@jupyter-widgets/base",
            "_view_module_version": "1.2.0",
            "_view_name": "LayoutView",
            "align_content": null,
            "align_items": null,
            "align_self": null,
            "border": null,
            "bottom": null,
            "display": null,
            "flex": null,
            "flex_flow": null,
            "grid_area": null,
            "grid_auto_columns": null,
            "grid_auto_flow": null,
            "grid_auto_rows": null,
            "grid_column": null,
            "grid_gap": null,
            "grid_row": null,
            "grid_template_areas": null,
            "grid_template_columns": null,
            "grid_template_rows": null,
            "height": null,
            "justify_content": null,
            "justify_items": null,
            "left": null,
            "margin": null,
            "max_height": null,
            "max_width": null,
            "min_height": null,
            "min_width": null,
            "object_fit": null,
            "object_position": null,
            "order": null,
            "overflow": null,
            "overflow_x": null,
            "overflow_y": null,
            "padding": null,
            "right": null,
            "top": null,
            "visibility": null,
            "width": null
          }
        },
        "1aef396a506248b69521cd5d3f3bea18": {
          "model_module": "@jupyter-widgets/controls",
          "model_name": "ProgressStyleModel",
          "model_module_version": "1.5.0",
          "state": {
            "_model_module": "@jupyter-widgets/controls",
            "_model_module_version": "1.5.0",
            "_model_name": "ProgressStyleModel",
            "_view_count": null,
            "_view_module": "@jupyter-widgets/base",
            "_view_module_version": "1.2.0",
            "_view_name": "StyleView",
            "bar_color": null,
            "description_width": ""
          }
        },
        "f7519b5e444a4942b1f0859958eb673a": {
          "model_module": "@jupyter-widgets/base",
          "model_name": "LayoutModel",
          "model_module_version": "1.2.0",
          "state": {
            "_model_module": "@jupyter-widgets/base",
            "_model_module_version": "1.2.0",
            "_model_name": "LayoutModel",
            "_view_count": null,
            "_view_module": "@jupyter-widgets/base",
            "_view_module_version": "1.2.0",
            "_view_name": "LayoutView",
            "align_content": null,
            "align_items": null,
            "align_self": null,
            "border": null,
            "bottom": null,
            "display": null,
            "flex": null,
            "flex_flow": null,
            "grid_area": null,
            "grid_auto_columns": null,
            "grid_auto_flow": null,
            "grid_auto_rows": null,
            "grid_column": null,
            "grid_gap": null,
            "grid_row": null,
            "grid_template_areas": null,
            "grid_template_columns": null,
            "grid_template_rows": null,
            "height": null,
            "justify_content": null,
            "justify_items": null,
            "left": null,
            "margin": null,
            "max_height": null,
            "max_width": null,
            "min_height": null,
            "min_width": null,
            "object_fit": null,
            "object_position": null,
            "order": null,
            "overflow": null,
            "overflow_x": null,
            "overflow_y": null,
            "padding": null,
            "right": null,
            "top": null,
            "visibility": null,
            "width": null
          }
        },
        "2887039d3ad9401a949a974bb6d7b3c4": {
          "model_module": "@jupyter-widgets/controls",
          "model_name": "DescriptionStyleModel",
          "model_module_version": "1.5.0",
          "state": {
            "_model_module": "@jupyter-widgets/controls",
            "_model_module_version": "1.5.0",
            "_model_name": "DescriptionStyleModel",
            "_view_count": null,
            "_view_module": "@jupyter-widgets/base",
            "_view_module_version": "1.2.0",
            "_view_name": "StyleView",
            "description_width": ""
          }
        },
        "ca0f27a272fb4f25ad6244b36756f6ac": {
          "model_module": "@jupyter-widgets/controls",
          "model_name": "HBoxModel",
          "model_module_version": "1.5.0",
          "state": {
            "_dom_classes": [],
            "_model_module": "@jupyter-widgets/controls",
            "_model_module_version": "1.5.0",
            "_model_name": "HBoxModel",
            "_view_count": null,
            "_view_module": "@jupyter-widgets/controls",
            "_view_module_version": "1.5.0",
            "_view_name": "HBoxView",
            "box_style": "",
            "children": [
              "IPY_MODEL_2efa9d0f0d9e4ba79a53b282d37fe271",
              "IPY_MODEL_46a776e5d93b4f08986a54c0761056d0",
              "IPY_MODEL_10ede8e6846b43d987d426a81f84e7f6"
            ],
            "layout": "IPY_MODEL_83c8cdfa792c4b6c82860e1f5c92952c"
          }
        },
        "2efa9d0f0d9e4ba79a53b282d37fe271": {
          "model_module": "@jupyter-widgets/controls",
          "model_name": "HTMLModel",
          "model_module_version": "1.5.0",
          "state": {
            "_dom_classes": [],
            "_model_module": "@jupyter-widgets/controls",
            "_model_module_version": "1.5.0",
            "_model_name": "HTMLModel",
            "_view_count": null,
            "_view_module": "@jupyter-widgets/controls",
            "_view_module_version": "1.5.0",
            "_view_name": "HTMLView",
            "description": "",
            "description_tooltip": null,
            "layout": "IPY_MODEL_3c1fca8bc0894f60b642482a83ad35c5",
            "placeholder": "​",
            "style": "IPY_MODEL_1c26836d7876452e9248551598ecc2b9",
            "value": ""
          }
        },
        "46a776e5d93b4f08986a54c0761056d0": {
          "model_module": "@jupyter-widgets/controls",
          "model_name": "FloatProgressModel",
          "model_module_version": "1.5.0",
          "state": {
            "_dom_classes": [],
            "_model_module": "@jupyter-widgets/controls",
            "_model_module_version": "1.5.0",
            "_model_name": "FloatProgressModel",
            "_view_count": null,
            "_view_module": "@jupyter-widgets/controls",
            "_view_module_version": "1.5.0",
            "_view_name": "ProgressView",
            "bar_style": "success",
            "description": "",
            "description_tooltip": null,
            "layout": "IPY_MODEL_c898ee1c0f684dac816e1e21849357c3",
            "max": 1648877,
            "min": 0,
            "orientation": "horizontal",
            "style": "IPY_MODEL_9ae700423ca249c8aaceabe7bf2ecb14",
            "value": 1648877
          }
        },
        "10ede8e6846b43d987d426a81f84e7f6": {
          "model_module": "@jupyter-widgets/controls",
          "model_name": "HTMLModel",
          "model_module_version": "1.5.0",
          "state": {
            "_dom_classes": [],
            "_model_module": "@jupyter-widgets/controls",
            "_model_module_version": "1.5.0",
            "_model_name": "HTMLModel",
            "_view_count": null,
            "_view_module": "@jupyter-widgets/controls",
            "_view_module_version": "1.5.0",
            "_view_name": "HTMLView",
            "description": "",
            "description_tooltip": null,
            "layout": "IPY_MODEL_6a19c43ee19045ef9af8980145d292bc",
            "placeholder": "​",
            "style": "IPY_MODEL_7ec2fc0ab134473bbd2ae37ad15b338c",
            "value": " 1649664/? [00:00&lt;00:00, 17039659.55it/s]"
          }
        },
        "83c8cdfa792c4b6c82860e1f5c92952c": {
          "model_module": "@jupyter-widgets/base",
          "model_name": "LayoutModel",
          "model_module_version": "1.2.0",
          "state": {
            "_model_module": "@jupyter-widgets/base",
            "_model_module_version": "1.2.0",
            "_model_name": "LayoutModel",
            "_view_count": null,
            "_view_module": "@jupyter-widgets/base",
            "_view_module_version": "1.2.0",
            "_view_name": "LayoutView",
            "align_content": null,
            "align_items": null,
            "align_self": null,
            "border": null,
            "bottom": null,
            "display": null,
            "flex": null,
            "flex_flow": null,
            "grid_area": null,
            "grid_auto_columns": null,
            "grid_auto_flow": null,
            "grid_auto_rows": null,
            "grid_column": null,
            "grid_gap": null,
            "grid_row": null,
            "grid_template_areas": null,
            "grid_template_columns": null,
            "grid_template_rows": null,
            "height": null,
            "justify_content": null,
            "justify_items": null,
            "left": null,
            "margin": null,
            "max_height": null,
            "max_width": null,
            "min_height": null,
            "min_width": null,
            "object_fit": null,
            "object_position": null,
            "order": null,
            "overflow": null,
            "overflow_x": null,
            "overflow_y": null,
            "padding": null,
            "right": null,
            "top": null,
            "visibility": null,
            "width": null
          }
        },
        "3c1fca8bc0894f60b642482a83ad35c5": {
          "model_module": "@jupyter-widgets/base",
          "model_name": "LayoutModel",
          "model_module_version": "1.2.0",
          "state": {
            "_model_module": "@jupyter-widgets/base",
            "_model_module_version": "1.2.0",
            "_model_name": "LayoutModel",
            "_view_count": null,
            "_view_module": "@jupyter-widgets/base",
            "_view_module_version": "1.2.0",
            "_view_name": "LayoutView",
            "align_content": null,
            "align_items": null,
            "align_self": null,
            "border": null,
            "bottom": null,
            "display": null,
            "flex": null,
            "flex_flow": null,
            "grid_area": null,
            "grid_auto_columns": null,
            "grid_auto_flow": null,
            "grid_auto_rows": null,
            "grid_column": null,
            "grid_gap": null,
            "grid_row": null,
            "grid_template_areas": null,
            "grid_template_columns": null,
            "grid_template_rows": null,
            "height": null,
            "justify_content": null,
            "justify_items": null,
            "left": null,
            "margin": null,
            "max_height": null,
            "max_width": null,
            "min_height": null,
            "min_width": null,
            "object_fit": null,
            "object_position": null,
            "order": null,
            "overflow": null,
            "overflow_x": null,
            "overflow_y": null,
            "padding": null,
            "right": null,
            "top": null,
            "visibility": null,
            "width": null
          }
        },
        "1c26836d7876452e9248551598ecc2b9": {
          "model_module": "@jupyter-widgets/controls",
          "model_name": "DescriptionStyleModel",
          "model_module_version": "1.5.0",
          "state": {
            "_model_module": "@jupyter-widgets/controls",
            "_model_module_version": "1.5.0",
            "_model_name": "DescriptionStyleModel",
            "_view_count": null,
            "_view_module": "@jupyter-widgets/base",
            "_view_module_version": "1.2.0",
            "_view_name": "StyleView",
            "description_width": ""
          }
        },
        "c898ee1c0f684dac816e1e21849357c3": {
          "model_module": "@jupyter-widgets/base",
          "model_name": "LayoutModel",
          "model_module_version": "1.2.0",
          "state": {
            "_model_module": "@jupyter-widgets/base",
            "_model_module_version": "1.2.0",
            "_model_name": "LayoutModel",
            "_view_count": null,
            "_view_module": "@jupyter-widgets/base",
            "_view_module_version": "1.2.0",
            "_view_name": "LayoutView",
            "align_content": null,
            "align_items": null,
            "align_self": null,
            "border": null,
            "bottom": null,
            "display": null,
            "flex": null,
            "flex_flow": null,
            "grid_area": null,
            "grid_auto_columns": null,
            "grid_auto_flow": null,
            "grid_auto_rows": null,
            "grid_column": null,
            "grid_gap": null,
            "grid_row": null,
            "grid_template_areas": null,
            "grid_template_columns": null,
            "grid_template_rows": null,
            "height": null,
            "justify_content": null,
            "justify_items": null,
            "left": null,
            "margin": null,
            "max_height": null,
            "max_width": null,
            "min_height": null,
            "min_width": null,
            "object_fit": null,
            "object_position": null,
            "order": null,
            "overflow": null,
            "overflow_x": null,
            "overflow_y": null,
            "padding": null,
            "right": null,
            "top": null,
            "visibility": null,
            "width": null
          }
        },
        "9ae700423ca249c8aaceabe7bf2ecb14": {
          "model_module": "@jupyter-widgets/controls",
          "model_name": "ProgressStyleModel",
          "model_module_version": "1.5.0",
          "state": {
            "_model_module": "@jupyter-widgets/controls",
            "_model_module_version": "1.5.0",
            "_model_name": "ProgressStyleModel",
            "_view_count": null,
            "_view_module": "@jupyter-widgets/base",
            "_view_module_version": "1.2.0",
            "_view_name": "StyleView",
            "bar_color": null,
            "description_width": ""
          }
        },
        "6a19c43ee19045ef9af8980145d292bc": {
          "model_module": "@jupyter-widgets/base",
          "model_name": "LayoutModel",
          "model_module_version": "1.2.0",
          "state": {
            "_model_module": "@jupyter-widgets/base",
            "_model_module_version": "1.2.0",
            "_model_name": "LayoutModel",
            "_view_count": null,
            "_view_module": "@jupyter-widgets/base",
            "_view_module_version": "1.2.0",
            "_view_name": "LayoutView",
            "align_content": null,
            "align_items": null,
            "align_self": null,
            "border": null,
            "bottom": null,
            "display": null,
            "flex": null,
            "flex_flow": null,
            "grid_area": null,
            "grid_auto_columns": null,
            "grid_auto_flow": null,
            "grid_auto_rows": null,
            "grid_column": null,
            "grid_gap": null,
            "grid_row": null,
            "grid_template_areas": null,
            "grid_template_columns": null,
            "grid_template_rows": null,
            "height": null,
            "justify_content": null,
            "justify_items": null,
            "left": null,
            "margin": null,
            "max_height": null,
            "max_width": null,
            "min_height": null,
            "min_width": null,
            "object_fit": null,
            "object_position": null,
            "order": null,
            "overflow": null,
            "overflow_x": null,
            "overflow_y": null,
            "padding": null,
            "right": null,
            "top": null,
            "visibility": null,
            "width": null
          }
        },
        "7ec2fc0ab134473bbd2ae37ad15b338c": {
          "model_module": "@jupyter-widgets/controls",
          "model_name": "DescriptionStyleModel",
          "model_module_version": "1.5.0",
          "state": {
            "_model_module": "@jupyter-widgets/controls",
            "_model_module_version": "1.5.0",
            "_model_name": "DescriptionStyleModel",
            "_view_count": null,
            "_view_module": "@jupyter-widgets/base",
            "_view_module_version": "1.2.0",
            "_view_name": "StyleView",
            "description_width": ""
          }
        },
        "7cd4598a880b4ed0b8c4bd39ad3c5046": {
          "model_module": "@jupyter-widgets/controls",
          "model_name": "HBoxModel",
          "model_module_version": "1.5.0",
          "state": {
            "_dom_classes": [],
            "_model_module": "@jupyter-widgets/controls",
            "_model_module_version": "1.5.0",
            "_model_name": "HBoxModel",
            "_view_count": null,
            "_view_module": "@jupyter-widgets/controls",
            "_view_module_version": "1.5.0",
            "_view_name": "HBoxView",
            "box_style": "",
            "children": [
              "IPY_MODEL_c6c681e846ad49d6866cf7f832d31f6f",
              "IPY_MODEL_3737ac5edd8249c7bf3d742208ce7b52",
              "IPY_MODEL_217f4c5c9a224b16975bbeb2c2577e00"
            ],
            "layout": "IPY_MODEL_48d9bc98950c474fa65490434006b083"
          }
        },
        "c6c681e846ad49d6866cf7f832d31f6f": {
          "model_module": "@jupyter-widgets/controls",
          "model_name": "HTMLModel",
          "model_module_version": "1.5.0",
          "state": {
            "_dom_classes": [],
            "_model_module": "@jupyter-widgets/controls",
            "_model_module_version": "1.5.0",
            "_model_name": "HTMLModel",
            "_view_count": null,
            "_view_module": "@jupyter-widgets/controls",
            "_view_module_version": "1.5.0",
            "_view_name": "HTMLView",
            "description": "",
            "description_tooltip": null,
            "layout": "IPY_MODEL_c65ec1c329ba4ca6be103b1e1b1becef",
            "placeholder": "​",
            "style": "IPY_MODEL_c9edb15765d942449ff8a59a21dd41f5",
            "value": ""
          }
        },
        "3737ac5edd8249c7bf3d742208ce7b52": {
          "model_module": "@jupyter-widgets/controls",
          "model_name": "FloatProgressModel",
          "model_module_version": "1.5.0",
          "state": {
            "_dom_classes": [],
            "_model_module": "@jupyter-widgets/controls",
            "_model_module_version": "1.5.0",
            "_model_name": "FloatProgressModel",
            "_view_count": null,
            "_view_module": "@jupyter-widgets/controls",
            "_view_module_version": "1.5.0",
            "_view_name": "ProgressView",
            "bar_style": "success",
            "description": "",
            "description_tooltip": null,
            "layout": "IPY_MODEL_c341213b4abe4161b858c3bd1c4d88cf",
            "max": 4542,
            "min": 0,
            "orientation": "horizontal",
            "style": "IPY_MODEL_d8e9f09393db47c3ac2bb89f501ab2bf",
            "value": 4542
          }
        },
        "217f4c5c9a224b16975bbeb2c2577e00": {
          "model_module": "@jupyter-widgets/controls",
          "model_name": "HTMLModel",
          "model_module_version": "1.5.0",
          "state": {
            "_dom_classes": [],
            "_model_module": "@jupyter-widgets/controls",
            "_model_module_version": "1.5.0",
            "_model_name": "HTMLModel",
            "_view_count": null,
            "_view_module": "@jupyter-widgets/controls",
            "_view_module_version": "1.5.0",
            "_view_name": "HTMLView",
            "description": "",
            "description_tooltip": null,
            "layout": "IPY_MODEL_04660a72c8594cd3b90d394b5d5c1229",
            "placeholder": "​",
            "style": "IPY_MODEL_46a69c963091499cbeadae7f3b58aff3",
            "value": " 5120/? [00:00&lt;00:00, 114467.14it/s]"
          }
        },
        "48d9bc98950c474fa65490434006b083": {
          "model_module": "@jupyter-widgets/base",
          "model_name": "LayoutModel",
          "model_module_version": "1.2.0",
          "state": {
            "_model_module": "@jupyter-widgets/base",
            "_model_module_version": "1.2.0",
            "_model_name": "LayoutModel",
            "_view_count": null,
            "_view_module": "@jupyter-widgets/base",
            "_view_module_version": "1.2.0",
            "_view_name": "LayoutView",
            "align_content": null,
            "align_items": null,
            "align_self": null,
            "border": null,
            "bottom": null,
            "display": null,
            "flex": null,
            "flex_flow": null,
            "grid_area": null,
            "grid_auto_columns": null,
            "grid_auto_flow": null,
            "grid_auto_rows": null,
            "grid_column": null,
            "grid_gap": null,
            "grid_row": null,
            "grid_template_areas": null,
            "grid_template_columns": null,
            "grid_template_rows": null,
            "height": null,
            "justify_content": null,
            "justify_items": null,
            "left": null,
            "margin": null,
            "max_height": null,
            "max_width": null,
            "min_height": null,
            "min_width": null,
            "object_fit": null,
            "object_position": null,
            "order": null,
            "overflow": null,
            "overflow_x": null,
            "overflow_y": null,
            "padding": null,
            "right": null,
            "top": null,
            "visibility": null,
            "width": null
          }
        },
        "c65ec1c329ba4ca6be103b1e1b1becef": {
          "model_module": "@jupyter-widgets/base",
          "model_name": "LayoutModel",
          "model_module_version": "1.2.0",
          "state": {
            "_model_module": "@jupyter-widgets/base",
            "_model_module_version": "1.2.0",
            "_model_name": "LayoutModel",
            "_view_count": null,
            "_view_module": "@jupyter-widgets/base",
            "_view_module_version": "1.2.0",
            "_view_name": "LayoutView",
            "align_content": null,
            "align_items": null,
            "align_self": null,
            "border": null,
            "bottom": null,
            "display": null,
            "flex": null,
            "flex_flow": null,
            "grid_area": null,
            "grid_auto_columns": null,
            "grid_auto_flow": null,
            "grid_auto_rows": null,
            "grid_column": null,
            "grid_gap": null,
            "grid_row": null,
            "grid_template_areas": null,
            "grid_template_columns": null,
            "grid_template_rows": null,
            "height": null,
            "justify_content": null,
            "justify_items": null,
            "left": null,
            "margin": null,
            "max_height": null,
            "max_width": null,
            "min_height": null,
            "min_width": null,
            "object_fit": null,
            "object_position": null,
            "order": null,
            "overflow": null,
            "overflow_x": null,
            "overflow_y": null,
            "padding": null,
            "right": null,
            "top": null,
            "visibility": null,
            "width": null
          }
        },
        "c9edb15765d942449ff8a59a21dd41f5": {
          "model_module": "@jupyter-widgets/controls",
          "model_name": "DescriptionStyleModel",
          "model_module_version": "1.5.0",
          "state": {
            "_model_module": "@jupyter-widgets/controls",
            "_model_module_version": "1.5.0",
            "_model_name": "DescriptionStyleModel",
            "_view_count": null,
            "_view_module": "@jupyter-widgets/base",
            "_view_module_version": "1.2.0",
            "_view_name": "StyleView",
            "description_width": ""
          }
        },
        "c341213b4abe4161b858c3bd1c4d88cf": {
          "model_module": "@jupyter-widgets/base",
          "model_name": "LayoutModel",
          "model_module_version": "1.2.0",
          "state": {
            "_model_module": "@jupyter-widgets/base",
            "_model_module_version": "1.2.0",
            "_model_name": "LayoutModel",
            "_view_count": null,
            "_view_module": "@jupyter-widgets/base",
            "_view_module_version": "1.2.0",
            "_view_name": "LayoutView",
            "align_content": null,
            "align_items": null,
            "align_self": null,
            "border": null,
            "bottom": null,
            "display": null,
            "flex": null,
            "flex_flow": null,
            "grid_area": null,
            "grid_auto_columns": null,
            "grid_auto_flow": null,
            "grid_auto_rows": null,
            "grid_column": null,
            "grid_gap": null,
            "grid_row": null,
            "grid_template_areas": null,
            "grid_template_columns": null,
            "grid_template_rows": null,
            "height": null,
            "justify_content": null,
            "justify_items": null,
            "left": null,
            "margin": null,
            "max_height": null,
            "max_width": null,
            "min_height": null,
            "min_width": null,
            "object_fit": null,
            "object_position": null,
            "order": null,
            "overflow": null,
            "overflow_x": null,
            "overflow_y": null,
            "padding": null,
            "right": null,
            "top": null,
            "visibility": null,
            "width": null
          }
        },
        "d8e9f09393db47c3ac2bb89f501ab2bf": {
          "model_module": "@jupyter-widgets/controls",
          "model_name": "ProgressStyleModel",
          "model_module_version": "1.5.0",
          "state": {
            "_model_module": "@jupyter-widgets/controls",
            "_model_module_version": "1.5.0",
            "_model_name": "ProgressStyleModel",
            "_view_count": null,
            "_view_module": "@jupyter-widgets/base",
            "_view_module_version": "1.2.0",
            "_view_name": "StyleView",
            "bar_color": null,
            "description_width": ""
          }
        },
        "04660a72c8594cd3b90d394b5d5c1229": {
          "model_module": "@jupyter-widgets/base",
          "model_name": "LayoutModel",
          "model_module_version": "1.2.0",
          "state": {
            "_model_module": "@jupyter-widgets/base",
            "_model_module_version": "1.2.0",
            "_model_name": "LayoutModel",
            "_view_count": null,
            "_view_module": "@jupyter-widgets/base",
            "_view_module_version": "1.2.0",
            "_view_name": "LayoutView",
            "align_content": null,
            "align_items": null,
            "align_self": null,
            "border": null,
            "bottom": null,
            "display": null,
            "flex": null,
            "flex_flow": null,
            "grid_area": null,
            "grid_auto_columns": null,
            "grid_auto_flow": null,
            "grid_auto_rows": null,
            "grid_column": null,
            "grid_gap": null,
            "grid_row": null,
            "grid_template_areas": null,
            "grid_template_columns": null,
            "grid_template_rows": null,
            "height": null,
            "justify_content": null,
            "justify_items": null,
            "left": null,
            "margin": null,
            "max_height": null,
            "max_width": null,
            "min_height": null,
            "min_width": null,
            "object_fit": null,
            "object_position": null,
            "order": null,
            "overflow": null,
            "overflow_x": null,
            "overflow_y": null,
            "padding": null,
            "right": null,
            "top": null,
            "visibility": null,
            "width": null
          }
        },
        "46a69c963091499cbeadae7f3b58aff3": {
          "model_module": "@jupyter-widgets/controls",
          "model_name": "DescriptionStyleModel",
          "model_module_version": "1.5.0",
          "state": {
            "_model_module": "@jupyter-widgets/controls",
            "_model_module_version": "1.5.0",
            "_model_name": "DescriptionStyleModel",
            "_view_count": null,
            "_view_module": "@jupyter-widgets/base",
            "_view_module_version": "1.2.0",
            "_view_name": "StyleView",
            "description_width": ""
          }
        }
      }
    }
  },
  "cells": [
    {
      "cell_type": "markdown",
      "metadata": {
        "id": "view-in-github",
        "colab_type": "text"
      },
      "source": [
        "<a href=\"https://colab.research.google.com/github/davidho27941/ML_tutorial_notebook/blob/main/Build_model_torch.ipynb\" target=\"_parent\"><img src=\"https://colab.research.google.com/assets/colab-badge.svg\" alt=\"Open In Colab\"/></a>"
      ]
    },
    {
      "cell_type": "markdown",
      "source": [
        "# 基於PyTorch平台的基本模型建立\n",
        "\n",
        "## 載入必要函式庫以及資料集\n",
        "\n",
        "為了在PyTorch建立模型，我們需要導入以下函式庫：\n",
        "\n",
        "* torch \n",
        "* torchvision\n",
        "\n",
        "以及常用的資料處理函式庫：\n",
        "\n",
        "* Numpy \n",
        "* Pandas\n",
        "\n",
        "我們可以透過`torch.cuda.is_available()`來確認GPU是否可用，並選擇在CPU或是GPU上運行我們的程式。"
      ],
      "metadata": {
        "id": "JkRtRK9j_Osc"
      }
    },
    {
      "cell_type": "code",
      "execution_count": 1,
      "metadata": {
        "id": "l05jzHHeE7RE",
        "colab": {
          "base_uri": "https://localhost:8080/"
        },
        "outputId": "1e355c9d-f121-4e3a-9ef0-9582893721f3"
      },
      "outputs": [
        {
          "output_type": "stream",
          "name": "stdout",
          "text": [
            "Device State: cuda:0\n"
          ]
        }
      ],
      "source": [
        "import torchvision \n",
        "import torch \n",
        "import numpy as np\n",
        "import pandas as pd \n",
        "\n",
        "# GPU\n",
        "device = 'cuda:0' if torch.cuda.is_available() else 'cpu'\n",
        "print('Device State:', device)\n"
      ]
    },
    {
      "cell_type": "markdown",
      "source": [
        "## 匯入MNIST資料集\n",
        "\n",
        "在此範例中，我們一樣會使用MNIST資料集進行示範。\n",
        "在載入時，我們需要使用`torchvision`的`datasets.MNIST`函式來抽取MNSIT資料集。並利用經由`torchvision.transforms.Compose`所整理的轉置流程對資料集進行轉置。\n",
        "\n",
        "我們將分別導入訓練資料集以及測試資料集作為訓練以及測試使用。"
      ],
      "metadata": {
        "id": "tT4oZPQcLrCA"
      }
    },
    {
      "cell_type": "code",
      "source": [
        "# Transform\n",
        "# Step 1: Convert to Tensor\n",
        "# Step 2: Normalize with mean = 0.5 and std= 0.5\n",
        "transform = torchvision.transforms.Compose(\n",
        "    [torchvision.transforms.ToTensor(),\n",
        "     torchvision.transforms.Normalize((0.5,), (0.5,)),]\n",
        ")\n",
        "\n",
        "# Obtain MNIST training dataset.\n",
        "# Transform is a custom functon define by user, which allow user to apply the transformation when loading dataset.\n",
        "mnist_train = torchvision.datasets.MNIST(root='MNIST', \n",
        "                            download=True, \n",
        "                            train=True, \n",
        "                            transform=transform)\n",
        "                            \n",
        "# Obtain MNIST test dataset\n",
        "mnist_test = torchvision.datasets.MNIST(root='MNIST', \n",
        "                            download=True, \n",
        "                            train=False, \n",
        "                            transform=transform)"
      ],
      "metadata": {
        "id": "ELM5IzM0JD5f",
        "colab": {
          "base_uri": "https://localhost:8080/",
          "height": 423,
          "referenced_widgets": [
            "d0c743ec411b46aa80d78ccb90e86b40",
            "61dee0a4e7444abeb9f2d943859e2f77",
            "515a1f52d8224c1abc6fb287dacac20d",
            "584df5bc646a49a6969a15b7aa9749ef",
            "5e663d8e8f31416dabfc48a51dfbc6d4",
            "3c658f8306d4433d99288149598071de",
            "6312217fac9243d7a588ae4816db1188",
            "d5fcd6ecf2b14971a1179ebf8e7977ab",
            "1128d1a6a8cf41b2ae6718f8f3ee2d63",
            "473559e5ab034f679dad18c8006eb897",
            "103797a5de254f1e808242300aaa824c",
            "d9d2bf649ad5411fb2bfe135b93f3fea",
            "80b556b9625542928077ca4885450fd0",
            "527e2dc2914b4106a7441a36272a4a93",
            "fa92027a04494971b2a865125ebb3a48",
            "d988c2ab5b874527a61074a19bb9e239",
            "5e825e46642a4c71b329f712d89d1d96",
            "7ca83103bb674d9cab0019318dfdd1f3",
            "46efea360d134044add6f144eb9e15a0",
            "1aef396a506248b69521cd5d3f3bea18",
            "f7519b5e444a4942b1f0859958eb673a",
            "2887039d3ad9401a949a974bb6d7b3c4",
            "ca0f27a272fb4f25ad6244b36756f6ac",
            "2efa9d0f0d9e4ba79a53b282d37fe271",
            "46a776e5d93b4f08986a54c0761056d0",
            "10ede8e6846b43d987d426a81f84e7f6",
            "83c8cdfa792c4b6c82860e1f5c92952c",
            "3c1fca8bc0894f60b642482a83ad35c5",
            "1c26836d7876452e9248551598ecc2b9",
            "c898ee1c0f684dac816e1e21849357c3",
            "9ae700423ca249c8aaceabe7bf2ecb14",
            "6a19c43ee19045ef9af8980145d292bc",
            "7ec2fc0ab134473bbd2ae37ad15b338c",
            "7cd4598a880b4ed0b8c4bd39ad3c5046",
            "c6c681e846ad49d6866cf7f832d31f6f",
            "3737ac5edd8249c7bf3d742208ce7b52",
            "217f4c5c9a224b16975bbeb2c2577e00",
            "48d9bc98950c474fa65490434006b083",
            "c65ec1c329ba4ca6be103b1e1b1becef",
            "c9edb15765d942449ff8a59a21dd41f5",
            "c341213b4abe4161b858c3bd1c4d88cf",
            "d8e9f09393db47c3ac2bb89f501ab2bf",
            "04660a72c8594cd3b90d394b5d5c1229",
            "46a69c963091499cbeadae7f3b58aff3"
          ]
        },
        "outputId": "a551c965-6cff-4aa7-a688-f5ccd310b186"
      },
      "execution_count": 2,
      "outputs": [
        {
          "output_type": "stream",
          "name": "stdout",
          "text": [
            "Downloading http://yann.lecun.com/exdb/mnist/train-images-idx3-ubyte.gz\n",
            "Downloading http://yann.lecun.com/exdb/mnist/train-images-idx3-ubyte.gz to MNIST/MNIST/raw/train-images-idx3-ubyte.gz\n"
          ]
        },
        {
          "output_type": "display_data",
          "data": {
            "text/plain": [
              "  0%|          | 0/9912422 [00:00<?, ?it/s]"
            ],
            "application/vnd.jupyter.widget-view+json": {
              "version_major": 2,
              "version_minor": 0,
              "model_id": "d0c743ec411b46aa80d78ccb90e86b40"
            }
          },
          "metadata": {}
        },
        {
          "output_type": "stream",
          "name": "stdout",
          "text": [
            "Extracting MNIST/MNIST/raw/train-images-idx3-ubyte.gz to MNIST/MNIST/raw\n",
            "\n",
            "Downloading http://yann.lecun.com/exdb/mnist/train-labels-idx1-ubyte.gz\n",
            "Downloading http://yann.lecun.com/exdb/mnist/train-labels-idx1-ubyte.gz to MNIST/MNIST/raw/train-labels-idx1-ubyte.gz\n"
          ]
        },
        {
          "output_type": "display_data",
          "data": {
            "text/plain": [
              "  0%|          | 0/28881 [00:00<?, ?it/s]"
            ],
            "application/vnd.jupyter.widget-view+json": {
              "version_major": 2,
              "version_minor": 0,
              "model_id": "d9d2bf649ad5411fb2bfe135b93f3fea"
            }
          },
          "metadata": {}
        },
        {
          "output_type": "stream",
          "name": "stdout",
          "text": [
            "Extracting MNIST/MNIST/raw/train-labels-idx1-ubyte.gz to MNIST/MNIST/raw\n",
            "\n",
            "Downloading http://yann.lecun.com/exdb/mnist/t10k-images-idx3-ubyte.gz\n",
            "Downloading http://yann.lecun.com/exdb/mnist/t10k-images-idx3-ubyte.gz to MNIST/MNIST/raw/t10k-images-idx3-ubyte.gz\n"
          ]
        },
        {
          "output_type": "display_data",
          "data": {
            "text/plain": [
              "  0%|          | 0/1648877 [00:00<?, ?it/s]"
            ],
            "application/vnd.jupyter.widget-view+json": {
              "version_major": 2,
              "version_minor": 0,
              "model_id": "ca0f27a272fb4f25ad6244b36756f6ac"
            }
          },
          "metadata": {}
        },
        {
          "output_type": "stream",
          "name": "stdout",
          "text": [
            "Extracting MNIST/MNIST/raw/t10k-images-idx3-ubyte.gz to MNIST/MNIST/raw\n",
            "\n",
            "Downloading http://yann.lecun.com/exdb/mnist/t10k-labels-idx1-ubyte.gz\n",
            "Downloading http://yann.lecun.com/exdb/mnist/t10k-labels-idx1-ubyte.gz to MNIST/MNIST/raw/t10k-labels-idx1-ubyte.gz\n"
          ]
        },
        {
          "output_type": "display_data",
          "data": {
            "text/plain": [
              "  0%|          | 0/4542 [00:00<?, ?it/s]"
            ],
            "application/vnd.jupyter.widget-view+json": {
              "version_major": 2,
              "version_minor": 0,
              "model_id": "7cd4598a880b4ed0b8c4bd39ad3c5046"
            }
          },
          "metadata": {}
        },
        {
          "output_type": "stream",
          "name": "stdout",
          "text": [
            "Extracting MNIST/MNIST/raw/t10k-labels-idx1-ubyte.gz to MNIST/MNIST/raw\n",
            "\n"
          ]
        }
      ]
    },
    {
      "cell_type": "markdown",
      "source": [
        "## 將資料打包並載入\n",
        "\n",
        "在我們利用`torchvision.datasets.MNIST`函式將資料抽出後，我們可以利用`torch.utils.data.DataLoader`將資料轉置並載入成一個物件。\n",
        "\n",
        "在`DataLoader`函式中，可以宣告：\n",
        "\n",
        "* batch_size: 宣告批次數量大小。\n",
        "* shuffle: 宣告是否要重新排序。\n",
        "* sampler: 宣告自定義採樣器。\n",
        "\n",
        "> 詳細參數可至[官方文件](https://pytorch.org/docs/stable/data.html)做進一步了解。"
      ],
      "metadata": {
        "id": "5lW9FPodY9A7"
      }
    },
    {
      "cell_type": "code",
      "source": [
        "trainLoader = torch.utils.data.DataLoader(mnist_train, batch_size=64, shuffle=True)\n",
        "testLoader = torch.utils.data.DataLoader(mnist_test, batch_size=64, shuffle=False)"
      ],
      "metadata": {
        "id": "vCmorvLTJfjh"
      },
      "execution_count": 3,
      "outputs": []
    },
    {
      "cell_type": "markdown",
      "source": [
        "## 建立順序式模型\n",
        "\n",
        "在PyTorch之中，建立簡單的順序式模型與`TensorFlow`的作法相當類似。在`TensorFlow`中，我們利用`tf.keras.Sequential`函式來建立順序式模型，而在`PyTorch`之中我們使用`torch.nn`下屬的`torch.nn.Sequential`函數來完成順序式模型的建立。\n",
        "\n",
        "以下是利用`torch.nn.Sequential`建立一個多層感知器（MLP）的範例。我們在一個順序性模型之中建立了三層的全連結層（利用`nn.Linear`）並結合線性整流函數(ReLU)以及對數歸一化指數函數（LogSoftmax）作為激勵函數。在模型建立完成之後，我們利用`.to()`將模型送到指定的裝置上進行使用。\n"
      ],
      "metadata": {
        "id": "pz_taBZSZT0S"
      }
    },
    {
      "cell_type": "code",
      "source": [
        "model = torch.nn.Sequential(\n",
        "            torch.nn.Linear(in_features=784, out_features=128),\n",
        "            torch.nn.ReLU(),\n",
        "            torch.nn.Linear(in_features=128, out_features=64),\n",
        "            torch.nn.ReLU(),\n",
        "            torch.nn.Linear(in_features=64, out_features=10),\n",
        "            torch.nn.LogSoftmax(dim=1)\n",
        "            ).to(device)\n",
        "print(model)"
      ],
      "metadata": {
        "colab": {
          "base_uri": "https://localhost:8080/"
        },
        "id": "p44ARojPJq0K",
        "outputId": "0e5519e7-0ce0-4b78-fb2e-944798d990c8"
      },
      "execution_count": 4,
      "outputs": [
        {
          "output_type": "stream",
          "name": "stdout",
          "text": [
            "Sequential(\n",
            "  (0): Linear(in_features=784, out_features=128, bias=True)\n",
            "  (1): ReLU()\n",
            "  (2): Linear(in_features=128, out_features=64, bias=True)\n",
            "  (3): ReLU()\n",
            "  (4): Linear(in_features=64, out_features=10, bias=True)\n",
            "  (5): LogSoftmax(dim=1)\n",
            ")\n"
          ]
        }
      ]
    },
    {
      "cell_type": "code",
      "source": [
        "#@title 設定各項超參數、損失函數以及優化器\n",
        "\n",
        "EPOCHS = 10 #@param {type:\"slider\", min:1, max:100, setp: 1}\n",
        "LR = 1e-2 #@param {type:\"number\"}\n",
        "OPTIMIZER = 'adam' #@param [\"adam\", \"SGD\"] {type:\"raw\"}\n",
        "\n",
        "criterion = torch.nn.CrossEntropyLoss()\n",
        "if OPTIMIZER == 'adam':\n",
        "    optimizer = torch.optim.Adam(model.parameters(), lr=LR)\n",
        "elif  OPTIMIZER == 'SGD':\n",
        "    optimizer = torch.optim.SGD(model.parameters(), lr=LR, momentum=0.9)\n"
      ],
      "metadata": {
        "id": "KKfuFgHpJy0x"
      },
      "execution_count": 5,
      "outputs": []
    },
    {
      "cell_type": "markdown",
      "source": [
        "## 建立訓練流程 \n",
        "\n",
        "在建立好模型以及設定好各項參數之後，我們可以開始建立我們的訓練流程。\n",
        "在原生`PyTorch`之中，並不存在類似`TensorFlow`的`model.fit()`功能，所以我們必須自行將資料導入至模型之中，並取的模型的輸出，最後自行處理向前/向後傳播的流程。這邊簡單的將訓練流程給條列化。\n",
        "\n",
        "1. 取得資料\n",
        "2. 利用`optimizer.zero_grad()`將優化器既存的梯度值清空\n",
        "3. 將資料導入模型，並取得模型輸出\n",
        "4. 利用損失函數計算loss，並利用`loss.backward()`進行反向傳播\n",
        "5. 將新的梯度值利用`optimizer.step()`將參數進行更新\n",
        "\n",
        "因為原生`PyTorch`並未提供計算準確率的功能，也並未提供類似`TensorFlow`中，`model.compile()`中的`metrics`參數直接指定想看到的參數。所以我們需要直接提取模型輸出以及資料標籤進行準確度的評估。\n"
      ],
      "metadata": {
        "id": "wxzEiBKG6O5T"
      }
    },
    {
      "cell_type": "code",
      "source": [
        "for epoch in range(EPOCHS):\n",
        "    # 定義變數用以儲存單次訓練週期中的loss以及acc值\n",
        "    running_loss = list()\n",
        "    running_acc = 0.0\n",
        "\n",
        "    for times, data in enumerate(trainLoader):\n",
        "\n",
        "        # 宣告模型訓練狀態\n",
        "        model.train()\n",
        "\n",
        "        # 取得資料，並將其傳遞至相應裝置\n",
        "        inputs, labels = data[0].to(device), data[1].to(device)\n",
        "\n",
        "        # 將影像維度改為第一維度長度為inputs.shape[0]，第二維度為所剩維度展平的長度\n",
        "        inputs = inputs.view(inputs.shape[0], -1)\n",
        "\n",
        "        # 將既存梯度歸零\n",
        "        optimizer.zero_grad()\n",
        "\n",
        "        # 將資料導入模型，並取得模型輸出\n",
        "        outputs = model(inputs)\n",
        "\n",
        "        # 將模型輸出轉為整數\n",
        "        predicted = torch.max(outputs.data, 1)[1]\n",
        "        \n",
        "        # 利用損失函數計算loss\n",
        "        loss = criterion(outputs, labels)\n",
        "\n",
        "        # 進行反向傳播\n",
        "        loss.backward()\n",
        "\n",
        "        # 更新參數\n",
        "        optimizer.step()\n",
        "\n",
        "        # 紀錄週期內的損失值\n",
        "        running_loss.append(loss.item())\n",
        "\n",
        "        # 計算週期內正確預測的數量\n",
        "        running_acc += (labels==predicted).sum().item()\n",
        "    \n",
        "    # 計算週期為單位的loss以及acc\n",
        "    _epoch_loss = torch.tensor(running_loss).mean()\n",
        "    _epoch_acc = running_acc/(len(trainLoader)*64)\n",
        "\n",
        "    # 輸出資訊\n",
        "    print(f\"Epoch : {epoch+1}, Epoch loss: {_epoch_loss:.4f}, Epoch Acc: {_epoch_acc:.2f}\")\n",
        "print('Training Finished.')"
      ],
      "metadata": {
        "colab": {
          "base_uri": "https://localhost:8080/"
        },
        "id": "zKa8K4jmK56R",
        "outputId": "c140ed68-1d88-4eef-dcad-3cf88d1a0d07"
      },
      "execution_count": 6,
      "outputs": [
        {
          "output_type": "stream",
          "name": "stdout",
          "text": [
            "Epoch : 1, Epoch loss: 0.3827, Epoch Acc: 0.88\n",
            "Epoch : 2, Epoch loss: 0.2399, Epoch Acc: 0.93\n",
            "Epoch : 3, Epoch loss: 0.2191, Epoch Acc: 0.94\n",
            "Epoch : 4, Epoch loss: 0.2097, Epoch Acc: 0.94\n",
            "Epoch : 5, Epoch loss: 0.2009, Epoch Acc: 0.94\n",
            "Epoch : 6, Epoch loss: 0.1926, Epoch Acc: 0.95\n",
            "Epoch : 7, Epoch loss: 0.1897, Epoch Acc: 0.95\n",
            "Epoch : 8, Epoch loss: 0.1808, Epoch Acc: 0.95\n",
            "Epoch : 9, Epoch loss: 0.1896, Epoch Acc: 0.95\n",
            "Epoch : 10, Epoch loss: 0.1711, Epoch Acc: 0.95\n",
            "Training Finished.\n"
          ]
        }
      ]
    },
    {
      "cell_type": "markdown",
      "source": [
        "## 對模型進行驗證\n",
        "\n",
        "在預設中，模型都是被設置在訓練狀態中的，我們可以利用`model.training`來進行確認。\n"
      ],
      "metadata": {
        "id": "iZB4vbf8TJ7P"
      }
    },
    {
      "cell_type": "code",
      "source": [
        "print(f'Is model set to `training` mode: {model.training}')"
      ],
      "metadata": {
        "id": "8g0uRFqsQm2Z",
        "colab": {
          "base_uri": "https://localhost:8080/"
        },
        "outputId": "ded3d27b-f2bc-4c6c-a802-51f383b64a75"
      },
      "execution_count": 7,
      "outputs": [
        {
          "output_type": "stream",
          "name": "stdout",
          "text": [
            "Is model set to `training` mode: True\n"
          ]
        }
      ]
    },
    {
      "cell_type": "markdown",
      "source": [
        "要對模型進行驗證，我們必須先將訓練模式轉為驗證模式，此時必須呼叫`model.eval()`函式來完成這項更動。"
      ],
      "metadata": {
        "id": "Z5vwS8n8Sv-Y"
      }
    },
    {
      "cell_type": "code",
      "source": [
        "model.eval()\n",
        "print(f'Is model set to `training` mode: {model.training}')"
      ],
      "metadata": {
        "colab": {
          "base_uri": "https://localhost:8080/"
        },
        "id": "cOWVSafAS9bh",
        "outputId": "3992f3ef-931e-4f2d-ec06-1f60a30d1a6d"
      },
      "execution_count": 8,
      "outputs": [
        {
          "output_type": "stream",
          "name": "stdout",
          "text": [
            "Is model set to `training` mode: False\n"
          ]
        }
      ]
    },
    {
      "cell_type": "markdown",
      "source": [
        "將模型設定為驗證模式之後，我們就可以利用與訓練類似的流程來進行對模型的測試。需要改動的地方只有：\n",
        "\n",
        "* 在因為沒有必要計算梯度，故需要在每個週期開始前，加入`with torh.no_grad()`來宣告不需要計算梯度。\n",
        "* 因不需要進行訓練，所以把`loss.backward()`以及`optimizer.step()`給去掉，來省去反向傳播以及更新權重的部份。\n",
        "\n",
        "以下是驗證流程的範例。"
      ],
      "metadata": {
        "id": "CJJvJ2VhTy4W"
      }
    },
    {
      "cell_type": "code",
      "source": [
        "for epoch in range(EPOCHS):\n",
        "    # 定義變數用以儲存單次訓練週期中的loss以及acc值\n",
        "    running_loss = list()\n",
        "    running_acc = 0.0\n",
        "    with torch.no_grad():\n",
        "        for times, data in enumerate(testLoader):\n",
        "\n",
        "            # 取得資料，並將其傳遞至相應裝置\n",
        "            inputs, labels = data[0].to(device), data[1].to(device)\n",
        "\n",
        "            # 將影像維度改為第一維度長度為inputs.shape[0]，第二維度為所剩維度展平的長度\n",
        "            inputs = inputs.view(inputs.shape[0], -1)\n",
        "\n",
        "            # 將既存梯度歸零\n",
        "            optimizer.zero_grad()\n",
        "\n",
        "            # 將資料導入模型，並取得模型輸出\n",
        "            outputs = model(inputs)\n",
        "\n",
        "            # 將模型輸出轉為整數\n",
        "            predicted = torch.max(outputs.data, 1)[1]\n",
        "            \n",
        "            # 利用損失函數計算loss\n",
        "            loss = criterion(outputs, labels)\n",
        "\n",
        "            # 紀錄週期內的損失值\n",
        "            running_loss.append(loss.item())\n",
        "\n",
        "            # 計算週期內正確預測的數量\n",
        "            running_acc += (labels==predicted).sum().item()\n",
        "    \n",
        "    # 計算週期為單位的loss以及acc\n",
        "    _epoch_loss = torch.tensor(running_loss).mean()\n",
        "    _epoch_acc = running_acc/(len(testLoader)*64)\n",
        "\n",
        "    # 輸出資訊\n",
        "    print(f\"Epoch : {epoch+1}, Epoch loss: {_epoch_loss:.4f}, Epoch Acc: {_epoch_acc:.2f}\")\n",
        "print('Validation process Finished.')"
      ],
      "metadata": {
        "colab": {
          "base_uri": "https://localhost:8080/"
        },
        "id": "_ZGSSTFTT7MX",
        "outputId": "a7430fe8-631a-48c5-ed1b-c7907342e6e7"
      },
      "execution_count": 9,
      "outputs": [
        {
          "output_type": "stream",
          "name": "stdout",
          "text": [
            "Epoch : 1, Epoch loss: 0.1962, Epoch Acc: 0.95\n",
            "Epoch : 2, Epoch loss: 0.1962, Epoch Acc: 0.95\n",
            "Epoch : 3, Epoch loss: 0.1962, Epoch Acc: 0.95\n",
            "Epoch : 4, Epoch loss: 0.1962, Epoch Acc: 0.95\n",
            "Epoch : 5, Epoch loss: 0.1962, Epoch Acc: 0.95\n",
            "Epoch : 6, Epoch loss: 0.1962, Epoch Acc: 0.95\n",
            "Epoch : 7, Epoch loss: 0.1962, Epoch Acc: 0.95\n",
            "Epoch : 8, Epoch loss: 0.1962, Epoch Acc: 0.95\n",
            "Epoch : 9, Epoch loss: 0.1962, Epoch Acc: 0.95\n",
            "Epoch : 10, Epoch loss: 0.1962, Epoch Acc: 0.95\n",
            "Validation process Finished.\n"
          ]
        }
      ]
    },
    {
      "cell_type": "markdown",
      "source": [
        "在測試玩後，如果要再次訓練模型，只需要利用`model.train()`將模式設置為訓練中即可。"
      ],
      "metadata": {
        "id": "s_UqaSq5WKMr"
      }
    },
    {
      "cell_type": "code",
      "source": [
        "model.train()\n",
        "print(f'Is model set to `training` mode: {model.training}')"
      ],
      "metadata": {
        "colab": {
          "base_uri": "https://localhost:8080/"
        },
        "id": "v1lP8MZnWTY2",
        "outputId": "51828844-14df-4dda-b28a-f66d86f02532"
      },
      "execution_count": 10,
      "outputs": [
        {
          "output_type": "stream",
          "name": "stdout",
          "text": [
            "Is model set to `training` mode: True\n"
          ]
        }
      ]
    },
    {
      "cell_type": "markdown",
      "source": [
        "## 建立自定義模型\n",
        "\n",
        "在先前的部份，我們利用`torch.nn.Sequential`建立了順序式模型。對於機器學習，常態下我們需要建立各式各樣的自訂模型結構。在`PyTorch`中，我們可以建立自定義類別物件，繼承`torch.nn.Module`類別，並在此類別內建立我的自訂模型架構。\n",
        "\n"
      ],
      "metadata": {
        "id": "svV-tsqcILch"
      }
    },
    {
      "cell_type": "code",
      "source": [
        "class my_model(torch.nn.Module):\n",
        "    # 對類別進行初始化\n",
        "    def __init__(self):\n",
        "        # 呼叫繼承對象的__init__函數\n",
        "        super(my_model, self).__init__()\n",
        "        \n",
        "        # 建立模型\n",
        "        self.main = torch.nn.Sequential(\n",
        "            torch.nn.Linear(in_features=784, out_features=128),\n",
        "            torch.nn.ReLU(),\n",
        "            torch.nn.Linear(in_features=128, out_features=64),\n",
        "            torch.nn.ReLU(),\n",
        "            torch.nn.Linear(in_features=64, out_features=10),\n",
        "            torch.nn.LogSoftmax(dim=1)\n",
        "        )\n",
        "    \n",
        "    # 定義向前傳播的過程\n",
        "    def forward(self, input):\n",
        "        return self.main(input)\n",
        "my_model = my_model()\n",
        "my_model"
      ],
      "metadata": {
        "id": "LrK04RqHLVaB",
        "colab": {
          "base_uri": "https://localhost:8080/"
        },
        "outputId": "88efe1e9-189d-49f8-dc1a-321f60db5554"
      },
      "execution_count": 11,
      "outputs": [
        {
          "output_type": "execute_result",
          "data": {
            "text/plain": [
              "my_model(\n",
              "  (main): Sequential(\n",
              "    (0): Linear(in_features=784, out_features=128, bias=True)\n",
              "    (1): ReLU()\n",
              "    (2): Linear(in_features=128, out_features=64, bias=True)\n",
              "    (3): ReLU()\n",
              "    (4): Linear(in_features=64, out_features=10, bias=True)\n",
              "    (5): LogSoftmax(dim=1)\n",
              "  )\n",
              ")"
            ]
          },
          "metadata": {},
          "execution_count": 11
        }
      ]
    },
    {
      "cell_type": "markdown",
      "source": [
        "除了上方的在類別中利用`Sequential`建立模型的方式，也可以透過以下方式自定義模型。"
      ],
      "metadata": {
        "id": "GhsdCzVtNbhI"
      }
    },
    {
      "cell_type": "code",
      "source": [
        "import torch.nn.functional as F\n",
        "\n",
        "class my_model_1(torch.nn.Module):\n",
        "    # 對類別進行初始化\n",
        "    def __init__(self):\n",
        "        # 呼叫繼承對象的__init__函數\n",
        "        super(my_model_1, self).__init__()\n",
        "        self.dense_1 = torch.nn.Linear(in_features=784, out_features=128)\n",
        "        self.dense_2 = torch.nn.Linear(in_features=128, out_features=64)\n",
        "        self.dense_3 = torch.nn.Linear(in_features=64, out_features=10)\n",
        "\n",
        "    \n",
        "    # 定義向前傳播的過程\n",
        "    def forward(self, input):\n",
        "        input = self.dense_1(input)\n",
        "        input = F.relu(input)\n",
        "        input = self.dense_2(input)\n",
        "        input = F.relu(input)\n",
        "        input = self.dense_3(input)\n",
        "        return F.log_softmax(input, dim = 1)\n",
        "\n",
        "my_model_1 = my_model_1()\n",
        "my_model_1"
      ],
      "metadata": {
        "colab": {
          "base_uri": "https://localhost:8080/"
        },
        "id": "_fECAC0HNlg9",
        "outputId": "9c07238d-2ceb-4dfd-c79a-c7f05781d20f"
      },
      "execution_count": 12,
      "outputs": [
        {
          "output_type": "execute_result",
          "data": {
            "text/plain": [
              "my_model_1(\n",
              "  (dense_1): Linear(in_features=784, out_features=128, bias=True)\n",
              "  (dense_2): Linear(in_features=128, out_features=64, bias=True)\n",
              "  (dense_3): Linear(in_features=64, out_features=10, bias=True)\n",
              ")"
            ]
          },
          "metadata": {},
          "execution_count": 12
        }
      ]
    },
    {
      "cell_type": "markdown",
      "source": [
        "## 結語\n",
        "\n",
        "在本範例中，我們示範了如何用`nn.Sequential()`函數以繼承`nn.Module`類別的自定義類別來建立一個簡單的機器學習模型。接下來我們將了解如何透過建立`Callback`物件以及利用`Tensorboard`來監控模型的訓練流程。"
      ],
      "metadata": {
        "id": "KF6zEUasD8_e"
      }
    }
  ]
}
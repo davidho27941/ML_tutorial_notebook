{
  "cells": [
    {
      "cell_type": "markdown",
      "metadata": {
        "id": "view-in-github",
        "colab_type": "text"
      },
      "source": [
        "<a href=\"https://colab.research.google.com/github/davidho27941/ML_tutorial_notebook/blob/main/Numpy_regression.ipynb\" target=\"_parent\"><img src=\"https://colab.research.google.com/assets/colab-badge.svg\" alt=\"Open In Colab\"/></a>"
      ]
    },
    {
      "cell_type": "markdown",
      "source": [
        "# 利用NumPy建立簡單迴歸模型\n",
        "\n",
        "在開始學習利用各種機器學習平台進行機器學習的建模以及訓練前，我們可以藉由最基本的範例來了解機器學習是怎麼樣去對一筆數據進行學習、並調整參數至最接近目標的狀態。\n",
        "\n",
        "在這章節，我們將用`Numpy`函式庫來演示最基本的線性回歸是如何完成的。\n"
      ],
      "metadata": {
        "id": "fOvOg-dDOQ_I"
      }
    },
    {
      "cell_type": "markdown",
      "source": [
        "## 範例簡介\n",
        "\n",
        "在本範例中，我們將利用以下的函數\n",
        "\n",
        "$y = a + bx + cx^{2} + dx^{3}$\n",
        "\n",
        "來對目標函數\n",
        "\n",
        "$y = sin(x)$\n",
        "\n",
        "進行線性回歸。\n",
        "\n",
        "首先，我會會先將`a`, `b`, `c`, `d`四個參數設定為隨機亂數。在訓練過程中，我們將不斷的計算每次的梯度值，並利用每次的梯度值來對各項參數進行更新，此做法被稱為**[梯度下降法](https://zh.wikipedia.org/wiki/%E6%A2%AF%E5%BA%A6%E4%B8%8B%E9%99%8D%E6%B3%95)**。 "
      ],
      "metadata": {
        "id": "aeogqJBLks6P"
      }
    },
    {
      "cell_type": "markdown",
      "source": [
        "### 載入函式庫\n",
        "\n",
        "首先，我們載入需要用到的函式庫\n",
        "\n",
        "* Numpy \n",
        "* Math"
      ],
      "metadata": {
        "id": "-Qg_MDTykuu4"
      }
    },
    {
      "cell_type": "code",
      "source": [
        "import numpy as np\n",
        "import math"
      ],
      "metadata": {
        "id": "GvTrxBaekn6r"
      },
      "execution_count": 1,
      "outputs": []
    },
    {
      "cell_type": "markdown",
      "source": [
        "### 初始化變數\n",
        "\n",
        "接下來，我們要初始化所需要用到的變數，我們將會需要：\n",
        "\n",
        "* `(x, y)` 作為目標函數\n",
        "* `(a, b, c, d)` 作為學習用的隨機參數\n",
        "* `learning rate` 作為學習機率參數，用來參與梯度下降法的計算"
      ],
      "metadata": {
        "id": "pNOP7VIlk403"
      }
    },
    {
      "cell_type": "code",
      "source": [
        "# Create random input and output data\n",
        "x = np.linspace(-math.pi, math.pi, 2000)\n",
        "y = np.sin(x)\n",
        "\n",
        "# Randomly initialize weights\n",
        "a = np.random.randn()\n",
        "b = np.random.randn()\n",
        "c = np.random.randn()\n",
        "d = np.random.randn()\n",
        "\n",
        "learning_rate = 1e-6"
      ],
      "metadata": {
        "id": "LNQbX0D-lYit"
      },
      "execution_count": 2,
      "outputs": []
    },
    {
      "cell_type": "markdown",
      "source": [
        "### 進行迭代\n",
        "\n",
        "接下來，我們將進行3000次迭代來完成線性回歸。在每次的迭代中，我們將會計算每一次迭代時的損失值（loss）並利用預測值以及目標函數之間的差異計算梯度，並利用[反向傳播法](https://zh.wikipedia.org/wiki/%E5%8F%8D%E5%90%91%E4%BC%A0%E6%92%AD%E7%AE%97%E6%B3%95)更新權重。"
      ],
      "metadata": {
        "id": "VHc4wWlalmB6"
      }
    },
    {
      "cell_type": "code",
      "execution_count": 3,
      "metadata": {
        "id": "Vzab7vkvMr9F",
        "outputId": "de68f602-0732-468e-97e9-17d4ecb909a8",
        "colab": {
          "base_uri": "https://localhost:8080/"
        }
      },
      "outputs": [
        {
          "output_type": "stream",
          "name": "stdout",
          "text": [
            "99 280.29574717917944\n",
            "199 192.7226011957286\n",
            "299 133.53143330410992\n",
            "399 93.48301283111908\n",
            "499 66.358260787325\n",
            "599 47.96718538316751\n",
            "699 35.484222391323826\n",
            "799 27.002094541032008\n",
            "899 21.23210617684886\n",
            "999 17.302640766480657\n",
            "1099 14.623566317297685\n",
            "1199 12.794909722673388\n",
            "1299 11.5452903258184\n",
            "1399 10.690375959854482\n",
            "1499 10.10482242002173\n",
            "1599 9.703301218277652\n",
            "1699 9.427658937802434\n",
            "1799 9.238217422674008\n",
            "1899 9.10787317572237\n",
            "1999 9.01809095692625\n",
            "2099 8.95618050963521\n",
            "2199 8.913443400578405\n",
            "2299 8.883910540143898\n",
            "2399 8.863481129495504\n",
            "2499 8.849334721806839\n",
            "2599 8.83952930835098\n",
            "2699 8.832726254774819\n",
            "2799 8.828001835333703\n",
            "2899 8.82471795362629\n",
            "2999 8.822433361645462\n",
            "3099 8.82084262162998\n",
            "3199 8.819734094518877\n",
            "3299 8.818960992137598\n",
            "3399 8.818421409142715\n",
            "3499 8.818044534400972\n",
            "3599 8.817781119466833\n",
            "3699 8.817596883037897\n",
            "3799 8.817467942432005\n",
            "3899 8.817377646011916\n",
            "3999 8.817314374855975\n",
            "Result: y = -0.00038 + 0.85687 x + 0.00007 x^2 + -0.09335 x^3\n"
          ]
        }
      ],
      "source": [
        "for t in range(4000):\n",
        "    # Forward pass: compute predicted y\n",
        "    # y = a + b x + c x^2 + d x^3\n",
        "    y_pred = a + b * x + c * x ** 2 + d * x ** 3\n",
        "\n",
        "    # Compute and print loss\n",
        "    loss = np.square(y_pred - y).sum()\n",
        "    if t % 100 == 99:\n",
        "        print(t, loss)\n",
        "\n",
        "    # Backprop to compute gradients of a, b, c, d with respect to loss\n",
        "    grad_y_pred = 2.0 * (y_pred - y)\n",
        "    grad_a = grad_y_pred.sum()\n",
        "    grad_b = (grad_y_pred * x).sum()\n",
        "    grad_c = (grad_y_pred * x ** 2).sum()\n",
        "    grad_d = (grad_y_pred * x ** 3).sum()\n",
        "\n",
        "    # Update weights\n",
        "    a -= learning_rate * grad_a\n",
        "    b -= learning_rate * grad_b\n",
        "    c -= learning_rate * grad_c\n",
        "    d -= learning_rate * grad_d\n",
        "\n",
        "print(f'Result: y = {a:.5f} + {b:.5f} x + {c:.5f} x^2 + {d:.5f} x^3')"
      ]
    },
    {
      "cell_type": "markdown",
      "source": [
        "## 檢視成果\n",
        "\n",
        "經由上一步中的迭代，我們取得了一組參數(a, b, c, d)。我們可以利用繪圖的方式來觀察這一筆參數所描繪的曲線與我們的目標函數（正弦函數）之間有多大的差距。"
      ],
      "metadata": {
        "id": "f4ECopO4mDSM"
      }
    },
    {
      "cell_type": "code",
      "execution_count": 4,
      "metadata": {
        "id": "whUseaZQMr9J",
        "outputId": "f6d3f59b-46c1-47a2-e55d-94fd2bf41124",
        "colab": {
          "base_uri": "https://localhost:8080/",
          "height": 265
        }
      },
      "outputs": [
        {
          "output_type": "display_data",
          "data": {
            "text/plain": [
              "<Figure size 432x288 with 1 Axes>"
            ],
            "image/png": "[encoded data removed]"
          },
          "metadata": {
            "needs_background": "light"
          }
        }
      ],
      "source": [
        "import matplotlib.pyplot as plt\n",
        "plt.plot(x, y, label = 'Target')\n",
        "plt.plot(x, a+b*x+c*x**2+d*x**3, label='Predict')\n",
        "plt.legend(loc = 'upper left')\n",
        "plt.show()"
      ]
    },
    {
      "cell_type": "markdown",
      "source": [
        "由上方的圖例可以發現，雖然仍有些差距，但我們的線性回歸表現出了相當不錯的成果。如果想要或許更加接近的表現，可以藉由調`整學習率（learning rate）`或是改變我們所設定的函數$y = a + bx + cx^{2} + dx^{3}$來改善線性回歸的表現。"
      ],
      "metadata": {
        "id": "nTK4eeSDWmI2"
      }
    },
    {
      "cell_type": "markdown",
      "source": [
        ""
      ],
      "metadata": {
        "id": "7nsNUigpWo49"
      }
    },
    {
      "cell_type": "code",
      "execution_count": 5,
      "metadata": {
        "id": "M-Y0_fOQMr9K",
        "colab": {
          "base_uri": "https://localhost:8080/",
          "height": 821
        },
        "outputId": "d07e73e5-3322-4f36-810d-d95ac52cddd3"
      },
      "outputs": [
        {
          "output_type": "stream",
          "name": "stdout",
          "text": [
            "99 1042.8745939855282\n",
            "199 500.27292135346903\n",
            "299 245.85610772755325\n",
            "399 126.01874703213332\n",
            "499 69.31750359673396\n",
            "599 42.37101393862626\n",
            "699 29.51041644069271\n",
            "799 23.347359008582\n",
            "899 20.382369144865258\n",
            "999 18.95067764131747\n",
            "1099 18.256970408807057\n",
            "1199 17.919759789898663\n",
            "1299 17.755352592898994\n",
            "1399 17.674975581929687\n",
            "1499 17.635581279500215\n",
            "1599 17.61622917735096\n",
            "1699 17.606702899462913\n",
            "1799 17.602004702778217\n",
            "1899 17.599683728987408\n",
            "1999 17.59853540450198\n",
            "2099 17.5979664930352\n",
            "2199 17.597684299706245\n",
            "2299 17.597544175580573\n",
            "2399 17.597474530432912\n",
            "2499 17.59743988600037\n",
            "2599 17.59742263960255\n",
            "2699 17.597414048519795\n",
            "2799 17.59740976650405\n",
            "2899 17.597407631151903\n",
            "2999 17.59740656581969\n",
            "3099 17.59740603411392\n",
            "Result: y = 0.00002 + 0.85686 x + -0.00000 x^2 + -0.09336 x^3\n"
          ]
        },
        {
          "output_type": "display_data",
          "data": {
            "text/plain": [
              "<Figure size 432x288 with 1 Axes>"
            ],
            "image/png": "[encoded data removed]"
          },
          "metadata": {
            "needs_background": "light"
          }
        }
      ],
      "source": [
        "#@title 牛刀小試\n",
        "#@markdown 接下來，請自行調整學習率以及模型來觀察對線性回歸的表現會有怎樣的影響。\n",
        "\n",
        "#@markdown 設定學習率\n",
        "lr = 0.000001 #@param [0.00001, 0.000001, 0.0000001, 0.00000001] {type:\"raw\"} \n",
        "\n",
        "#@markdown 設定顯示頻率（每幾次迭代顯示一次損失值）\n",
        "MONITER_RATE = 100 #@param {type:\"slider\", min:100, max:10000, step:100} \n",
        "\n",
        "#@markdown 設定迭代次數\n",
        "NUM_ITER = 3100 #@param {type:\"slider\", min:100, max:10000, step:400} \n",
        "\n",
        "#@markdown 設定用來進行線性回歸的函數\n",
        "\n",
        "#@markdown 模式A : $y = a + bx$\n",
        "\n",
        "#@markdown 模式B : $y = a + bx + cx^{2}$\n",
        "\n",
        "#@markdown 模式C : $y = a + bx + cx^{2} + dx^{3}$\n",
        "\n",
        "#@markdown 模式D : $y = a + bx + cx^{2} + dx^{3} + ex^{4}$\n",
        "\n",
        "Y_PRED = 'C' #@param [\"'A'\", \"'B'\", \"'C'\", \"'D'\"] {type:\"raw\"}\n",
        "\n",
        "def reg_func(num_iter, learning_rate, target_func, moniter_rate):\n",
        "    \n",
        "    x = np.linspace(-math.pi, math.pi, 4000)\n",
        "    y = np.sin(x)\n",
        "\n",
        "    if target_func == \"A\":\n",
        "        a = np.random.randn()\n",
        "        b = np.random.randn() \n",
        "    elif target_func == \"B\":\n",
        "        a = np.random.randn()\n",
        "        b = np.random.randn() \n",
        "        c = np.random.randn()\n",
        "    elif target_func == \"C\":\n",
        "        a = np.random.randn()\n",
        "        b = np.random.randn() \n",
        "        c = np.random.randn()\n",
        "        d = np.random.randn()\n",
        "    elif target_func == \"D\":\n",
        "        a = np.random.randn()\n",
        "        b = np.random.randn() \n",
        "        c = np.random.randn()\n",
        "        d = np.random.randn()\n",
        "        e = np.random.randn()\n",
        "\n",
        "    for t in range(num_iter):\n",
        "        # Forward pass: compute predicted y\n",
        "        \n",
        "        if target_func == \"A\":\n",
        "            y_pred = a + b * x \n",
        "        elif target_func == \"B\":\n",
        "            y_pred = a + b * x + c * x ** 2 \n",
        "        elif target_func == \"C\":\n",
        "            y_pred = a + b * x + c * x ** 2 + d * x ** 3\n",
        "        elif target_func == \"D\":\n",
        "            y_pred = a + b * x + c * x ** 2 + d * x ** 3 + e * x ** 4\n",
        "\n",
        "        # Compute and print loss\n",
        "        loss = np.square(y_pred - y).sum()\n",
        "        if t % moniter_rate == 99:\n",
        "            print(t, loss)\n",
        "\n",
        "        # Backprop to compute gradients of a, b, c, d with respect to loss\n",
        "        # Update weights\n",
        "        if target_func == \"A\":\n",
        "            grad_y_pred = 2.0 * (y_pred - y)\n",
        "            grad_a = grad_y_pred.sum()\n",
        "            grad_b = (grad_y_pred * x).sum()\n",
        "\n",
        "            a -= learning_rate * grad_a\n",
        "            b -= learning_rate * grad_b\n",
        "        elif target_func == \"B\":\n",
        "            grad_y_pred = 2.0 * (y_pred - y)\n",
        "            grad_a = grad_y_pred.sum()\n",
        "            grad_b = (grad_y_pred * x).sum()\n",
        "            grad_c = (grad_y_pred * x ** 2).sum()\n",
        "\n",
        "            a -= learning_rate * grad_a\n",
        "            b -= learning_rate * grad_b\n",
        "            c -= learning_rate * grad_c\n",
        "        elif target_func == \"C\":\n",
        "            grad_y_pred = 2.0 * (y_pred - y)\n",
        "            grad_a = grad_y_pred.sum()\n",
        "            grad_b = (grad_y_pred * x).sum()\n",
        "            grad_c = (grad_y_pred * x ** 2).sum()\n",
        "            grad_d = (grad_y_pred * x ** 3).sum()\n",
        "\n",
        "            a -= learning_rate * grad_a\n",
        "            b -= learning_rate * grad_b\n",
        "            c -= learning_rate * grad_c\n",
        "            d -= learning_rate * grad_d\n",
        "        elif target_func == \"D\":\n",
        "            grad_y_pred = 2.0 * (y_pred - y)\n",
        "            grad_a = grad_y_pred.sum()\n",
        "            grad_b = (grad_y_pred * x).sum()\n",
        "            grad_c = (grad_y_pred * x ** 2).sum()\n",
        "            grad_d = (grad_y_pred * x ** 3).sum()\n",
        "            grad_e = (grad_y_pred * x ** 4).sum()\n",
        "\n",
        "            a -= learning_rate * grad_a\n",
        "            b -= learning_rate * grad_b\n",
        "            c -= learning_rate * grad_c\n",
        "            d -= learning_rate * grad_d\n",
        "            e -= learning_rate * grad_e\n",
        "\n",
        "    if target_func == \"A\":\n",
        "        print(f'Result: y = {a:.5f} + {b:.5f} x')\n",
        "        plt.plot(x, y, label = 'Target')\n",
        "        plt.plot(x, a+b*x, label='Predict')\n",
        "        plt.legend(loc = 'upper left')\n",
        "        plt.show()\n",
        "    elif target_func == \"B\":\n",
        "        print(f'Result: y = {a:.5f} + {b:.5f} x + {c:.5f} x^2')\n",
        "        plt.plot(x, y, label = 'Target')\n",
        "        plt.plot(x, a+b*x+c*x**2, label='Predict')\n",
        "        plt.legend(loc = 'upper left')\n",
        "        plt.show()\n",
        "    elif target_func == \"C\":\n",
        "        print(f'Result: y = {a:.5f} + {b:.5f} x + {c:.5f} x^2 + {d:.5f} x^3')\n",
        "        plt.plot(x, y, label = 'Target')\n",
        "        plt.plot(x, a+b*x+c*x**2+d*x**3, label='Predict')\n",
        "        plt.legend(loc = 'upper left')\n",
        "        plt.show()\n",
        "    elif target_func == \"D\":\n",
        "        print(f'Result: y = {a:.5f} + {b:.5f} x + {c:.5f} x^2 + {d:.5f} x^3 + {e:.5f} x^4')\n",
        "        plt.plot(x, y, label = 'Target')\n",
        "        plt.plot(x, a+b*x+c*x**2+d*x**3+e*x**4, label='Predict')\n",
        "        plt.legend(loc = 'upper left')\n",
        "        plt.show()\n",
        "    \n",
        "\n",
        "reg_func(NUM_ITER, lr, Y_PRED, MONITER_RATE)\n"
      ]
    },
    {
      "cell_type": "code",
      "source": [
        ""
      ],
      "metadata": {
        "id": "Jp6FrWuvc7XB"
      },
      "execution_count": 5,
      "outputs": []
    }
  ],
  "metadata": {
    "kernelspec": {
      "display_name": "Python 3",
      "language": "python",
      "name": "python3"
    },
    "language_info": {
      "codemirror_mode": {
        "name": "ipython",
        "version": 3
      },
      "file_extension": ".py",
      "mimetype": "text/x-python",
      "name": "python",
      "nbconvert_exporter": "python",
      "pygments_lexer": "ipython3",
      "version": "3.7.3"
    },
    "colab": {
      "name": "Numpy_regression.ipynb",
      "provenance": [],
      "include_colab_link": true
    }
  },
  "nbformat": 4,
  "nbformat_minor": 0
}
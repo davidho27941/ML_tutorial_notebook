{
  "nbformat": 4,
  "nbformat_minor": 0,
  "metadata": {
    "colab": {
      "provenance": [],
      "collapsed_sections": [],
      "machine_shape": "hm",
      "authorship_tag": "ABX9TyPbnBEID23dkvP+GcJLAJ/u",
      "include_colab_link": true
    },
    "kernelspec": {
      "name": "python3",
      "display_name": "Python 3"
    },
    "language_info": {
      "name": "python"
    },
    "gpuClass": "standard"
  },
  "cells": [
    {
      "cell_type": "markdown",
      "metadata": {
        "id": "view-in-github",
        "colab_type": "text"
      },
      "source": [
        "<a href=\"https://colab.research.google.com/github/davidho27941/ML_tutorial_notebook/blob/main/python_ckick_app.ipynb\" target=\"_parent\"><img src=\"https://colab.research.google.com/assets/colab-badge.svg\" alt=\"Open In Colab\"/></a>"
      ]
    },
    {
      "cell_type": "markdown",
      "source": [
        "# 利用Click模組建構指令\n"
      ],
      "metadata": {
        "id": "_tpWvbcNaJSc"
      }
    },
    {
      "cell_type": "markdown",
      "source": [
        "在命令行界面中建構帶有參數的Python程式，大家最熟悉的作法應該就是使用[argparse](https://docs.python.org/3/library/argparse.html)了吧。在本文中，我們將介紹另一個更加輕巧的作法——使用[Click](https://click.palletsprojects.com/en/8.1.x/)函式庫來建構程式。"
      ],
      "metadata": {
        "id": "pgIRitK6aLAg"
      }
    },
    {
      "cell_type": "markdown",
      "source": [
        "## Arguparse複習\n",
        "\n",
        "在介紹如何利用[Click](https://click.palletsprojects.com/en/8.1.x/)函式庫來建構程式之前，我們先來複習如何使用[argparse](https://docs.python.org/3/library/argparse.html)來建構程式。\n",
        "\n",
        "假設我們今天要建構一個帶有兩個參數，`param-a`以及`param-b`的程式。在使用[argparse](https://docs.python.org/3/library/argparse.html)的情況下，需要先建構一個基於`argparse.ArgumentParser()`的物件，並使用物件的`add_argument`方法來增加參數，並使用物件的`.parse_args()`方法來取得參數的內容。"
      ],
      "metadata": {
        "id": "QCVj7ME9aOV9"
      }
    },
    {
      "cell_type": "code",
      "execution_count": 1,
      "metadata": {
        "colab": {
          "base_uri": "https://localhost:8080/"
        },
        "id": "gv9WvLqxZ-uK",
        "outputId": "052046de-d67a-4337-9d18-285edd0523f7"
      },
      "outputs": [
        {
          "output_type": "stream",
          "name": "stdout",
          "text": [
            "Writing main.py\n"
          ]
        }
      ],
      "source": [
        "%%writefile main.py\n",
        "import argparse\n",
        "\n",
        "def main():\n",
        "    parser = argparse.ArgumentParser()\n",
        "    parser.add_argument('--param-a', dest='a', help='parameter a.')\n",
        "    parser.add_argument('--param-b', dest='b', help='parameter b.')\n",
        "    args = parser.parse_args()\n",
        "\n",
        "if __name__ == '__main__':\n",
        "    main()"
      ]
    },
    {
      "cell_type": "markdown",
      "source": [
        "將上方的程式碼儲存成一個名為`main.py`的檔案，並使用`python main.py -h`來執行的話，將得到以下的回應："
      ],
      "metadata": {
        "id": "zcfviRZAxrtI"
      }
    },
    {
      "cell_type": "code",
      "source": [
        "!python main.py -h"
      ],
      "metadata": {
        "colab": {
          "base_uri": "https://localhost:8080/"
        },
        "id": "MI_ue8S1dSfP",
        "outputId": "51a36735-bf32-4bbb-e32d-0ecb34da1c5b"
      },
      "execution_count": 2,
      "outputs": [
        {
          "output_type": "stream",
          "name": "stdout",
          "text": [
            "usage: main.py [-h] [--param-a A] [--param-b B]\n",
            "\n",
            "optional arguments:\n",
            "  -h, --help   show this help message and exit\n",
            "  --param-a A  parameter a.\n",
            "  --param-b B  parameter b.\n"
          ]
        }
      ]
    },
    {
      "cell_type": "markdown",
      "source": [
        "可以發現，`app.py`確實具有兩個參數。"
      ],
      "metadata": {
        "id": "yW4N0q-QxtuH"
      }
    },
    {
      "cell_type": "markdown",
      "source": [
        "## 利用Click實作\n",
        "\n",
        "我們可以使用[Click](https://click.palletsprojects.com/en/8.1.x/)函式庫來實作上一章節的程式。"
      ],
      "metadata": {
        "id": "QLJ2gsaMxuNe"
      }
    },
    {
      "cell_type": "code",
      "source": [
        "%%writefile click_imp.py\n",
        "import click\n",
        "\n",
        "@click.command()\n",
        "@click.option('--param-a', 'a', help='parameter a.')\n",
        "@click.option('--param-b', 'b', help='parameter b.')\n",
        "def main(a,b):\n",
        "    print(a,b)\n",
        "    \n",
        "if __name__ == '__main__':\n",
        "    main()"
      ],
      "metadata": {
        "id": "tqaits--dZmg",
        "colab": {
          "base_uri": "https://localhost:8080/"
        },
        "outputId": "04b2ec8d-12e2-46df-cda2-aaf4d6ce6f95"
      },
      "execution_count": 11,
      "outputs": [
        {
          "output_type": "stream",
          "name": "stdout",
          "text": [
            "Overwriting click_imp.py\n"
          ]
        }
      ]
    },
    {
      "cell_type": "markdown",
      "source": [
        "同樣的，我們也可以將其儲存成名為`click_imp.py`並嘗試使用`python click_imp.py --help`執行，並查看幫助訊息。以下是幫助訊息："
      ],
      "metadata": {
        "id": "-XtruUhmxxLS"
      }
    },
    {
      "cell_type": "code",
      "source": [
        "!python click_imp.py --help"
      ],
      "metadata": {
        "colab": {
          "base_uri": "https://localhost:8080/"
        },
        "id": "kFFVxTd4gG_G",
        "outputId": "0f063104-6530-4ab8-efb1-17cd6eb2e01d"
      },
      "execution_count": 12,
      "outputs": [
        {
          "output_type": "stream",
          "name": "stdout",
          "text": [
            "Usage: click_imp.py [OPTIONS]\n",
            "\n",
            "Options:\n",
            "  --param-a TEXT  parameter a.\n",
            "  --param-b TEXT  parameter b.\n",
            "  --help          Show this message and exit.\n"
          ]
        }
      ]
    },
    {
      "cell_type": "markdown",
      "source": [
        "## 細說Click函式庫\n",
        "\n",
        "如果說[argparse](https://docs.python.org/3/library/argparse.html)是一個提供完整客製化選項的一個函式庫的話，那麽[Click](https://click.palletsprojects.com/en/8.1.x/)函式庫就是在去蕪存菁的基礎之上，提供更簡便的設定方式。藉由[Click](https://click.palletsprojects.com/en/8.1.x/)的協助，我們可以用最簡潔的方式建構程式的參數系統。\n",
        "\n",
        "相較於[argparse](https://docs.python.org/3/library/argparse.html)需要建立一個物件並一個一個詳細的輸入參數，再使用`.parse_args()`方法取得參數的內容。[Click](https://click.palletsprojects.com/en/8.1.x/)的作法是用裝飾器以及參數來建夠參數系統。相較之下，使用Click的好處是不需要在手動建立兩個物件，只需要在裝飾器填入所需資訊即可。"
      ],
      "metadata": {
        "id": "BMG2hnYuxznS"
      }
    },
    {
      "cell_type": "markdown",
      "source": [
        "## 進階使用 — 建構多指令程式\n",
        "\n",
        "在[Click](https://click.palletsprojects.com/en/8.1.x/)所提供的功能中，有一項是「巢狀指令」(Nesting Commands)。巢狀指令功能可以允許我們在同一個程式中，建構不同的指令，並為個別的指令設定不同的參數。\n",
        "\n",
        "假設我們要建構一個程式`click_nc.py`，這個程式有兩個指令，分別為`shout`以及`murmur`。這兩個函式的功能如下：\n",
        "\n",
        "* 當使用`shout`模式時，將使用指定的程度喊出給定的句子。\n",
        "* 當使用`murmur`模式時，將使用持續輸出給定的句子直到給定的時間結束。\n",
        "\n",
        "由於功能的實作並非重點，我們在此就只佈署指令本身，不佈署指令的詳細程式碼。\n",
        "\n",
        "> 關於巢狀指令，詳細可以參考[官方文件](https://click.palletsprojects.com/en/8.1.x/quickstart/#nesting-commands)的說明。"
      ],
      "metadata": {
        "id": "6kJ-bAb2x05E"
      }
    },
    {
      "cell_type": "code",
      "source": [
        "%%writefile click_nc.py\n",
        "import click\n",
        "\n",
        "@click.group()\n",
        "def main():\n",
        "    pass\n",
        "\n",
        "@click.command(help='Shout a given sentence with specific level.')\n",
        "@click.option(\"--level\", 'level', help='Level to shout.')\n",
        "@click.option(\"--sentence\", 'sentence', help='Sentence to shout.')\n",
        "def shout(level, sentence):\n",
        "    # implement the process here\n",
        "    pass\n",
        "\n",
        "@click.command(help='Keep murmur something for a given duration.')\n",
        "@click.option(\"--duration\", 'duration', help='How long.')\n",
        "@click.option(\"--sentence\", 'sentence', help='Sentence to murmur.')\n",
        "def murmur(duration, sentence):\n",
        "    # implement the process here\n",
        "    pass\n",
        "\n",
        "if __name__ == '__main__':\n",
        "    main.add_command(shout)\n",
        "    main.add_command(murmur)\n",
        "    main()"
      ],
      "metadata": {
        "colab": {
          "base_uri": "https://localhost:8080/"
        },
        "id": "BKAnKtB1gIf2",
        "outputId": "d03ce655-3a2b-46ba-f159-1df851aea284"
      },
      "execution_count": 30,
      "outputs": [
        {
          "output_type": "stream",
          "name": "stdout",
          "text": [
            "Overwriting click_nc.py\n"
          ]
        }
      ]
    },
    {
      "cell_type": "markdown",
      "source": [
        "將上方的程式碼儲存成名為`click_nc.py`的檔案並執行命令`python click_nc.py --help`，將會看到以下協助訊息："
      ],
      "metadata": {
        "id": "KXzaLb-tx3XJ"
      }
    },
    {
      "cell_type": "code",
      "source": [
        "!python click_nc.py --help"
      ],
      "metadata": {
        "colab": {
          "base_uri": "https://localhost:8080/"
        },
        "id": "DJCV9fvatxvU",
        "outputId": "16074989-f6f4-4e04-e2d7-552d3028d883"
      },
      "execution_count": 31,
      "outputs": [
        {
          "output_type": "stream",
          "name": "stdout",
          "text": [
            "Usage: click_nc.py [OPTIONS] COMMAND [ARGS]...\n",
            "\n",
            "Options:\n",
            "  --help  Show this message and exit.\n",
            "\n",
            "Commands:\n",
            "  murmur  Keep murmur something for a given...\n",
            "  shout   Shout a given sentence with specific...\n"
          ]
        }
      ]
    },
    {
      "cell_type": "markdown",
      "source": [
        "可以看見程式告知有兩個命令可以使用。\n",
        "\n",
        "當我們選擇`murmur`指令並執行`python click_nc.py murmur --help`命令後，將會得到以下資訊："
      ],
      "metadata": {
        "id": "nuX2b8Rsx4rz"
      }
    },
    {
      "cell_type": "code",
      "source": [
        "!python click_nc.py murmur --help"
      ],
      "metadata": {
        "colab": {
          "base_uri": "https://localhost:8080/"
        },
        "id": "Z-F45W6rt1Du",
        "outputId": "b553bed7-c0a9-491b-851a-cf7ab4da0277"
      },
      "execution_count": 32,
      "outputs": [
        {
          "output_type": "stream",
          "name": "stdout",
          "text": [
            "Usage: click_nc.py murmur [OPTIONS]\n",
            "\n",
            "  Keep murmur something for a given duration.\n",
            "\n",
            "Options:\n",
            "  --duration TEXT  How long.\n",
            "  --sentence TEXT  Sentence to murmur.\n",
            "  --help           Show this message and exit.\n"
          ]
        }
      ]
    },
    {
      "cell_type": "markdown",
      "source": [
        "可以發現，可用的指令以及幫助訊息都發生了變化。幫助訊息變成了使用`murmur`指令的參數說明以及`murmur`指令本身的介紹。\n",
        "\n",
        "恭喜！我們成功利用[Click](https://click.palletsprojects.com/en/8.1.x/)為我們的程式新增了兩個指令以及對應的參數。"
      ],
      "metadata": {
        "id": "ymZGwnf9x6DE"
      }
    },
    {
      "cell_type": "markdown",
      "source": [
        "## 結語\n",
        "\n",
        "[Click](https://click.palletsprojects.com/en/8.1.x/)函式庫是一個非常方便的函式庫，可以讓我們快速的建構出不同的指令以及參數結構。除了本文介紹的內容以外，[Click](https://click.palletsprojects.com/en/8.1.x/)還有許多好用的功能，建議大家可以到官方文件中發掘適合自己的功能！"
      ],
      "metadata": {
        "id": "EwdE0fLqx8Rq"
      }
    }
  ]
}
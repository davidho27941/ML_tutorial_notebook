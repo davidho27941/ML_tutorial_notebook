{
  "nbformat": 4,
  "nbformat_minor": 0,
  "metadata": {
    "colab": {
      "name": "Build_model_tensorflow.ipynb",
      "provenance": [],
      "authorship_tag": "ABX9TyOQxMY5iQYOiAN2INs8THZW",
      "include_colab_link": true
    },
    "kernelspec": {
      "name": "python3",
      "display_name": "Python 3"
    },
    "language_info": {
      "name": "python"
    },
    "accelerator": "GPU",
    "widgets": {
      "application/vnd.jupyter.widget-state+json": {
        "b1e18d0fa91a4cd9be8fa2666cc7cb0b": {
          "model_module": "@jupyter-widgets/controls",
          "model_name": "HBoxModel",
          "model_module_version": "1.5.0",
          "state": {
            "_dom_classes": [],
            "_model_module": "@jupyter-widgets/controls",
            "_model_module_version": "1.5.0",
            "_model_name": "HBoxModel",
            "_view_count": null,
            "_view_module": "@jupyter-widgets/controls",
            "_view_module_version": "1.5.0",
            "_view_name": "HBoxView",
            "box_style": "",
            "children": [
              "IPY_MODEL_3dd9944898f84ef585982333f1ab9d7b",
              "IPY_MODEL_c1751b0ebcb549bdb4368fa1afe840c9",
              "IPY_MODEL_1c5c6db9fedb4b9fba37326deae203b2"
            ],
            "layout": "IPY_MODEL_f8031be85696467c8004a1099f3d35ac"
          }
        },
        "3dd9944898f84ef585982333f1ab9d7b": {
          "model_module": "@jupyter-widgets/controls",
          "model_name": "HTMLModel",
          "model_module_version": "1.5.0",
          "state": {
            "_dom_classes": [],
            "_model_module": "@jupyter-widgets/controls",
            "_model_module_version": "1.5.0",
            "_model_name": "HTMLModel",
            "_view_count": null,
            "_view_module": "@jupyter-widgets/controls",
            "_view_module_version": "1.5.0",
            "_view_name": "HTMLView",
            "description": "",
            "description_tooltip": null,
            "layout": "IPY_MODEL_e20428c573284d00b9f575e2596e47c6",
            "placeholder": "​",
            "style": "IPY_MODEL_77038fcb729940d6a201de44ca19ddb3",
            "value": "Dl Completed...: 100%"
          }
        },
        "c1751b0ebcb549bdb4368fa1afe840c9": {
          "model_module": "@jupyter-widgets/controls",
          "model_name": "FloatProgressModel",
          "model_module_version": "1.5.0",
          "state": {
            "_dom_classes": [],
            "_model_module": "@jupyter-widgets/controls",
            "_model_module_version": "1.5.0",
            "_model_name": "FloatProgressModel",
            "_view_count": null,
            "_view_module": "@jupyter-widgets/controls",
            "_view_module_version": "1.5.0",
            "_view_name": "ProgressView",
            "bar_style": "success",
            "description": "",
            "description_tooltip": null,
            "layout": "IPY_MODEL_97e190aeb11f479c926c031e8adaf8f4",
            "max": 4,
            "min": 0,
            "orientation": "horizontal",
            "style": "IPY_MODEL_0bfaace4a2204880a2d5a4e1f3938849",
            "value": 4
          }
        },
        "1c5c6db9fedb4b9fba37326deae203b2": {
          "model_module": "@jupyter-widgets/controls",
          "model_name": "HTMLModel",
          "model_module_version": "1.5.0",
          "state": {
            "_dom_classes": [],
            "_model_module": "@jupyter-widgets/controls",
            "_model_module_version": "1.5.0",
            "_model_name": "HTMLModel",
            "_view_count": null,
            "_view_module": "@jupyter-widgets/controls",
            "_view_module_version": "1.5.0",
            "_view_name": "HTMLView",
            "description": "",
            "description_tooltip": null,
            "layout": "IPY_MODEL_f4b15446a6fe4845aaa371ca29ed7063",
            "placeholder": "​",
            "style": "IPY_MODEL_3e84db0d12ab4d85837fb018f7cc6bd1",
            "value": " 4/4 [00:01&lt;00:00,  3.04 file/s]"
          }
        },
        "f8031be85696467c8004a1099f3d35ac": {
          "model_module": "@jupyter-widgets/base",
          "model_name": "LayoutModel",
          "model_module_version": "1.2.0",
          "state": {
            "_model_module": "@jupyter-widgets/base",
            "_model_module_version": "1.2.0",
            "_model_name": "LayoutModel",
            "_view_count": null,
            "_view_module": "@jupyter-widgets/base",
            "_view_module_version": "1.2.0",
            "_view_name": "LayoutView",
            "align_content": null,
            "align_items": null,
            "align_self": null,
            "border": null,
            "bottom": null,
            "display": null,
            "flex": null,
            "flex_flow": null,
            "grid_area": null,
            "grid_auto_columns": null,
            "grid_auto_flow": null,
            "grid_auto_rows": null,
            "grid_column": null,
            "grid_gap": null,
            "grid_row": null,
            "grid_template_areas": null,
            "grid_template_columns": null,
            "grid_template_rows": null,
            "height": null,
            "justify_content": null,
            "justify_items": null,
            "left": null,
            "margin": null,
            "max_height": null,
            "max_width": null,
            "min_height": null,
            "min_width": null,
            "object_fit": null,
            "object_position": null,
            "order": null,
            "overflow": null,
            "overflow_x": null,
            "overflow_y": null,
            "padding": null,
            "right": null,
            "top": null,
            "visibility": null,
            "width": null
          }
        },
        "e20428c573284d00b9f575e2596e47c6": {
          "model_module": "@jupyter-widgets/base",
          "model_name": "LayoutModel",
          "model_module_version": "1.2.0",
          "state": {
            "_model_module": "@jupyter-widgets/base",
            "_model_module_version": "1.2.0",
            "_model_name": "LayoutModel",
            "_view_count": null,
            "_view_module": "@jupyter-widgets/base",
            "_view_module_version": "1.2.0",
            "_view_name": "LayoutView",
            "align_content": null,
            "align_items": null,
            "align_self": null,
            "border": null,
            "bottom": null,
            "display": null,
            "flex": null,
            "flex_flow": null,
            "grid_area": null,
            "grid_auto_columns": null,
            "grid_auto_flow": null,
            "grid_auto_rows": null,
            "grid_column": null,
            "grid_gap": null,
            "grid_row": null,
            "grid_template_areas": null,
            "grid_template_columns": null,
            "grid_template_rows": null,
            "height": null,
            "justify_content": null,
            "justify_items": null,
            "left": null,
            "margin": null,
            "max_height": null,
            "max_width": null,
            "min_height": null,
            "min_width": null,
            "object_fit": null,
            "object_position": null,
            "order": null,
            "overflow": null,
            "overflow_x": null,
            "overflow_y": null,
            "padding": null,
            "right": null,
            "top": null,
            "visibility": null,
            "width": null
          }
        },
        "77038fcb729940d6a201de44ca19ddb3": {
          "model_module": "@jupyter-widgets/controls",
          "model_name": "DescriptionStyleModel",
          "model_module_version": "1.5.0",
          "state": {
            "_model_module": "@jupyter-widgets/controls",
            "_model_module_version": "1.5.0",
            "_model_name": "DescriptionStyleModel",
            "_view_count": null,
            "_view_module": "@jupyter-widgets/base",
            "_view_module_version": "1.2.0",
            "_view_name": "StyleView",
            "description_width": ""
          }
        },
        "97e190aeb11f479c926c031e8adaf8f4": {
          "model_module": "@jupyter-widgets/base",
          "model_name": "LayoutModel",
          "model_module_version": "1.2.0",
          "state": {
            "_model_module": "@jupyter-widgets/base",
            "_model_module_version": "1.2.0",
            "_model_name": "LayoutModel",
            "_view_count": null,
            "_view_module": "@jupyter-widgets/base",
            "_view_module_version": "1.2.0",
            "_view_name": "LayoutView",
            "align_content": null,
            "align_items": null,
            "align_self": null,
            "border": null,
            "bottom": null,
            "display": null,
            "flex": null,
            "flex_flow": null,
            "grid_area": null,
            "grid_auto_columns": null,
            "grid_auto_flow": null,
            "grid_auto_rows": null,
            "grid_column": null,
            "grid_gap": null,
            "grid_row": null,
            "grid_template_areas": null,
            "grid_template_columns": null,
            "grid_template_rows": null,
            "height": null,
            "justify_content": null,
            "justify_items": null,
            "left": null,
            "margin": null,
            "max_height": null,
            "max_width": null,
            "min_height": null,
            "min_width": null,
            "object_fit": null,
            "object_position": null,
            "order": null,
            "overflow": null,
            "overflow_x": null,
            "overflow_y": null,
            "padding": null,
            "right": null,
            "top": null,
            "visibility": null,
            "width": null
          }
        },
        "0bfaace4a2204880a2d5a4e1f3938849": {
          "model_module": "@jupyter-widgets/controls",
          "model_name": "ProgressStyleModel",
          "model_module_version": "1.5.0",
          "state": {
            "_model_module": "@jupyter-widgets/controls",
            "_model_module_version": "1.5.0",
            "_model_name": "ProgressStyleModel",
            "_view_count": null,
            "_view_module": "@jupyter-widgets/base",
            "_view_module_version": "1.2.0",
            "_view_name": "StyleView",
            "bar_color": null,
            "description_width": ""
          }
        },
        "f4b15446a6fe4845aaa371ca29ed7063": {
          "model_module": "@jupyter-widgets/base",
          "model_name": "LayoutModel",
          "model_module_version": "1.2.0",
          "state": {
            "_model_module": "@jupyter-widgets/base",
            "_model_module_version": "1.2.0",
            "_model_name": "LayoutModel",
            "_view_count": null,
            "_view_module": "@jupyter-widgets/base",
            "_view_module_version": "1.2.0",
            "_view_name": "LayoutView",
            "align_content": null,
            "align_items": null,
            "align_self": null,
            "border": null,
            "bottom": null,
            "display": null,
            "flex": null,
            "flex_flow": null,
            "grid_area": null,
            "grid_auto_columns": null,
            "grid_auto_flow": null,
            "grid_auto_rows": null,
            "grid_column": null,
            "grid_gap": null,
            "grid_row": null,
            "grid_template_areas": null,
            "grid_template_columns": null,
            "grid_template_rows": null,
            "height": null,
            "justify_content": null,
            "justify_items": null,
            "left": null,
            "margin": null,
            "max_height": null,
            "max_width": null,
            "min_height": null,
            "min_width": null,
            "object_fit": null,
            "object_position": null,
            "order": null,
            "overflow": null,
            "overflow_x": null,
            "overflow_y": null,
            "padding": null,
            "right": null,
            "top": null,
            "visibility": null,
            "width": null
          }
        },
        "3e84db0d12ab4d85837fb018f7cc6bd1": {
          "model_module": "@jupyter-widgets/controls",
          "model_name": "DescriptionStyleModel",
          "model_module_version": "1.5.0",
          "state": {
            "_model_module": "@jupyter-widgets/controls",
            "_model_module_version": "1.5.0",
            "_model_name": "DescriptionStyleModel",
            "_view_count": null,
            "_view_module": "@jupyter-widgets/base",
            "_view_module_version": "1.2.0",
            "_view_name": "StyleView",
            "description_width": ""
          }
        }
      }
    }
  },
  "cells": [
    {
      "cell_type": "markdown",
      "metadata": {
        "id": "view-in-github",
        "colab_type": "text"
      },
      "source": [
        "<a href=\"https://colab.research.google.com/github/davidho27941/ML_tutorial_notebook/blob/main/Build_model_tensorflow.ipynb\" target=\"_parent\"><img src=\"https://colab.research.google.com/assets/colab-badge.svg\" alt=\"Open In Colab\"/></a>"
      ]
    },
    {
      "cell_type": "markdown",
      "source": [
        "# 基於TesnorFlow平台的基本模型建立\n",
        "---\n",
        "## 載入必要函式庫以及資料集\n",
        "\n",
        "為了在`TensorFlow`建立模型，我們需要導入以下函式庫：\n",
        "\n",
        "* tensorflow \n",
        "* tensorflow-datasets\n",
        "\n",
        "以及常用的資料處理函式庫：\n",
        "\n",
        "* Numpy \n",
        "* Pandas\n",
        "\n",
        "我們可以透過`tf.config.list_physical_devices('GPU')`來確認GPU是否可用，並選擇在CPU或是GPU上運行我們的程式。"
      ],
      "metadata": {
        "id": "0rWrXBG_csBC"
      }
    },
    {
      "cell_type": "code",
      "execution_count": 1,
      "metadata": {
        "id": "l05jzHHeE7RE",
        "colab": {
          "base_uri": "https://localhost:8080/"
        },
        "outputId": "9f95e434-676a-4ccc-df94-a42089320be2"
      },
      "outputs": [
        {
          "output_type": "execute_result",
          "data": {
            "text/plain": [
              "[PhysicalDevice(name='/physical_device:GPU:0', device_type='GPU')]"
            ]
          },
          "metadata": {},
          "execution_count": 1
        }
      ],
      "source": [
        "import tensorflow as tf \n",
        "import tensorflow_datasets as tfds\n",
        "import numpy as np\n",
        "import pandas as pd\n",
        "\n",
        "tf.config.list_physical_devices('GPU')"
      ]
    },
    {
      "cell_type": "markdown",
      "source": [
        "---\n",
        "## 匯入MNIST資料集\n",
        "\n",
        "在此範例中，我們一樣會使用MNIST資料集進行示範。\n",
        "在載入時，我們需要使用`tensorflow-datasets`的`tfds.load()`函式來抽取MNSIT資料集。並利用經由`tf.data.Dataset`的`map()`方法對資料集進行轉置；最後，我們設定批次數量為64。\n",
        "\n",
        "我們將分別導入訓練資料集以及測試資料集作為訓練以及測試使用。"
      ],
      "metadata": {
        "id": "fxItFbrvfnOi"
      }
    },
    {
      "cell_type": "code",
      "source": [
        "train_ds, train_ds_info = tfds.load(name=\"mnist\", \n",
        "                    split='train', \n",
        "                    with_info=True, \n",
        "                    as_supervised=True)\n",
        "\n",
        "test_ds, test_ds_info = tfds.load(name=\"mnist\", \n",
        "                    split='test', \n",
        "                    with_info=True, \n",
        "                    as_supervised=True)\n",
        "\n",
        "def preprocess(x, y):\n",
        "    x = x/255\n",
        "    x = tf.reshape(x, [784])\n",
        "\n",
        "    y = tf.one_hot(y, 10)  \n",
        "    return x, y\n",
        "\n",
        "train_ds = train_ds.map(lambda x, y: preprocess(x, y)).batch(64)\n",
        "test_ds = test_ds.map(lambda x, y: preprocess(x, y)).batch(64)"
      ],
      "metadata": {
        "id": "gbqukyCqc8xt",
        "colab": {
          "base_uri": "https://localhost:8080/",
          "height": 188,
          "referenced_widgets": [
            "b1e18d0fa91a4cd9be8fa2666cc7cb0b",
            "3dd9944898f84ef585982333f1ab9d7b",
            "c1751b0ebcb549bdb4368fa1afe840c9",
            "1c5c6db9fedb4b9fba37326deae203b2",
            "f8031be85696467c8004a1099f3d35ac",
            "e20428c573284d00b9f575e2596e47c6",
            "77038fcb729940d6a201de44ca19ddb3",
            "97e190aeb11f479c926c031e8adaf8f4",
            "0bfaace4a2204880a2d5a4e1f3938849",
            "f4b15446a6fe4845aaa371ca29ed7063",
            "3e84db0d12ab4d85837fb018f7cc6bd1"
          ]
        },
        "outputId": "26fd6997-eb86-4dd4-cad2-fe85df35af57"
      },
      "execution_count": 2,
      "outputs": [
        {
          "output_type": "stream",
          "name": "stdout",
          "text": [
            "\u001b[1mDownloading and preparing dataset mnist/3.0.1 (download: 11.06 MiB, generated: 21.00 MiB, total: 32.06 MiB) to /root/tensorflow_datasets/mnist/3.0.1...\u001b[0m\n"
          ]
        },
        {
          "output_type": "stream",
          "name": "stderr",
          "text": [
            "WARNING:absl:Dataset mnist is hosted on GCS. It will automatically be downloaded to your\n",
            "local data directory. If you'd instead prefer to read directly from our public\n",
            "GCS bucket (recommended if you're running on GCP), you can instead pass\n",
            "`try_gcs=True` to `tfds.load` or set `data_dir=gs://tfds-data/datasets`.\n",
            "\n"
          ]
        },
        {
          "output_type": "display_data",
          "data": {
            "text/plain": [
              "Dl Completed...:   0%|          | 0/4 [00:00<?, ? file/s]"
            ],
            "application/vnd.jupyter.widget-view+json": {
              "version_major": 2,
              "version_minor": 0,
              "model_id": "b1e18d0fa91a4cd9be8fa2666cc7cb0b"
            }
          },
          "metadata": {}
        },
        {
          "output_type": "stream",
          "name": "stdout",
          "text": [
            "\n",
            "\u001b[1mDataset mnist downloaded and prepared to /root/tensorflow_datasets/mnist/3.0.1. Subsequent calls will reuse this data.\u001b[0m\n"
          ]
        }
      ]
    },
    {
      "cell_type": "markdown",
      "source": [
        "---\n",
        "## 建立順序式模型\n",
        "\n",
        "在`TensorFlow`之中，建立順序是模型可以透過`tf.kears.Sequential()`函式來進行。主要有兩種作作法。\n",
        "\n",
        "1. 先行建立`model`物件，並透過`model.add()`方法為模型添加結構。\n",
        "2. 利用`tf.kears.Sequential`建立模型時，直接在參數內填入模型結構。"
      ],
      "metadata": {
        "id": "sUug2qgpnYoL"
      }
    },
    {
      "cell_type": "markdown",
      "source": [
        "### 方法一"
      ],
      "metadata": {
        "id": "hUuEbK5WFHV9"
      }
    },
    {
      "cell_type": "code",
      "source": [
        "model_1 = tf.keras.Sequential()\n",
        "model_1.add(tf.keras.layers.InputLayer(input_shape=(784)))\n",
        "model_1.add(tf.keras.layers.Dense(128, activation='relu'))\n",
        "model_1.add(tf.keras.layers.Dense(64, activation='relu'))\n",
        "model_1.add(tf.keras.layers.Dense(10, activation='softmax'))\n",
        "\n",
        "model_1.summary()"
      ],
      "metadata": {
        "colab": {
          "base_uri": "https://localhost:8080/"
        },
        "id": "37YhkhdngaCP",
        "outputId": "1b01287b-cc20-4f8e-dc5b-09a8d1d3f3d0"
      },
      "execution_count": 3,
      "outputs": [
        {
          "output_type": "stream",
          "name": "stdout",
          "text": [
            "Model: \"sequential\"\n",
            "_________________________________________________________________\n",
            " Layer (type)                Output Shape              Param #   \n",
            "=================================================================\n",
            " dense (Dense)               (None, 128)               100480    \n",
            "                                                                 \n",
            " dense_1 (Dense)             (None, 64)                8256      \n",
            "                                                                 \n",
            " dense_2 (Dense)             (None, 10)                650       \n",
            "                                                                 \n",
            "=================================================================\n",
            "Total params: 109,386\n",
            "Trainable params: 109,386\n",
            "Non-trainable params: 0\n",
            "_________________________________________________________________\n"
          ]
        }
      ]
    },
    {
      "cell_type": "markdown",
      "source": [
        "### 方法二"
      ],
      "metadata": {
        "id": "0Xx3G_I4FKMT"
      }
    },
    {
      "cell_type": "code",
      "source": [
        "model_2 = tf.keras.Sequential([\n",
        "                             tf.keras.layers.InputLayer(input_shape=(784)), \n",
        "                             tf.keras.layers.Dense(128, activation='relu'), \n",
        "                             tf.keras.layers.Dense(64, activation='relu'), \n",
        "                             tf.keras.layers.Dense(10, activation='softmax'),\n",
        "                            ])\n",
        "\n",
        "model_2.summary()"
      ],
      "metadata": {
        "id": "zCJd_-Q3wnNH",
        "colab": {
          "base_uri": "https://localhost:8080/"
        },
        "outputId": "e1cf0d3f-c321-4221-8e29-8f60645db6dd"
      },
      "execution_count": 4,
      "outputs": [
        {
          "output_type": "stream",
          "name": "stdout",
          "text": [
            "Model: \"sequential_1\"\n",
            "_________________________________________________________________\n",
            " Layer (type)                Output Shape              Param #   \n",
            "=================================================================\n",
            " dense_3 (Dense)             (None, 128)               100480    \n",
            "                                                                 \n",
            " dense_4 (Dense)             (None, 64)                8256      \n",
            "                                                                 \n",
            " dense_5 (Dense)             (None, 10)                650       \n",
            "                                                                 \n",
            "=================================================================\n",
            "Total params: 109,386\n",
            "Trainable params: 109,386\n",
            "Non-trainable params: 0\n",
            "_________________________________________________________________\n"
          ]
        }
      ]
    },
    {
      "cell_type": "markdown",
      "source": [
        "---\n",
        "## 設定各項超參數、損失函數以及優化器\n",
        "\n"
      ],
      "metadata": {
        "id": "1S0ETCX1FpSo"
      }
    },
    {
      "cell_type": "code",
      "source": [
        "EPOCHS = 29 #@param {type:\"slider\", min:1, max:100, setp: 1}\n",
        "LR = 1e-2 #@param {type:\"number\"}\n",
        "OPTIMIZER = \"adam\" #@param [\"adam\", \"SGD\"]\n",
        "LOSS_FN = \"binary_crossentropy\" #@param [\"binary_crossentropy\", \"categorical_crossentropy\"]\n",
        "\n",
        "if OPTIMIZER == 'adam':\n",
        "    optimizer = tf.keras.optimizers.Adam(learning_rate = LR)\n",
        "elif OPTIMIZER == 'SGD':\n",
        "    momentum = 0.4 #@param {type:\"slider\", min:0, max:1, step:0.1}\n",
        "    optimizer = tf.keras.optimizers.SGD(learning_rate = LR, \n",
        "                                        momentum = momentum)\n"
      ],
      "metadata": {
        "id": "rteqkPg6Fv2I"
      },
      "execution_count": 5,
      "outputs": []
    },
    {
      "cell_type": "markdown",
      "source": [
        "---\n",
        "## 進行訓練\n",
        "\n",
        "在建立模型，並設定好超參數以及優化器之後，我們可以利用`model.compile()`對模型進行編譯，並利用`model.fit()`進行訓練。\n",
        "\n",
        "### 編譯模型\n",
        "\n",
        "在模型建立之後，我們必須利用`model.compile()`對模型的優化器、損失函數以及評估量尺等選項進行設定。\n",
        "\n",
        "需要設定的選項如下：\n",
        "\n",
        "* 優化器（optimizer）\n",
        "* 損失函數（loss function）\n",
        "* 評估量尺（metrics）\n",
        "\n",
        "可選設定如下：\n",
        "* 損失函數權重（loss weights）\n",
        "* 權重矩陣（weighted metrics）\n",
        "* 除錯模式（run_eagerly）\n",
        "\n",
        "> 更多選項可以至[官方文件](https://www.tensorflow.org/api_docs/python/tf/keras/Model#compile)了解"
      ],
      "metadata": {
        "id": "bJlipl3cGHgD"
      }
    },
    {
      "cell_type": "code",
      "source": [
        "model_1.compile(loss = LOSS_FN, \n",
        "                optimizer = optimizer, \n",
        "                metrics=['acc'])"
      ],
      "metadata": {
        "id": "HLpw7oHcJ_fE"
      },
      "execution_count": 6,
      "outputs": []
    },
    {
      "cell_type": "markdown",
      "source": [
        "---\n",
        "### 進行訓練\n",
        "\n",
        "當模型編譯完成後，我們就可以開始進行訓練。訓練的方式為利用`model.fit()`函數搭配相關的參數進行訓練。`model.fit()`在訓練結束後，將會回傳一個帶有訓練歷史資訊的物件，我們可以建立一個`history`變數用以儲存回傳值，並在後續對訓練過程進行了解。\n",
        "\n",
        "必要的參數有：\n",
        "\n",
        "* 輸入資料以及標籤（x, y）\n",
        "* 批次內資料數量（batch_size）\n",
        "* 週期數量（epochs）\n",
        "* 顯示模式（verbose）\n",
        "\n",
        "> 資料輸入的形式以及設定可以參照我們先前的[介紹](https://hackmd.io/@davidho9713/HyfHBzcxY/%2F86N1lvF2SdaRkcnuuWeJTg)。\n",
        "\n",
        "可選設定如下：\n",
        "* 回測函式（callbacks）\n",
        "* 驗證資料集以及標籤（validation_data）\n",
        "* 驗證比例（validation_split）\n",
        "\n",
        "> 更多的選項可至[官方文件](https://www.tensorflow.org/api_docs/python/tf/keras/Model#compile)查閱。\n"
      ],
      "metadata": {
        "id": "uyOS8LgiLiWs"
      }
    },
    {
      "cell_type": "code",
      "source": [
        "history = model_1.fit(train_ds, \n",
        "            epochs = EPOCHS, \n",
        "            verbose = 1)"
      ],
      "metadata": {
        "colab": {
          "base_uri": "https://localhost:8080/"
        },
        "id": "4WsR3fPsLfeN",
        "outputId": "fd50b29d-9ec2-4939-bc75-3e7c62d1e95d"
      },
      "execution_count": 7,
      "outputs": [
        {
          "output_type": "stream",
          "name": "stdout",
          "text": [
            "Epoch 1/29\n",
            "938/938 [==============================] - 16s 11ms/step - loss: 0.0436 - acc: 0.9277\n",
            "Epoch 2/29\n",
            "938/938 [==============================] - 5s 6ms/step - loss: 0.0228 - acc: 0.9639\n",
            "Epoch 3/29\n",
            "938/938 [==============================] - 5s 6ms/step - loss: 0.0187 - acc: 0.9713\n",
            "Epoch 4/29\n",
            "938/938 [==============================] - 5s 6ms/step - loss: 0.0165 - acc: 0.9750\n",
            "Epoch 5/29\n",
            "938/938 [==============================] - 5s 6ms/step - loss: 0.0154 - acc: 0.9762\n",
            "Epoch 6/29\n",
            "938/938 [==============================] - 5s 6ms/step - loss: 0.0139 - acc: 0.9791\n",
            "Epoch 7/29\n",
            "938/938 [==============================] - 6s 6ms/step - loss: 0.0138 - acc: 0.9795\n",
            "Epoch 8/29\n",
            "938/938 [==============================] - 5s 6ms/step - loss: 0.0129 - acc: 0.9812\n",
            "Epoch 9/29\n",
            "938/938 [==============================] - 5s 6ms/step - loss: 0.0116 - acc: 0.9829\n",
            "Epoch 10/29\n",
            "938/938 [==============================] - 5s 6ms/step - loss: 0.0105 - acc: 0.9841\n",
            "Epoch 11/29\n",
            "938/938 [==============================] - 5s 6ms/step - loss: 0.0108 - acc: 0.9841\n",
            "Epoch 12/29\n",
            "938/938 [==============================] - 5s 6ms/step - loss: 0.0095 - acc: 0.9863\n",
            "Epoch 13/29\n",
            "938/938 [==============================] - 5s 6ms/step - loss: 0.0096 - acc: 0.9857\n",
            "Epoch 14/29\n",
            "938/938 [==============================] - 5s 6ms/step - loss: 0.0089 - acc: 0.9870\n",
            "Epoch 15/29\n",
            "938/938 [==============================] - 5s 6ms/step - loss: 0.0087 - acc: 0.9880\n",
            "Epoch 16/29\n",
            "938/938 [==============================] - 6s 6ms/step - loss: 0.0089 - acc: 0.9877\n",
            "Epoch 17/29\n",
            "938/938 [==============================] - 5s 6ms/step - loss: 0.0082 - acc: 0.9884\n",
            "Epoch 18/29\n",
            "938/938 [==============================] - 6s 6ms/step - loss: 0.0081 - acc: 0.9889\n",
            "Epoch 19/29\n",
            "938/938 [==============================] - 6s 6ms/step - loss: 0.0080 - acc: 0.9886\n",
            "Epoch 20/29\n",
            "938/938 [==============================] - 6s 6ms/step - loss: 0.0075 - acc: 0.9895\n",
            "Epoch 21/29\n",
            "938/938 [==============================] - 6s 6ms/step - loss: 0.0078 - acc: 0.9889\n",
            "Epoch 22/29\n",
            "938/938 [==============================] - 6s 6ms/step - loss: 0.0073 - acc: 0.9898\n",
            "Epoch 23/29\n",
            "938/938 [==============================] - 5s 6ms/step - loss: 0.0074 - acc: 0.9898\n",
            "Epoch 24/29\n",
            "938/938 [==============================] - 5s 6ms/step - loss: 0.0062 - acc: 0.9911\n",
            "Epoch 25/29\n",
            "938/938 [==============================] - 5s 6ms/step - loss: 0.0078 - acc: 0.9894\n",
            "Epoch 26/29\n",
            "938/938 [==============================] - 5s 6ms/step - loss: 0.0067 - acc: 0.9904\n",
            "Epoch 27/29\n",
            "938/938 [==============================] - 5s 6ms/step - loss: 0.0068 - acc: 0.9907\n",
            "Epoch 28/29\n",
            "938/938 [==============================] - 5s 6ms/step - loss: 0.0068 - acc: 0.9907\n",
            "Epoch 29/29\n",
            "938/938 [==============================] - 5s 6ms/step - loss: 0.0078 - acc: 0.9896\n"
          ]
        }
      ]
    },
    {
      "cell_type": "markdown",
      "source": [
        "---\n",
        "## 查看學習曲線\n",
        "\n",
        "在上一個部份，我們對模型進行了訓練，並取得了一個帶有模型訓練資訊的`history`變數。我們可以先透過內建的`__dict__`方法查看`history`物件下帶有哪些資訊。"
      ],
      "metadata": {
        "id": "ybS6PXLAPp1P"
      }
    },
    {
      "cell_type": "code",
      "source": [
        "print(f\"Type of history: {type(history)}\")\n",
        "\n",
        "history.__dict__"
      ],
      "metadata": {
        "colab": {
          "base_uri": "https://localhost:8080/"
        },
        "id": "Wct3CGCiNtlS",
        "outputId": "3ed0a728-4f0b-445c-bd25-18c1f17b1460"
      },
      "execution_count": 8,
      "outputs": [
        {
          "output_type": "stream",
          "name": "stdout",
          "text": [
            "Type of history: <class 'keras.callbacks.History'>\n"
          ]
        },
        {
          "output_type": "execute_result",
          "data": {
            "text/plain": [
              "{'_chief_worker_only': None,\n",
              " '_supports_tf_logs': False,\n",
              " 'epoch': [0,\n",
              "  1,\n",
              "  2,\n",
              "  3,\n",
              "  4,\n",
              "  5,\n",
              "  6,\n",
              "  7,\n",
              "  8,\n",
              "  9,\n",
              "  10,\n",
              "  11,\n",
              "  12,\n",
              "  13,\n",
              "  14,\n",
              "  15,\n",
              "  16,\n",
              "  17,\n",
              "  18,\n",
              "  19,\n",
              "  20,\n",
              "  21,\n",
              "  22,\n",
              "  23,\n",
              "  24,\n",
              "  25,\n",
              "  26,\n",
              "  27,\n",
              "  28],\n",
              " 'history': {'acc': [0.9276999831199646,\n",
              "   0.963949978351593,\n",
              "   0.9712833166122437,\n",
              "   0.9749500155448914,\n",
              "   0.9761666655540466,\n",
              "   0.9790666699409485,\n",
              "   0.979533314704895,\n",
              "   0.9812166690826416,\n",
              "   0.9828500151634216,\n",
              "   0.9841166734695435,\n",
              "   0.9841166734695435,\n",
              "   0.9863333106040955,\n",
              "   0.9856833219528198,\n",
              "   0.9870166778564453,\n",
              "   0.9879833459854126,\n",
              "   0.9876833558082581,\n",
              "   0.9883666634559631,\n",
              "   0.9889166951179504,\n",
              "   0.9885833263397217,\n",
              "   0.9895166754722595,\n",
              "   0.9888666868209839,\n",
              "   0.9898166656494141,\n",
              "   0.9897833466529846,\n",
              "   0.9911166429519653,\n",
              "   0.9894333481788635,\n",
              "   0.9903666377067566,\n",
              "   0.9907166957855225,\n",
              "   0.9907166957855225,\n",
              "   0.989633321762085],\n",
              "  'loss': [0.043642014265060425,\n",
              "   0.022818589583039284,\n",
              "   0.018683217465877533,\n",
              "   0.01648947224020958,\n",
              "   0.015426619909703732,\n",
              "   0.013945705257356167,\n",
              "   0.013825511559844017,\n",
              "   0.01285547111183405,\n",
              "   0.011629420332610607,\n",
              "   0.010513689368963242,\n",
              "   0.010772054083645344,\n",
              "   0.009472334757447243,\n",
              "   0.009605593979358673,\n",
              "   0.008895738050341606,\n",
              "   0.008695254102349281,\n",
              "   0.008928952738642693,\n",
              "   0.008187998086214066,\n",
              "   0.008093275129795074,\n",
              "   0.00800614058971405,\n",
              "   0.007538496516644955,\n",
              "   0.007841520011425018,\n",
              "   0.007271739188581705,\n",
              "   0.007428385782986879,\n",
              "   0.006233731750398874,\n",
              "   0.007847894914448261,\n",
              "   0.0066981385461986065,\n",
              "   0.006756115239113569,\n",
              "   0.006772717926651239,\n",
              "   0.00783678237348795]},\n",
              " 'model': <keras.engine.sequential.Sequential at 0x7eff63764f50>,\n",
              " 'params': {'epochs': 29, 'steps': 938, 'verbose': 1},\n",
              " 'validation_data': None}"
            ]
          },
          "metadata": {},
          "execution_count": 8
        }
      ]
    },
    {
      "cell_type": "markdown",
      "source": [
        "由上方的執行結果，我們可以得知幾項資訊：\n",
        "\n",
        "1. `history`變數為`keras.callbacks.History`物件，並非字典物件。雖然可以利用`__dict__`方法將內部資料以字典方式來輸出，但並無法利用字典物件所具有的`.keys()`、`.values()`以及`.items()`方法來提取資訊。\n",
        "\n",
        "2. `history`變數下的`history`分枝儲存了以下重要資訊：\n",
        "\n",
        "    * `acc`\n",
        "    * `loss`\n",
        "\n",
        "接下來我們將利用`acc`以及`loss`資訊來作圖，顯示訓練中的準確率以及損失值變化。"
      ],
      "metadata": {
        "id": "DcOoPsxEReBz"
      }
    },
    {
      "cell_type": "code",
      "source": [
        "import matplotlib.pyplot as plt\n",
        "\n",
        "x = [i for i in range(1, EPOCHS+1)]\n",
        "plt.figure(figsize=(8,6))\n",
        "plt.plot(x, history.history['loss'], label='loss')\n",
        "plt.legend(loc='upper right')\n",
        "plt.xlabel('Epochs')\n",
        "plt.ylabel('loss')\n",
        "plt.show()\n",
        "\n",
        "plt.figure(figsize=(8,6))\n",
        "plt.plot(x, history.history['acc'], label='acc')\n",
        "plt.legend(loc='upper right')\n",
        "plt.xlabel('Epochs')\n",
        "plt.ylabel('acc')\n",
        "plt.show()\n"
      ],
      "metadata": {
        "colab": {
          "base_uri": "https://localhost:8080/",
          "height": 759
        },
        "id": "Z3Z4kKpeQx-_",
        "outputId": "8eefe6ed-a3b0-4b7c-9082-60ea9cc24c1f"
      },
      "execution_count": 9,
      "outputs": [
        {
          "output_type": "display_data",
          "data": {
            "text/plain": [
              "<Figure size 576x432 with 1 Axes>"
            ],
            "image/png": "[encoded data removed]"
          },
          "metadata": {
            "needs_background": "light"
          }
        },
        {
          "output_type": "display_data",
          "data": {
            "text/plain": [
              "<Figure size 576x432 with 1 Axes>"
            ],
            "image/png": "[encoded data removed]"
          },
          "metadata": {
            "needs_background": "light"
          }
        }
      ]
    },
    {
      "cell_type": "markdown",
      "source": [
        "---\n",
        "## 利用Functional API 建立自定義模型\n",
        "\n",
        "先前的部份中，我們介紹了如何利用`tf.keras.Sequential`建立順序式模型。對於機器學習專案，常態下我們需要建立各式各樣的自訂模型結構。例如`ResNet-50`中所利用的殘差連結（Shortcut connection/Residual connection）就是一種無法利用順序式模型來建立的結構。我們將在此章節示範如何利用`Functional API`建立自定義的模型結構。\n",
        "\n",
        "> 本章將不會實作殘差連結。有興趣者可以參閱此[介紹](https://medium.com/@hupinwei/%E6%B7%B1%E5%BA%A6%E5%AD%B8%E7%BF%92-resnet%E4%B9%8B%E6%AE%98%E5%B7%AE%E5%AD%B8%E7%BF%92-f3ac36701b2f)\n",
        "\n",
        "`Functional API`是一個由`Keras`套件所提供的實作方法，可以讓我們以更加彈性的方式建立我們所希望的模型結構。無論是非線性拓樸，或是共享層以及多重輸入/輸出都可以藉由`Functional API`來實踐。\n",
        "\n",
        "參考我們在先前所建立的順序式模型，如果我們要利用`Functional API`來建立相同的模型，要如何來達成呢？且看以下範例。"
      ],
      "metadata": {
        "id": "Wyi8ivT3ohDY"
      }
    },
    {
      "cell_type": "code",
      "source": [
        "# 建立輸入層\n",
        "inputs = tf.keras.layers.Input(shape=(784))\n",
        "\n",
        "# 建立全連結層\n",
        "dense_1 = tf.keras.layers.Dense(128, activation='relu')(inputs)\n",
        "dense_2 = tf.keras.layers.Dense(64, activation='relu')(dense_1)\n",
        "outputs = tf.keras.layers.Dense(10, activation='softmax')(dense_2)\n",
        "\n",
        "\n",
        "# 封裝模型\n",
        "model = tf.keras.Model(inputs = inputs, \n",
        "                       outputs = outputs, \n",
        "                       name='functional_api_model')\n",
        "\n",
        "model.summary()"
      ],
      "metadata": {
        "colab": {
          "base_uri": "https://localhost:8080/"
        },
        "id": "-VWr4zFuUqUY",
        "outputId": "5fb4224e-ddba-4610-cae5-adab46cdc6d6"
      },
      "execution_count": 10,
      "outputs": [
        {
          "output_type": "stream",
          "name": "stdout",
          "text": [
            "Model: \"functional_api_model\"\n",
            "_________________________________________________________________\n",
            " Layer (type)                Output Shape              Param #   \n",
            "=================================================================\n",
            " input_3 (InputLayer)        [(None, 784)]             0         \n",
            "                                                                 \n",
            " dense_6 (Dense)             (None, 128)               100480    \n",
            "                                                                 \n",
            " dense_7 (Dense)             (None, 64)                8256      \n",
            "                                                                 \n",
            " dense_8 (Dense)             (None, 10)                650       \n",
            "                                                                 \n",
            "=================================================================\n",
            "Total params: 109,386\n",
            "Trainable params: 109,386\n",
            "Non-trainable params: 0\n",
            "_________________________________________________________________\n"
          ]
        }
      ]
    },
    {
      "cell_type": "markdown",
      "source": [
        "在上方的範例中，我們於第二行利用`tf.keras.Input`函式建立了模型的輸入點，用以承接導入模型的資料；從第五行開始，我們建立了一系列的全連結層。\n",
        "\n",
        "利用`Functional API`建立模型時最大的不同在於，我們將會在每一層的設定時，額外於行末利用括號宣告將會輸入的資料。以第五行為例：\n",
        "\n",
        "```\n",
        "dense_1 = tf.keras.layers.Dense(128, activation='relu')(inputs)\n",
        "```\n",
        "在`Dense`函數的後方，與以往不同的多出了一個`(inputs)`，這寫法的意義在於，告知`Functional API`，本層的輸入函數為`inputs`所輸出的結果。我們可以在第六行以及第七行發現相同的寫法。\n",
        "\n",
        "在完成模型結構的建構後，最重要的一步就是將模型進行封裝。在順序式模型中，因為具有明確的順序關係，`Sequential`函式將會自動封裝整個模型。在利用`Functional API`建構的模型中，我們必須自行宣告模型的輸入以及輸出，並利用`tf.keras.Model`函式對模型進行封裝。"
      ],
      "metadata": {
        "id": "GJ2jttxYykDB"
      }
    },
    {
      "cell_type": "markdown",
      "source": [
        "## 編譯並進行訓練\n",
        "\n",
        "在完成對模型的封裝以後，我們就可以利用與先前相同的方法，對模型進行編譯以及訓練。"
      ],
      "metadata": {
        "id": "tkKz6ccCtOEQ"
      }
    },
    {
      "cell_type": "code",
      "source": [
        "model.compile(loss = LOSS_FN, \n",
        "                optimizer = optimizer, \n",
        "                metrics=['acc'])\n",
        "\n",
        "history = model.fit(train_ds, \n",
        "            epochs = EPOCHS, \n",
        "            verbose = 1)"
      ],
      "metadata": {
        "colab": {
          "base_uri": "https://localhost:8080/"
        },
        "id": "7dCEWfdgwQG7",
        "outputId": "0d80f306-9012-4946-f48b-6b97c187d9b8"
      },
      "execution_count": 11,
      "outputs": [
        {
          "output_type": "stream",
          "name": "stdout",
          "text": [
            "Epoch 1/29\n",
            "938/938 [==============================] - 6s 6ms/step - loss: 0.0557 - acc: 0.9089\n",
            "Epoch 2/29\n",
            "938/938 [==============================] - 5s 6ms/step - loss: 0.0306 - acc: 0.9506\n",
            "Epoch 3/29\n",
            "938/938 [==============================] - 5s 6ms/step - loss: 0.0257 - acc: 0.9597\n",
            "Epoch 4/29\n",
            "938/938 [==============================] - 5s 6ms/step - loss: 0.0229 - acc: 0.9648\n",
            "Epoch 5/29\n",
            "938/938 [==============================] - 5s 6ms/step - loss: 0.0207 - acc: 0.9678\n",
            "Epoch 6/29\n",
            "938/938 [==============================] - 5s 6ms/step - loss: 0.0191 - acc: 0.9700\n",
            "Epoch 7/29\n",
            "938/938 [==============================] - 6s 6ms/step - loss: 0.0178 - acc: 0.9732\n",
            "Epoch 8/29\n",
            "938/938 [==============================] - 5s 6ms/step - loss: 0.0170 - acc: 0.9742\n",
            "Epoch 9/29\n",
            "938/938 [==============================] - 5s 6ms/step - loss: 0.0162 - acc: 0.9750\n",
            "Epoch 10/29\n",
            "938/938 [==============================] - 5s 6ms/step - loss: 0.0157 - acc: 0.9754\n",
            "Epoch 11/29\n",
            "938/938 [==============================] - 5s 6ms/step - loss: 0.0150 - acc: 0.9765\n",
            "Epoch 12/29\n",
            "938/938 [==============================] - 5s 6ms/step - loss: 0.0149 - acc: 0.9773\n",
            "Epoch 13/29\n",
            "938/938 [==============================] - 5s 6ms/step - loss: 0.0144 - acc: 0.9772\n",
            "Epoch 14/29\n",
            "938/938 [==============================] - 5s 6ms/step - loss: 0.0135 - acc: 0.9786\n",
            "Epoch 15/29\n",
            "938/938 [==============================] - 5s 6ms/step - loss: 0.0135 - acc: 0.9783\n",
            "Epoch 16/29\n",
            "938/938 [==============================] - 5s 6ms/step - loss: 0.0135 - acc: 0.9790\n",
            "Epoch 17/29\n",
            "938/938 [==============================] - 5s 6ms/step - loss: 0.0126 - acc: 0.9803\n",
            "Epoch 18/29\n",
            "938/938 [==============================] - 5s 6ms/step - loss: 0.0123 - acc: 0.9805\n",
            "Epoch 19/29\n",
            "938/938 [==============================] - 5s 6ms/step - loss: 0.0121 - acc: 0.9806\n",
            "Epoch 20/29\n",
            "938/938 [==============================] - 5s 6ms/step - loss: 0.0125 - acc: 0.9804\n",
            "Epoch 21/29\n",
            "938/938 [==============================] - 5s 6ms/step - loss: 0.0116 - acc: 0.9813\n",
            "Epoch 22/29\n",
            "938/938 [==============================] - 5s 6ms/step - loss: 0.0115 - acc: 0.9813\n",
            "Epoch 23/29\n",
            "938/938 [==============================] - 5s 6ms/step - loss: 0.0114 - acc: 0.9819\n",
            "Epoch 24/29\n",
            "938/938 [==============================] - 5s 6ms/step - loss: 0.0115 - acc: 0.9818\n",
            "Epoch 25/29\n",
            "938/938 [==============================] - 5s 6ms/step - loss: 0.0106 - acc: 0.9834\n",
            "Epoch 26/29\n",
            "938/938 [==============================] - 5s 6ms/step - loss: 0.0111 - acc: 0.9824\n",
            "Epoch 27/29\n",
            "938/938 [==============================] - 5s 6ms/step - loss: 0.0105 - acc: 0.9834\n",
            "Epoch 28/29\n",
            "938/938 [==============================] - 5s 6ms/step - loss: 0.0107 - acc: 0.9831\n",
            "Epoch 29/29\n",
            "938/938 [==============================] - 5s 6ms/step - loss: 0.0105 - acc: 0.9836\n"
          ]
        }
      ]
    },
    {
      "cell_type": "markdown",
      "source": [
        "同樣的，我們也能用`.fit()`函式回傳的模型訓練資料進行作圖，並顯示訓練中的準確度以及損失值變化。"
      ],
      "metadata": {
        "id": "XxzgshbawXD6"
      }
    },
    {
      "cell_type": "code",
      "source": [
        "import matplotlib.pyplot as plt\n",
        "\n",
        "x = [i for i in range(1, EPOCHS+1)]\n",
        "plt.figure(figsize=(8,6))\n",
        "plt.plot(x, history.history['loss'], label='loss')\n",
        "plt.legend(loc='upper right')\n",
        "plt.xlabel('Epochs')\n",
        "plt.ylabel('loss')\n",
        "plt.show()\n",
        "\n",
        "plt.figure(figsize=(8,6))\n",
        "plt.plot(x, history.history['acc'], label='acc')\n",
        "plt.legend(loc='upper right')\n",
        "plt.xlabel('Epochs')\n",
        "plt.ylabel('acc')\n",
        "plt.show()\n"
      ],
      "metadata": {
        "colab": {
          "base_uri": "https://localhost:8080/",
          "height": 759
        },
        "id": "-nzO7v90uorg",
        "outputId": "64d2f7db-39dc-4084-9029-e923cb002448"
      },
      "execution_count": 12,
      "outputs": [
        {
          "output_type": "display_data",
          "data": {
            "text/plain": [
              "<Figure size 576x432 with 1 Axes>"
            ],
            "image/png": "[encoded data removed]"
          },
          "metadata": {
            "needs_background": "light"
          }
        },
        {
          "output_type": "display_data",
          "data": {
            "text/plain": [
              "<Figure size 576x432 with 1 Axes>"
            ],
            "image/png": "[encoded data removed]"
          },
          "metadata": {
            "needs_background": "light"
          }
        }
      ]
    },
    {
      "cell_type": "markdown",
      "source": [
        "## 結語\n",
        "\n",
        "在本範例中，我們示範了如何用`tf.keras.Sequential()`函數以及利用`Functional API`來建立一個簡單的機器學習模型。接下來我們將了解如何透過建立Callback物件以及利用Tensorboard來監控模型的訓練流程。"
      ],
      "metadata": {
        "id": "3FOp77zawrpZ"
      }
    }
  ]
}
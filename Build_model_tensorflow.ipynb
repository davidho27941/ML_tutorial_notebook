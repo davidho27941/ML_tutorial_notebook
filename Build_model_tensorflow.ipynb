{
  "nbformat": 4,
  "nbformat_minor": 0,
  "metadata": {
    "colab": {
      "name": "Build_model_tensorflow.ipynb",
      "provenance": [],
      "authorship_tag": "ABX9TyNxmS+aywIrtOJ3gJCtGroV",
      "include_colab_link": true
    },
    "kernelspec": {
      "name": "python3",
      "display_name": "Python 3"
    },
    "language_info": {
      "name": "python"
    },
    "accelerator": "GPU",
    "widgets": {
      "application/vnd.jupyter.widget-state+json": {
        "bd04275f3167496983d1a55a05d102f5": {
          "model_module": "@jupyter-widgets/controls",
          "model_name": "HBoxModel",
          "model_module_version": "1.5.0",
          "state": {
            "_dom_classes": [],
            "_model_module": "@jupyter-widgets/controls",
            "_model_module_version": "1.5.0",
            "_model_name": "HBoxModel",
            "_view_count": null,
            "_view_module": "@jupyter-widgets/controls",
            "_view_module_version": "1.5.0",
            "_view_name": "HBoxView",
            "box_style": "",
            "children": [
              "IPY_MODEL_78894f7539c64832904acf72bd17bc41",
              "IPY_MODEL_41cf72be5f284de083b21bb1f78ce1ba",
              "IPY_MODEL_138c89c3e7b54ffaae3891ecd8329908"
            ],
            "layout": "IPY_MODEL_893e10f8221d4286ad0dd8074ddd38cc"
          }
        },
        "78894f7539c64832904acf72bd17bc41": {
          "model_module": "@jupyter-widgets/controls",
          "model_name": "HTMLModel",
          "model_module_version": "1.5.0",
          "state": {
            "_dom_classes": [],
            "_model_module": "@jupyter-widgets/controls",
            "_model_module_version": "1.5.0",
            "_model_name": "HTMLModel",
            "_view_count": null,
            "_view_module": "@jupyter-widgets/controls",
            "_view_module_version": "1.5.0",
            "_view_name": "HTMLView",
            "description": "",
            "description_tooltip": null,
            "layout": "IPY_MODEL_bfa7f10081014f30ae2dcfb5b82d7aed",
            "placeholder": "​",
            "style": "IPY_MODEL_6d98dd03b8094b92881a2ca99b356162",
            "value": "Dl Completed...: 100%"
          }
        },
        "41cf72be5f284de083b21bb1f78ce1ba": {
          "model_module": "@jupyter-widgets/controls",
          "model_name": "FloatProgressModel",
          "model_module_version": "1.5.0",
          "state": {
            "_dom_classes": [],
            "_model_module": "@jupyter-widgets/controls",
            "_model_module_version": "1.5.0",
            "_model_name": "FloatProgressModel",
            "_view_count": null,
            "_view_module": "@jupyter-widgets/controls",
            "_view_module_version": "1.5.0",
            "_view_name": "ProgressView",
            "bar_style": "success",
            "description": "",
            "description_tooltip": null,
            "layout": "IPY_MODEL_5eef565223934d559a88ddcec65238a9",
            "max": 4,
            "min": 0,
            "orientation": "horizontal",
            "style": "IPY_MODEL_de4966319761476c83bd0183b1231898",
            "value": 4
          }
        },
        "138c89c3e7b54ffaae3891ecd8329908": {
          "model_module": "@jupyter-widgets/controls",
          "model_name": "HTMLModel",
          "model_module_version": "1.5.0",
          "state": {
            "_dom_classes": [],
            "_model_module": "@jupyter-widgets/controls",
            "_model_module_version": "1.5.0",
            "_model_name": "HTMLModel",
            "_view_count": null,
            "_view_module": "@jupyter-widgets/controls",
            "_view_module_version": "1.5.0",
            "_view_name": "HTMLView",
            "description": "",
            "description_tooltip": null,
            "layout": "IPY_MODEL_1b2366474ce74e5386abcb19f0db89f0",
            "placeholder": "​",
            "style": "IPY_MODEL_e761e01966a5490a94e59ecf1a97ac34",
            "value": " 4/4 [00:00&lt;00:00,  8.50 file/s]"
          }
        },
        "893e10f8221d4286ad0dd8074ddd38cc": {
          "model_module": "@jupyter-widgets/base",
          "model_name": "LayoutModel",
          "model_module_version": "1.2.0",
          "state": {
            "_model_module": "@jupyter-widgets/base",
            "_model_module_version": "1.2.0",
            "_model_name": "LayoutModel",
            "_view_count": null,
            "_view_module": "@jupyter-widgets/base",
            "_view_module_version": "1.2.0",
            "_view_name": "LayoutView",
            "align_content": null,
            "align_items": null,
            "align_self": null,
            "border": null,
            "bottom": null,
            "display": null,
            "flex": null,
            "flex_flow": null,
            "grid_area": null,
            "grid_auto_columns": null,
            "grid_auto_flow": null,
            "grid_auto_rows": null,
            "grid_column": null,
            "grid_gap": null,
            "grid_row": null,
            "grid_template_areas": null,
            "grid_template_columns": null,
            "grid_template_rows": null,
            "height": null,
            "justify_content": null,
            "justify_items": null,
            "left": null,
            "margin": null,
            "max_height": null,
            "max_width": null,
            "min_height": null,
            "min_width": null,
            "object_fit": null,
            "object_position": null,
            "order": null,
            "overflow": null,
            "overflow_x": null,
            "overflow_y": null,
            "padding": null,
            "right": null,
            "top": null,
            "visibility": null,
            "width": null
          }
        },
        "bfa7f10081014f30ae2dcfb5b82d7aed": {
          "model_module": "@jupyter-widgets/base",
          "model_name": "LayoutModel",
          "model_module_version": "1.2.0",
          "state": {
            "_model_module": "@jupyter-widgets/base",
            "_model_module_version": "1.2.0",
            "_model_name": "LayoutModel",
            "_view_count": null,
            "_view_module": "@jupyter-widgets/base",
            "_view_module_version": "1.2.0",
            "_view_name": "LayoutView",
            "align_content": null,
            "align_items": null,
            "align_self": null,
            "border": null,
            "bottom": null,
            "display": null,
            "flex": null,
            "flex_flow": null,
            "grid_area": null,
            "grid_auto_columns": null,
            "grid_auto_flow": null,
            "grid_auto_rows": null,
            "grid_column": null,
            "grid_gap": null,
            "grid_row": null,
            "grid_template_areas": null,
            "grid_template_columns": null,
            "grid_template_rows": null,
            "height": null,
            "justify_content": null,
            "justify_items": null,
            "left": null,
            "margin": null,
            "max_height": null,
            "max_width": null,
            "min_height": null,
            "min_width": null,
            "object_fit": null,
            "object_position": null,
            "order": null,
            "overflow": null,
            "overflow_x": null,
            "overflow_y": null,
            "padding": null,
            "right": null,
            "top": null,
            "visibility": null,
            "width": null
          }
        },
        "6d98dd03b8094b92881a2ca99b356162": {
          "model_module": "@jupyter-widgets/controls",
          "model_name": "DescriptionStyleModel",
          "model_module_version": "1.5.0",
          "state": {
            "_model_module": "@jupyter-widgets/controls",
            "_model_module_version": "1.5.0",
            "_model_name": "DescriptionStyleModel",
            "_view_count": null,
            "_view_module": "@jupyter-widgets/base",
            "_view_module_version": "1.2.0",
            "_view_name": "StyleView",
            "description_width": ""
          }
        },
        "5eef565223934d559a88ddcec65238a9": {
          "model_module": "@jupyter-widgets/base",
          "model_name": "LayoutModel",
          "model_module_version": "1.2.0",
          "state": {
            "_model_module": "@jupyter-widgets/base",
            "_model_module_version": "1.2.0",
            "_model_name": "LayoutModel",
            "_view_count": null,
            "_view_module": "@jupyter-widgets/base",
            "_view_module_version": "1.2.0",
            "_view_name": "LayoutView",
            "align_content": null,
            "align_items": null,
            "align_self": null,
            "border": null,
            "bottom": null,
            "display": null,
            "flex": null,
            "flex_flow": null,
            "grid_area": null,
            "grid_auto_columns": null,
            "grid_auto_flow": null,
            "grid_auto_rows": null,
            "grid_column": null,
            "grid_gap": null,
            "grid_row": null,
            "grid_template_areas": null,
            "grid_template_columns": null,
            "grid_template_rows": null,
            "height": null,
            "justify_content": null,
            "justify_items": null,
            "left": null,
            "margin": null,
            "max_height": null,
            "max_width": null,
            "min_height": null,
            "min_width": null,
            "object_fit": null,
            "object_position": null,
            "order": null,
            "overflow": null,
            "overflow_x": null,
            "overflow_y": null,
            "padding": null,
            "right": null,
            "top": null,
            "visibility": null,
            "width": null
          }
        },
        "de4966319761476c83bd0183b1231898": {
          "model_module": "@jupyter-widgets/controls",
          "model_name": "ProgressStyleModel",
          "model_module_version": "1.5.0",
          "state": {
            "_model_module": "@jupyter-widgets/controls",
            "_model_module_version": "1.5.0",
            "_model_name": "ProgressStyleModel",
            "_view_count": null,
            "_view_module": "@jupyter-widgets/base",
            "_view_module_version": "1.2.0",
            "_view_name": "StyleView",
            "bar_color": null,
            "description_width": ""
          }
        },
        "1b2366474ce74e5386abcb19f0db89f0": {
          "model_module": "@jupyter-widgets/base",
          "model_name": "LayoutModel",
          "model_module_version": "1.2.0",
          "state": {
            "_model_module": "@jupyter-widgets/base",
            "_model_module_version": "1.2.0",
            "_model_name": "LayoutModel",
            "_view_count": null,
            "_view_module": "@jupyter-widgets/base",
            "_view_module_version": "1.2.0",
            "_view_name": "LayoutView",
            "align_content": null,
            "align_items": null,
            "align_self": null,
            "border": null,
            "bottom": null,
            "display": null,
            "flex": null,
            "flex_flow": null,
            "grid_area": null,
            "grid_auto_columns": null,
            "grid_auto_flow": null,
            "grid_auto_rows": null,
            "grid_column": null,
            "grid_gap": null,
            "grid_row": null,
            "grid_template_areas": null,
            "grid_template_columns": null,
            "grid_template_rows": null,
            "height": null,
            "justify_content": null,
            "justify_items": null,
            "left": null,
            "margin": null,
            "max_height": null,
            "max_width": null,
            "min_height": null,
            "min_width": null,
            "object_fit": null,
            "object_position": null,
            "order": null,
            "overflow": null,
            "overflow_x": null,
            "overflow_y": null,
            "padding": null,
            "right": null,
            "top": null,
            "visibility": null,
            "width": null
          }
        },
        "e761e01966a5490a94e59ecf1a97ac34": {
          "model_module": "@jupyter-widgets/controls",
          "model_name": "DescriptionStyleModel",
          "model_module_version": "1.5.0",
          "state": {
            "_model_module": "@jupyter-widgets/controls",
            "_model_module_version": "1.5.0",
            "_model_name": "DescriptionStyleModel",
            "_view_count": null,
            "_view_module": "@jupyter-widgets/base",
            "_view_module_version": "1.2.0",
            "_view_name": "StyleView",
            "description_width": ""
          }
        }
      }
    }
  },
  "cells": [
    {
      "cell_type": "markdown",
      "metadata": {
        "id": "view-in-github",
        "colab_type": "text"
      },
      "source": [
        "<a href=\"https://colab.research.google.com/github/davidho27941/ML_tutorial_notebook/blob/main/Build_model_tensorflow.ipynb\" target=\"_parent\"><img src=\"https://colab.research.google.com/assets/colab-badge.svg\" alt=\"Open In Colab\"/></a>"
      ]
    },
    {
      "cell_type": "markdown",
      "source": [
        "# 基於TesnorFlow平台的基本模型建立\n",
        "---\n",
        "## 載入必要函式庫以及資料集\n",
        "\n",
        "為了在`TensorFlow`建立模型，我們需要導入以下函式庫：\n",
        "\n",
        "* tensorflow \n",
        "* tensorflow-datasets\n",
        "\n",
        "以及常用的資料處理函式庫：\n",
        "\n",
        "* Numpy \n",
        "* Pandas\n",
        "\n",
        "我們可以透過`tf.config.list_physical_devices('GPU')`來確認GPU是否可用，並選擇在CPU或是GPU上運行我們的程式。"
      ],
      "metadata": {
        "id": "0rWrXBG_csBC"
      }
    },
    {
      "cell_type": "code",
      "execution_count": 1,
      "metadata": {
        "id": "l05jzHHeE7RE",
        "colab": {
          "base_uri": "https://localhost:8080/"
        },
        "outputId": "a699509d-ceea-45ae-b592-bb038189331e"
      },
      "outputs": [
        {
          "output_type": "execute_result",
          "data": {
            "text/plain": [
              "[PhysicalDevice(name='/physical_device:GPU:0', device_type='GPU')]"
            ]
          },
          "metadata": {},
          "execution_count": 1
        }
      ],
      "source": [
        "import tensorflow as tf \n",
        "import tensorflow_datasets as tfds\n",
        "import numpy as np\n",
        "import pandas as pd\n",
        "\n",
        "tf.config.list_physical_devices('GPU')"
      ]
    },
    {
      "cell_type": "markdown",
      "source": [
        "---\n",
        "## 匯入MNIST資料集\n",
        "\n",
        "在此範例中，我們一樣會使用MNIST資料集進行示範。\n",
        "在載入時，我們需要使用`tensorflow-datasets`的`tfds.load()`函式來抽取MNSIT資料集。並利用經由`tf.data.Dataset`的`map()`方法對資料集進行轉置；最後，我們設定批次數量為64。\n",
        "\n",
        "我們將分別導入訓練資料集以及測試資料集作為訓練以及測試使用。"
      ],
      "metadata": {
        "id": "fxItFbrvfnOi"
      }
    },
    {
      "cell_type": "code",
      "source": [
        "train_ds, train_ds_info = tfds.load(name=\"mnist\", \n",
        "                    split='train', \n",
        "                    with_info=True, \n",
        "                    as_supervised=True)\n",
        "\n",
        "test_ds, test_ds_info = tfds.load(name=\"mnist\", \n",
        "                    split='test', \n",
        "                    with_info=True, \n",
        "                    as_supervised=True)\n",
        "\n",
        "def preprocess(x, y):\n",
        "    x = x/255\n",
        "    x = tf.reshape(x, [784])\n",
        "\n",
        "    y = tf.one_hot(y, 10)  \n",
        "    return x, y\n",
        "\n",
        "train_ds = train_ds.map(lambda x, y: preprocess(x, y)).batch(64)\n",
        "test_ds = test_ds.map(lambda x, y: preprocess(x, y)).batch(64)"
      ],
      "metadata": {
        "id": "gbqukyCqc8xt",
        "colab": {
          "base_uri": "https://localhost:8080/",
          "height": 188,
          "referenced_widgets": [
            "bd04275f3167496983d1a55a05d102f5",
            "78894f7539c64832904acf72bd17bc41",
            "41cf72be5f284de083b21bb1f78ce1ba",
            "138c89c3e7b54ffaae3891ecd8329908",
            "893e10f8221d4286ad0dd8074ddd38cc",
            "bfa7f10081014f30ae2dcfb5b82d7aed",
            "6d98dd03b8094b92881a2ca99b356162",
            "5eef565223934d559a88ddcec65238a9",
            "de4966319761476c83bd0183b1231898",
            "1b2366474ce74e5386abcb19f0db89f0",
            "e761e01966a5490a94e59ecf1a97ac34"
          ]
        },
        "outputId": "0346cba7-3056-46d9-8567-096355e28925"
      },
      "execution_count": 2,
      "outputs": [
        {
          "output_type": "stream",
          "name": "stdout",
          "text": [
            "\u001b[1mDownloading and preparing dataset mnist/3.0.1 (download: 11.06 MiB, generated: 21.00 MiB, total: 32.06 MiB) to /root/tensorflow_datasets/mnist/3.0.1...\u001b[0m\n"
          ]
        },
        {
          "output_type": "stream",
          "name": "stderr",
          "text": [
            "WARNING:absl:Dataset mnist is hosted on GCS. It will automatically be downloaded to your\n",
            "local data directory. If you'd instead prefer to read directly from our public\n",
            "GCS bucket (recommended if you're running on GCP), you can instead pass\n",
            "`try_gcs=True` to `tfds.load` or set `data_dir=gs://tfds-data/datasets`.\n",
            "\n"
          ]
        },
        {
          "output_type": "display_data",
          "data": {
            "text/plain": [
              "Dl Completed...:   0%|          | 0/4 [00:00<?, ? file/s]"
            ],
            "application/vnd.jupyter.widget-view+json": {
              "version_major": 2,
              "version_minor": 0,
              "model_id": "bd04275f3167496983d1a55a05d102f5"
            }
          },
          "metadata": {}
        },
        {
          "output_type": "stream",
          "name": "stdout",
          "text": [
            "\n",
            "\u001b[1mDataset mnist downloaded and prepared to /root/tensorflow_datasets/mnist/3.0.1. Subsequent calls will reuse this data.\u001b[0m\n"
          ]
        }
      ]
    },
    {
      "cell_type": "markdown",
      "source": [
        "---\n",
        "## 建立順序式模型\n",
        "\n",
        "在`TensorFlow`之中，建立順序是模型可以透過`tf.kears.Sequential()`函式來進行。主要有兩種作作法。\n",
        "\n",
        "1. 先行建立`model`物件，並透過`model.add()`方法為模型添加結構。\n",
        "2. 利用`tf.kears.Sequential`建立模型時，直接在參數內填入模型結構。"
      ],
      "metadata": {
        "id": "sUug2qgpnYoL"
      }
    },
    {
      "cell_type": "markdown",
      "source": [
        "### 方法一"
      ],
      "metadata": {
        "id": "hUuEbK5WFHV9"
      }
    },
    {
      "cell_type": "code",
      "source": [
        "model_1 = tf.keras.Sequential()\n",
        "model_1.add(tf.keras.layers.InputLayer(input_shape=(784)))\n",
        "model_1.add(tf.keras.layers.Dense(128, activation='relu'))\n",
        "model_1.add(tf.keras.layers.Dense(64, activation='relu'))\n",
        "model_1.add(tf.keras.layers.Dense(10, activation='softmax'))\n",
        "\n",
        "model_1.summary()"
      ],
      "metadata": {
        "colab": {
          "base_uri": "https://localhost:8080/"
        },
        "id": "37YhkhdngaCP",
        "outputId": "1cc220f3-9d39-4764-d594-b7935651e95b"
      },
      "execution_count": 3,
      "outputs": [
        {
          "output_type": "stream",
          "name": "stdout",
          "text": [
            "Model: \"sequential\"\n",
            "_________________________________________________________________\n",
            " Layer (type)                Output Shape              Param #   \n",
            "=================================================================\n",
            " dense (Dense)               (None, 128)               100480    \n",
            "                                                                 \n",
            " dense_1 (Dense)             (None, 64)                8256      \n",
            "                                                                 \n",
            " dense_2 (Dense)             (None, 10)                650       \n",
            "                                                                 \n",
            "=================================================================\n",
            "Total params: 109,386\n",
            "Trainable params: 109,386\n",
            "Non-trainable params: 0\n",
            "_________________________________________________________________\n"
          ]
        }
      ]
    },
    {
      "cell_type": "markdown",
      "source": [
        "### 方法二"
      ],
      "metadata": {
        "id": "0Xx3G_I4FKMT"
      }
    },
    {
      "cell_type": "code",
      "source": [
        "model_2 = tf.keras.Sequential([\n",
        "                             tf.keras.layers.InputLayer(input_shape=(784)), \n",
        "                             tf.keras.layers.Dense(128, activation='relu'), \n",
        "                             tf.keras.layers.Dense(64, activation='relu'), \n",
        "                             tf.keras.layers.Dense(10, activation='softmax'),\n",
        "                            ])\n",
        "\n",
        "model_2.summary()"
      ],
      "metadata": {
        "id": "zCJd_-Q3wnNH",
        "colab": {
          "base_uri": "https://localhost:8080/"
        },
        "outputId": "75f27dcb-a2c6-4dc0-e6f5-f10ffaa1e859"
      },
      "execution_count": 4,
      "outputs": [
        {
          "output_type": "stream",
          "name": "stdout",
          "text": [
            "Model: \"sequential_1\"\n",
            "_________________________________________________________________\n",
            " Layer (type)                Output Shape              Param #   \n",
            "=================================================================\n",
            " dense_3 (Dense)             (None, 128)               100480    \n",
            "                                                                 \n",
            " dense_4 (Dense)             (None, 64)                8256      \n",
            "                                                                 \n",
            " dense_5 (Dense)             (None, 10)                650       \n",
            "                                                                 \n",
            "=================================================================\n",
            "Total params: 109,386\n",
            "Trainable params: 109,386\n",
            "Non-trainable params: 0\n",
            "_________________________________________________________________\n"
          ]
        }
      ]
    },
    {
      "cell_type": "markdown",
      "source": [
        "---\n",
        "## 設定各項超參數、損失函數以及優化器\n",
        "\n"
      ],
      "metadata": {
        "id": "1S0ETCX1FpSo"
      }
    },
    {
      "cell_type": "code",
      "source": [
        "EPOCHS = 20 #@param {type:\"slider\", min:1, max:100, setp: 1}\n",
        "LR = 1e-2 #@param {type:\"number\"}\n",
        "OPTIMIZER = \"adam\" #@param [\"adam\", \"SGD\"]\n",
        "LOSS_FN = \"categorical_crossentropy\" #@param [\"binary_crossentropy\", \"categorical_crossentropy\"]\n",
        "\n",
        "if OPTIMIZER == 'adam':\n",
        "    optimizer = tf.keras.optimizers.Adam(learning_rate = LR)\n",
        "elif OPTIMIZER == 'SGD':\n",
        "    momentum = 0.4 #@param {type:\"slider\", min:0, max:1, step:0.1}\n",
        "    optimizer = tf.keras.optimizers.SGD(learning_rate = LR, \n",
        "                                        momentum = momentum)\n"
      ],
      "metadata": {
        "id": "rteqkPg6Fv2I"
      },
      "execution_count": 5,
      "outputs": []
    },
    {
      "cell_type": "markdown",
      "source": [
        "---\n",
        "## 進行訓練\n",
        "\n",
        "在建立模型，並設定好超參數以及優化器之後，我們可以利用`model.compile()`對模型進行編譯，並利用`model.fit()`進行訓練。\n",
        "\n",
        "### 編譯模型\n",
        "\n",
        "在模型建立之後，我們必須利用`model.compile()`對模型的優化器、損失函數以及評估量尺等選項進行設定。\n",
        "\n",
        "需要設定的選項如下：\n",
        "\n",
        "* 優化器（optimizer）\n",
        "* 損失函數（loss function）\n",
        "* 評估量尺（metrics）\n",
        "\n",
        "可選設定如下：\n",
        "* 損失函數權重（loss weights）\n",
        "* 權重矩陣（weighted metrics）\n",
        "* 除錯模式（run_eagerly）\n",
        "\n",
        "> 更多選項可以至[官方文件](https://www.tensorflow.org/api_docs/python/tf/keras/Model#compile)了解"
      ],
      "metadata": {
        "id": "bJlipl3cGHgD"
      }
    },
    {
      "cell_type": "code",
      "source": [
        "model_1.compile(loss = LOSS_FN, \n",
        "                optimizer = optimizer, \n",
        "                metrics=['acc'])"
      ],
      "metadata": {
        "id": "HLpw7oHcJ_fE"
      },
      "execution_count": 6,
      "outputs": []
    },
    {
      "cell_type": "markdown",
      "source": [
        "---\n",
        "### 進行訓練\n",
        "\n",
        "當模型編譯完成後，我們就可以開始進行訓練。訓練的方式為利用`model.fit()`函數搭配相關的參數進行訓練。`model.fit()`在訓練結束後，將會回傳一個帶有訓練歷史資訊的物件，我們可以建立一個`history`變數用以儲存回傳值，並在後續對訓練過程進行了解。\n",
        "\n",
        "必要的參數有：\n",
        "\n",
        "* 輸入資料以及標籤（x, y）\n",
        "* 批次內資料數量（batch_size）\n",
        "* 週期數量（epochs）\n",
        "* 顯示模式（verbose）\n",
        "\n",
        "> 資料輸入的形式以及設定可以參照我們先前的[介紹](https://hackmd.io/@davidho9713/HyfHBzcxY/%2F86N1lvF2SdaRkcnuuWeJTg)。\n",
        "\n",
        "可選設定如下：\n",
        "* 回測函式（callbacks）\n",
        "* 驗證資料集以及標籤（validation_data）\n",
        "* 驗證比例（validation_split）\n",
        "\n",
        "> 更多的選項可至[官方文件](https://www.tensorflow.org/api_docs/python/tf/keras/Model#compile)查閱。\n"
      ],
      "metadata": {
        "id": "uyOS8LgiLiWs"
      }
    },
    {
      "cell_type": "code",
      "source": [
        "history = model_1.fit(train_ds, \n",
        "            epochs = EPOCHS, \n",
        "            verbose = 1)"
      ],
      "metadata": {
        "colab": {
          "base_uri": "https://localhost:8080/"
        },
        "id": "4WsR3fPsLfeN",
        "outputId": "146d8b09-9548-4496-f1e2-085eaaf2eab5"
      },
      "execution_count": 7,
      "outputs": [
        {
          "output_type": "stream",
          "name": "stdout",
          "text": [
            "Epoch 1/20\n",
            "938/938 [==============================] - 20s 16ms/step - loss: 0.2403 - acc: 0.9271\n",
            "Epoch 2/20\n",
            "938/938 [==============================] - 5s 6ms/step - loss: 0.1418 - acc: 0.9595\n",
            "Epoch 3/20\n",
            "938/938 [==============================] - 5s 6ms/step - loss: 0.1213 - acc: 0.9654\n",
            "Epoch 4/20\n",
            "938/938 [==============================] - 5s 6ms/step - loss: 0.1096 - acc: 0.9688\n",
            "Epoch 5/20\n",
            "938/938 [==============================] - 5s 6ms/step - loss: 0.1021 - acc: 0.9716\n",
            "Epoch 6/20\n",
            "938/938 [==============================] - 5s 6ms/step - loss: 0.0967 - acc: 0.9730\n",
            "Epoch 7/20\n",
            "938/938 [==============================] - 5s 6ms/step - loss: 0.0870 - acc: 0.9754\n",
            "Epoch 8/20\n",
            "938/938 [==============================] - 5s 6ms/step - loss: 0.0882 - acc: 0.9766\n",
            "Epoch 9/20\n",
            "938/938 [==============================] - 5s 5ms/step - loss: 0.0790 - acc: 0.9786\n",
            "Epoch 10/20\n",
            "938/938 [==============================] - 5s 6ms/step - loss: 0.0779 - acc: 0.9789\n",
            "Epoch 11/20\n",
            "938/938 [==============================] - 5s 5ms/step - loss: 0.0704 - acc: 0.9815\n",
            "Epoch 12/20\n",
            "938/938 [==============================] - 5s 6ms/step - loss: 0.0739 - acc: 0.9806\n",
            "Epoch 13/20\n",
            "938/938 [==============================] - 5s 6ms/step - loss: 0.0680 - acc: 0.9822\n",
            "Epoch 14/20\n",
            "938/938 [==============================] - 6s 6ms/step - loss: 0.0616 - acc: 0.9835\n",
            "Epoch 15/20\n",
            "938/938 [==============================] - 5s 6ms/step - loss: 0.0672 - acc: 0.9838\n",
            "Epoch 16/20\n",
            "938/938 [==============================] - 5s 6ms/step - loss: 0.0706 - acc: 0.9826\n",
            "Epoch 17/20\n",
            "938/938 [==============================] - 5s 6ms/step - loss: 0.0578 - acc: 0.9851\n",
            "Epoch 18/20\n",
            "938/938 [==============================] - 5s 6ms/step - loss: 0.0624 - acc: 0.9843\n",
            "Epoch 19/20\n",
            "938/938 [==============================] - 5s 6ms/step - loss: 0.0594 - acc: 0.9857\n",
            "Epoch 20/20\n",
            "938/938 [==============================] - 5s 6ms/step - loss: 0.0596 - acc: 0.9857\n"
          ]
        }
      ]
    },
    {
      "cell_type": "markdown",
      "source": [
        "---\n",
        "## 查看學習曲線\n",
        "\n",
        "在上一個部份，我們對模型進行了訓練，並取得了一個帶有模型訓練資訊的`history`變數。我們可以先透過內建的`__dict__`方法查看`history`物件下帶有哪些資訊。"
      ],
      "metadata": {
        "id": "ybS6PXLAPp1P"
      }
    },
    {
      "cell_type": "code",
      "source": [
        "print(f\"Type of history: {type(history)}\")\n",
        "\n",
        "history.__dict__"
      ],
      "metadata": {
        "colab": {
          "base_uri": "https://localhost:8080/"
        },
        "id": "Wct3CGCiNtlS",
        "outputId": "6734a96c-9b4a-4f55-dd3d-baf924307b47"
      },
      "execution_count": 8,
      "outputs": [
        {
          "output_type": "stream",
          "name": "stdout",
          "text": [
            "Type of history: <class 'keras.callbacks.History'>\n"
          ]
        },
        {
          "output_type": "execute_result",
          "data": {
            "text/plain": [
              "{'_chief_worker_only': None,\n",
              " '_supports_tf_logs': False,\n",
              " 'epoch': [0,\n",
              "  1,\n",
              "  2,\n",
              "  3,\n",
              "  4,\n",
              "  5,\n",
              "  6,\n",
              "  7,\n",
              "  8,\n",
              "  9,\n",
              "  10,\n",
              "  11,\n",
              "  12,\n",
              "  13,\n",
              "  14,\n",
              "  15,\n",
              "  16,\n",
              "  17,\n",
              "  18,\n",
              "  19],\n",
              " 'history': {'acc': [0.9270666837692261,\n",
              "   0.9594833254814148,\n",
              "   0.965416669845581,\n",
              "   0.968833327293396,\n",
              "   0.9715999960899353,\n",
              "   0.9729999899864197,\n",
              "   0.9754499793052673,\n",
              "   0.9765666723251343,\n",
              "   0.9785666465759277,\n",
              "   0.9788500070571899,\n",
              "   0.9814833402633667,\n",
              "   0.9806166887283325,\n",
              "   0.9822499752044678,\n",
              "   0.9835166931152344,\n",
              "   0.9837666749954224,\n",
              "   0.9825999736785889,\n",
              "   0.9851333498954773,\n",
              "   0.9842666387557983,\n",
              "   0.9856500029563904,\n",
              "   0.9856833219528198],\n",
              "  'loss': [0.2402782440185547,\n",
              "   0.1417832374572754,\n",
              "   0.12133978307247162,\n",
              "   0.10961360484361649,\n",
              "   0.10210047662258148,\n",
              "   0.09669706970453262,\n",
              "   0.08704912662506104,\n",
              "   0.08819781988859177,\n",
              "   0.07898589223623276,\n",
              "   0.07794850319623947,\n",
              "   0.07037294656038284,\n",
              "   0.07385309040546417,\n",
              "   0.06801282614469528,\n",
              "   0.06161478906869888,\n",
              "   0.067233607172966,\n",
              "   0.07055875658988953,\n",
              "   0.057843394577503204,\n",
              "   0.062434837222099304,\n",
              "   0.05944506824016571,\n",
              "   0.05960285663604736]},\n",
              " 'model': <keras.engine.sequential.Sequential at 0x7f5ae2fa7a50>,\n",
              " 'params': {'epochs': 20, 'steps': 938, 'verbose': 1},\n",
              " 'validation_data': None}"
            ]
          },
          "metadata": {},
          "execution_count": 8
        }
      ]
    },
    {
      "cell_type": "markdown",
      "source": [
        "由上方的執行結果，我們可以得知幾項資訊：\n",
        "\n",
        "1. `history`變數為`keras.callbacks.History`物件，並非字典物件。雖然可以利用`__dict__`方法將內部資料以字典方式來輸出，但並無法利用字典物件所具有的`.keys()`、`.values()`以及`.items()`方法來提取資訊。\n",
        "\n",
        "2. `history`變數下的`history`分枝儲存了以下重要資訊：\n",
        "\n",
        "    * `acc`\n",
        "    * `loss`\n",
        "\n",
        "接下來我們將利用`acc`以及`loss`資訊來作圖，顯示訓練中的準確率以及損失值變化。"
      ],
      "metadata": {
        "id": "DcOoPsxEReBz"
      }
    },
    {
      "cell_type": "code",
      "source": [
        "import matplotlib.pyplot as plt\n",
        "\n",
        "x = [i for i in range(1, EPOCHS+1)]\n",
        "plt.figure(figsize=(8,6))\n",
        "plt.plot(x, history.history['loss'], label='loss')\n",
        "plt.legend(loc='upper right')\n",
        "plt.xlabel('Epochs')\n",
        "plt.ylabel('loss')\n",
        "plt.show()\n",
        "\n",
        "plt.figure(figsize=(8,6))\n",
        "plt.plot(x, history.history['acc'], label='acc')\n",
        "plt.legend(loc='upper right')\n",
        "plt.xlabel('Epochs')\n",
        "plt.ylabel('acc')\n",
        "plt.show()\n"
      ],
      "metadata": {
        "colab": {
          "base_uri": "https://localhost:8080/",
          "height": 759
        },
        "id": "Z3Z4kKpeQx-_",
        "outputId": "ad6c42f7-5350-4f1d-b70b-2e1c3ef1995b"
      },
      "execution_count": 9,
      "outputs": [
        {
          "output_type": "display_data",
          "data": {
            "text/plain": [
              "<Figure size 576x432 with 1 Axes>"
            ],
            "image/png": "[encoded data removed]"
          },
          "metadata": {
            "needs_background": "light"
          }
        },
        {
          "output_type": "display_data",
          "data": {
            "text/plain": [
              "<Figure size 576x432 with 1 Axes>"
            ],
            "image/png": "[encoded data removed]"
          },
          "metadata": {
            "needs_background": "light"
          }
        }
      ]
    },
    {
      "cell_type": "markdown",
      "source": [
        "---\n",
        "## 利用Functional API 建立自定義模型\n",
        "\n",
        "先前的部份中，我們介紹了如何利用`tf.keras.Sequential`建立順序式模型。對於機器學習專案，常態下我們需要建立各式各樣的自訂模型結構。例如`ResNet-50`中所利用的殘差連結（Shortcut connection/Residual connection）就是一種無法利用順序式模型來建立的結構。我們將在此章節示範如何利用`Functional API`建立自定義的模型結構。\n",
        "\n",
        "> 本章將不會實作殘差連結。有興趣者可以參閱此[介紹](https://medium.com/@hupinwei/%E6%B7%B1%E5%BA%A6%E5%AD%B8%E7%BF%92-resnet%E4%B9%8B%E6%AE%98%E5%B7%AE%E5%AD%B8%E7%BF%92-f3ac36701b2f)。\n",
        "\n",
        "`Functional API`是一個由`Keras`套件所提供的實作方法，可以讓我們以更加彈性的方式建立我們所希望的模型結構。無論是非線性拓樸，或是共享層以及多重輸入/輸出都可以藉由`Functional API`來實踐。\n",
        "\n",
        "參考我們在先前所建立的順序式模型，如果我們要利用`Functional API`來建立相同的模型，要如何來達成呢？且看以下範例。"
      ],
      "metadata": {
        "id": "Wyi8ivT3ohDY"
      }
    },
    {
      "cell_type": "code",
      "source": [
        "# 建立輸入層\n",
        "inputs = tf.keras.layers.Input(shape=(784))\n",
        "\n",
        "# 建立全連結層\n",
        "dense_1 = tf.keras.layers.Dense(128, activation='relu')(inputs)\n",
        "dense_2 = tf.keras.layers.Dense(64, activation='relu')(dense_1)\n",
        "outputs = tf.keras.layers.Dense(10, activation='softmax')(dense_2)\n",
        "\n",
        "\n",
        "# 封裝模型\n",
        "model = tf.keras.Model(inputs = inputs, \n",
        "                       outputs = outputs, \n",
        "                       name='functional_api_model')\n",
        "\n",
        "model.summary()"
      ],
      "metadata": {
        "colab": {
          "base_uri": "https://localhost:8080/"
        },
        "id": "-VWr4zFuUqUY",
        "outputId": "f7eaf45a-fd50-427e-d0d8-bb27ae8af53d"
      },
      "execution_count": 10,
      "outputs": [
        {
          "output_type": "stream",
          "name": "stdout",
          "text": [
            "Model: \"functional_api_model\"\n",
            "_________________________________________________________________\n",
            " Layer (type)                Output Shape              Param #   \n",
            "=================================================================\n",
            " input_3 (InputLayer)        [(None, 784)]             0         \n",
            "                                                                 \n",
            " dense_6 (Dense)             (None, 128)               100480    \n",
            "                                                                 \n",
            " dense_7 (Dense)             (None, 64)                8256      \n",
            "                                                                 \n",
            " dense_8 (Dense)             (None, 10)                650       \n",
            "                                                                 \n",
            "=================================================================\n",
            "Total params: 109,386\n",
            "Trainable params: 109,386\n",
            "Non-trainable params: 0\n",
            "_________________________________________________________________\n"
          ]
        }
      ]
    },
    {
      "cell_type": "markdown",
      "source": [
        "在上方的範例中，我們於第二行利用`tf.keras.Input`函式建立了模型的輸入點，用以承接導入模型的資料；從第五行開始，我們建立了一系列的全連結層。\n",
        "\n",
        "利用`Functional API`建立模型時最大的不同在於，我們將會在每一層的設定時，額外於行末利用括號宣告將會輸入的資料。以第五行為例：\n",
        "\n",
        "```\n",
        "dense_1 = tf.keras.layers.Dense(128, activation='relu')(inputs)\n",
        "```\n",
        "在`Dense`函數的後方，與以往不同的多出了一個`(inputs)`，這寫法的意義在於，告知`Functional API`，本層的輸入函數為`inputs`所輸出的結果。我們可以在第六行以及第七行發現相同的寫法。\n",
        "\n",
        "在完成模型結構的建構後，最重要的一步就是將模型進行封裝。在順序式模型中，因為具有明確的順序關係，`Sequential`函式將會自動封裝整個模型。在利用`Functional API`建構的模型中，我們必須自行宣告模型的輸入以及輸出，並利用`tf.keras.Model`函式對模型進行封裝。"
      ],
      "metadata": {
        "id": "GJ2jttxYykDB"
      }
    },
    {
      "cell_type": "markdown",
      "source": [
        "## 編譯並進行訓練\n",
        "\n",
        "在完成對模型的封裝以後，我們就可以利用與先前相同的方法，對模型進行編譯以及訓練。"
      ],
      "metadata": {
        "id": "tkKz6ccCtOEQ"
      }
    },
    {
      "cell_type": "code",
      "source": [
        "model.compile(loss = LOSS_FN, \n",
        "                optimizer = optimizer, \n",
        "                metrics=['acc'])\n",
        "\n",
        "history = model.fit(train_ds, \n",
        "            epochs = EPOCHS, \n",
        "            verbose = 1)"
      ],
      "metadata": {
        "colab": {
          "base_uri": "https://localhost:8080/"
        },
        "id": "7dCEWfdgwQG7",
        "outputId": "b7ab813c-5f42-4651-8d10-fb896d8f5f1e"
      },
      "execution_count": 11,
      "outputs": [
        {
          "output_type": "stream",
          "name": "stdout",
          "text": [
            "Epoch 1/20\n",
            "938/938 [==============================] - 6s 6ms/step - loss: 0.3441 - acc: 0.9048\n",
            "Epoch 2/20\n",
            "938/938 [==============================] - 5s 6ms/step - loss: 0.1894 - acc: 0.9459\n",
            "Epoch 3/20\n",
            "938/938 [==============================] - 5s 6ms/step - loss: 0.1557 - acc: 0.9567\n",
            "Epoch 4/20\n",
            "938/938 [==============================] - 5s 6ms/step - loss: 0.1426 - acc: 0.9599\n",
            "Epoch 5/20\n",
            "938/938 [==============================] - 5s 6ms/step - loss: 0.1311 - acc: 0.9636\n",
            "Epoch 6/20\n",
            "938/938 [==============================] - 5s 6ms/step - loss: 0.1244 - acc: 0.9654\n",
            "Epoch 7/20\n",
            "938/938 [==============================] - 5s 5ms/step - loss: 0.1213 - acc: 0.9666\n",
            "Epoch 8/20\n",
            "938/938 [==============================] - 5s 6ms/step - loss: 0.1120 - acc: 0.9691\n",
            "Epoch 9/20\n",
            "938/938 [==============================] - 5s 6ms/step - loss: 0.1048 - acc: 0.9708\n",
            "Epoch 10/20\n",
            "938/938 [==============================] - 5s 6ms/step - loss: 0.1069 - acc: 0.9700\n",
            "Epoch 11/20\n",
            "938/938 [==============================] - 5s 6ms/step - loss: 0.0988 - acc: 0.9728\n",
            "Epoch 12/20\n",
            "938/938 [==============================] - 5s 6ms/step - loss: 0.0976 - acc: 0.9729\n",
            "Epoch 13/20\n",
            "938/938 [==============================] - 5s 6ms/step - loss: 0.0965 - acc: 0.9737\n",
            "Epoch 14/20\n",
            "938/938 [==============================] - 5s 6ms/step - loss: 0.0986 - acc: 0.9728\n",
            "Epoch 15/20\n",
            "938/938 [==============================] - 6s 6ms/step - loss: 0.0908 - acc: 0.9756\n",
            "Epoch 16/20\n",
            "938/938 [==============================] - 5s 6ms/step - loss: 0.0892 - acc: 0.9757\n",
            "Epoch 17/20\n",
            "938/938 [==============================] - 5s 6ms/step - loss: 0.0861 - acc: 0.9765\n",
            "Epoch 18/20\n",
            "938/938 [==============================] - 5s 6ms/step - loss: 0.0895 - acc: 0.9755\n",
            "Epoch 19/20\n",
            "938/938 [==============================] - 5s 6ms/step - loss: 0.0843 - acc: 0.9775\n",
            "Epoch 20/20\n",
            "938/938 [==============================] - 5s 6ms/step - loss: 0.0833 - acc: 0.9777\n"
          ]
        }
      ]
    },
    {
      "cell_type": "markdown",
      "source": [
        "同樣的，我們也能用`.fit()`函式回傳的模型訓練資料進行作圖，並顯示訓練中的準確度以及損失值變化。"
      ],
      "metadata": {
        "id": "XxzgshbawXD6"
      }
    },
    {
      "cell_type": "code",
      "source": [
        "import matplotlib.pyplot as plt\n",
        "\n",
        "x = [i for i in range(1, EPOCHS+1)]\n",
        "plt.figure(figsize=(8,6))\n",
        "plt.plot(x, history.history['loss'], label='loss')\n",
        "plt.legend(loc='upper right')\n",
        "plt.xlabel('Epochs')\n",
        "plt.ylabel('loss')\n",
        "plt.show()\n",
        "\n",
        "plt.figure(figsize=(8,6))\n",
        "plt.plot(x, history.history['acc'], label='acc')\n",
        "plt.legend(loc='upper right')\n",
        "plt.xlabel('Epochs')\n",
        "plt.ylabel('acc')\n",
        "plt.show()\n"
      ],
      "metadata": {
        "colab": {
          "base_uri": "https://localhost:8080/",
          "height": 759
        },
        "id": "-nzO7v90uorg",
        "outputId": "59dc1051-67e9-464f-e8db-4209cfc8d757"
      },
      "execution_count": 12,
      "outputs": [
        {
          "output_type": "display_data",
          "data": {
            "text/plain": [
              "<Figure size 576x432 with 1 Axes>"
            ],
            "image/png": "[encoded data removed]"
          },
          "metadata": {
            "needs_background": "light"
          }
        },
        {
          "output_type": "display_data",
          "data": {
            "text/plain": [
              "<Figure size 576x432 with 1 Axes>"
            ],
            "image/png": "[encoded data removed]"
          },
          "metadata": {
            "needs_background": "light"
          }
        }
      ]
    },
    {
      "cell_type": "markdown",
      "source": [
        "---\n",
        "## 利用自定義類別建立模型\n",
        "\n",
        "在先前的部份，我們嘗試利用`Functional API`建立自訂結構的模型。但在此之上，我們還能有更加彈性的選擇，那就是利用繼承了`tf.keras.Model`類別來進行模型的建立。此方法有幾個必要的元素：\n",
        "\n",
        "1. 一個繼承了`tf.keras.Model`的類別。\n",
        "2. 類別內必須實作`__init__`以及`call`兩個方法。\n",
        "3. 類別必須利用`spuer().__init__()`方法繼承`tf.keras.Model`的初始化設定。\n",
        "\n",
        "以下是利用此方法建立模型的範例。我們將使用與先前相同的模型結構來進行示範。\n",
        "\n",
        "### 模型設定\n"
      ],
      "metadata": {
        "id": "IPvEHlnYxQMl"
      }
    },
    {
      "cell_type": "code",
      "source": [
        "class MLP_MODEL(tf.keras.Model):\n",
        "    def __init__(self, **kargs):\n",
        "        super(MLP_MODEL, self).__init__(**kargs)\n",
        "        self.dense_1 = tf.keras.layers.Dense(128, activation='relu')\n",
        "        self.dense_2 = tf.keras.layers.Dense(64, activation='relu')\n",
        "        self.dense_3 = tf.keras.layers.Dense(10, activation='softmax')\n",
        "    def call(self, inputs):\n",
        "        y = self.dense_1(inputs)\n",
        "        y = self.dense_2(y)\n",
        "        outputs = self.dense_3(y)\n",
        "        return outputs\n",
        "\n",
        "model = MLP_MODEL()"
      ],
      "metadata": {
        "id": "DWjOTvQY5Ebc"
      },
      "execution_count": 13,
      "outputs": []
    },
    {
      "cell_type": "markdown",
      "source": [
        "以上這種方法，又稱`模型子類化(model subclassing)`。有別於先前的建立模式，利用這種方式所建立的模型不需要經由`model.compile()`函式進行編譯，也不需要利用`model.fit()`進行訓練。\n",
        "\n",
        "> 若使用者希望，也仍然可以在建立好模型後利用`.compile()`以及`.fit()`來進行訓練。\n",
        "\n",
        "利用此方法建立的模型將具有更大的自由度以及更加彈性的架構，但相對的其設定也變得更加複雜且繁瑣。"
      ],
      "metadata": {
        "id": "_RwE5PnXARfk"
      }
    },
    {
      "cell_type": "markdown",
      "source": [
        "### 設定損失函數以及優化器\n",
        "\n",
        "首先，我們一樣要設訂我們所選用的損失函數以及優化器。予以往不同，在此方法中不能透過給定`loss='categorical_crossentropy`以及`optimizer='adam'`來進行指定，必須直接建立一個物件來進行使用。所以我們透過下方第一行以及第二行的程式碼來進行優化器和損失函數的建立。\n",
        "```\n",
        "loss_object = tf.keras.losses.CategoricalCrossentropy()\n",
        "optimizer = tf.keras.optimizers.Adam()\n",
        "```\n",
        "\n",
        "在訓練過程中，每一批次的資料都會進行損失值的計算，並回傳給我們所建立的變數。而每一週期的損失值，即為該週期內所有損失值的平均。我們可以透過將計算好的損失值傳入`tf.keras.metrics.Mean()`函式進行計算，並得到該當週期的損失值。在準確率的部份，我們可以利用將預測值以及真實值傳入`tf.keras.metrics.CategoricalAccuracy()`函式來進行比對，並求出準確率。\n",
        "\n",
        "> 為何選用`CategoricalAccuracy`？因為我們採用`one-hot`編碼對真實值進行編碼，並且輸出10個元素的陣列，故需要利用`CategoricalAccuracy`來對兩個`one-hot`編碼的陣列進行比對，並計算準確率。"
      ],
      "metadata": {
        "id": "uqIR_IH0EM5m"
      }
    },
    {
      "cell_type": "code",
      "source": [
        "loss_object = tf.keras.losses.CategoricalCrossentropy()\n",
        "optimizer = tf.keras.optimizers.Adam()\n",
        "\n",
        "train_loss = tf.keras.metrics.Mean(name='train_loss')\n",
        "train_acc = tf.keras.metrics.CategoricalAccuracy(name='train_acc')\n",
        "\n",
        "test_loss = tf.keras.metrics.Mean(name='test_loss')\n",
        "test_acc = tf.keras.metrics.CategoricalAccuracy(name='test_acc')"
      ],
      "metadata": {
        "id": "2NpqxT7dES4_"
      },
      "execution_count": 14,
      "outputs": []
    },
    {
      "cell_type": "markdown",
      "source": [
        "### 設定訓練以及測試流程\n",
        "\n",
        "透過`模型子類化`建立的模型，需要利用`tf.GradientTape`函式來進行訓練；梯度的計算，模型的優化則透過先前建立的`loss_object`、`optimizer`以及相對應的`metrics`物件進行處理。\n",
        "\n",
        "我們可以將訓練以及測試的流程包裝成函數來簡化我們的流程。在`train_step`中，首先我們先宣告\n",
        "```\n",
        "with tf.GradientTape() as tape:\n",
        "```\n",
        "來讓程式紀錄訓練過程中的梯度變化。然後利用將資料導入模型來取得預測資訊，再利用損失函數計算損失值。再取得損失值之後，我們可以計算梯度並利用梯度進行優化。最後我們將利用期間取得的損失值以及預測資訊來計算週期內的損失值以及準確率。\n",
        "\n",
        "在測試階段，因為不需要進行梯度的計算，故可以省略呼叫`tf.GradientTape`和計算梯度以及優化模型的部份。\n",
        "\n",
        "> 關於`tf.GradientTape()`的介紹，可以至[官方網站](https://www.tensorflow.org/api_docs/python/tf/GradientTape)閱覽。\n",
        "\n",
        "或許有人注意到，我們在`train_step`以及`test_step`函式的定義前加了一個`@tf.function`的裝飾器。這是在`TensorFlow 2.0`以上版本中加入的動態計算圖功能，可以將使用者建立的函式在`eager`模式下進行運算，並在初次運算時建立動態圖，並在後續重複調用。\n",
        "\n",
        "> 關於`tf.function`的詳細介紹可至[本文章](https://medium.com/%E8%BB%9F%E9%AB%94%E4%B9%8B%E5%BF%83/tensorflow-%E5%AF%A6%E5%8B%99%E8%A7%A3%E6%9E%90tf-function-1-%E7%9C%8B%E4%BC%BC%E7%B0%A1%E5%96%AE%E5%AF%A6%E8%80%8C%E8%A4%87%E9%9B%9C-d344d6a33f44)了解。"
      ],
      "metadata": {
        "id": "10sE3wddFerg"
      }
    },
    {
      "cell_type": "code",
      "source": [
        "@tf.function\n",
        "def train_step(images, labels):\n",
        "    with tf.GradientTape() as tape:\n",
        "        pred = model(images, training=True)\n",
        "        loss = loss_object(labels, pred)\n",
        "    gradients = tape.gradient(loss, model.trainable_variables)\n",
        "    optimizer.apply_gradients(zip(gradients, model.trainable_variables))\n",
        "\n",
        "    train_loss(loss)\n",
        "    train_acc(labels, pred)\n",
        "\n",
        "@tf.function\n",
        "def test_step(images, labels):\n",
        "    test_pred = model(images, training=False)\n",
        "    test_losses = loss_object(labels, test_pred)\n",
        "\n",
        "    test_loss(test_losses)\n",
        "    test_acc(labels, test_pred)"
      ],
      "metadata": {
        "id": "phh9dOPTGtoy"
      },
      "execution_count": 15,
      "outputs": []
    },
    {
      "cell_type": "markdown",
      "source": [
        "### 進行訓練以及測試\n",
        "\n",
        "在完成了訓練及測試流程的編寫夠，我們就可以透過將資料導入建立好的函式來進行訓練和測試了。在這邊需要注意的只有必須在每週其開始時將各項量尺的狀態進行重設。"
      ],
      "metadata": {
        "id": "RBukgs3MKFYH"
      }
    },
    {
      "cell_type": "code",
      "source": [
        "for epoch in range(EPOCHS):\n",
        "    # Reset the metrics at the start of the next epoch\n",
        "    train_loss.reset_states()\n",
        "    train_acc.reset_states()\n",
        "    test_loss.reset_states()\n",
        "    test_acc.reset_states()\n",
        "\n",
        "    for images, labels in train_ds:\n",
        "        train_step(images, labels)\n",
        "\n",
        "    for test_images, test_labels in test_ds:\n",
        "        test_step(test_images, test_labels)\n",
        "\n",
        "    print(\n",
        "    f'Epoch {epoch + 1}, '\n",
        "    f'Loss: {train_loss.result()}, '\n",
        "    f'Accuracy: {train_acc.result() * 100}, '\n",
        "    f'Test Loss: {test_loss.result()}, '\n",
        "    f'Test Accuracy: {test_acc.result() * 100}'\n",
        "    )"
      ],
      "metadata": {
        "colab": {
          "base_uri": "https://localhost:8080/"
        },
        "id": "498Ysmja4O5Q",
        "outputId": "1eefadab-24fb-49d2-fbfb-88794d05f32d"
      },
      "execution_count": 16,
      "outputs": [
        {
          "output_type": "stream",
          "name": "stdout",
          "text": [
            "Epoch 1, Loss: 0.2736295759677887, Accuracy: 92.0, Test Loss: 0.13081921637058258, Test Accuracy: 96.1300048828125\n",
            "Epoch 2, Loss: 0.11150200664997101, Accuracy: 96.71166229248047, Test Loss: 0.10535989701747894, Test Accuracy: 96.79000091552734\n",
            "Epoch 3, Loss: 0.07595745474100113, Accuracy: 97.75, Test Loss: 0.09861746430397034, Test Accuracy: 96.94999694824219\n",
            "Epoch 4, Loss: 0.05713047459721565, Accuracy: 98.36000061035156, Test Loss: 0.09555094689130783, Test Accuracy: 97.06999969482422\n",
            "Epoch 5, Loss: 0.04439568519592285, Accuracy: 98.69667053222656, Test Loss: 0.11408955603837967, Test Accuracy: 96.6500015258789\n",
            "Epoch 6, Loss: 0.03433474153280258, Accuracy: 99.01333618164062, Test Loss: 0.12005390226840973, Test Accuracy: 96.55999755859375\n",
            "Epoch 7, Loss: 0.0282563716173172, Accuracy: 99.1550064086914, Test Loss: 0.11402781307697296, Test Accuracy: 96.80999755859375\n",
            "Epoch 8, Loss: 0.02375872991979122, Accuracy: 99.23999786376953, Test Loss: 0.11543497443199158, Test Accuracy: 97.02999877929688\n",
            "Epoch 9, Loss: 0.0198308527469635, Accuracy: 99.41166687011719, Test Loss: 0.10955505818128586, Test Accuracy: 97.20999908447266\n",
            "Epoch 10, Loss: 0.018418969586491585, Accuracy: 99.4000015258789, Test Loss: 0.09422341734170914, Test Accuracy: 97.75999450683594\n",
            "Epoch 11, Loss: 0.017932498827576637, Accuracy: 99.38333892822266, Test Loss: 0.10274981707334518, Test Accuracy: 97.7199935913086\n",
            "Epoch 12, Loss: 0.014548379927873611, Accuracy: 99.52666473388672, Test Loss: 0.10789000242948532, Test Accuracy: 97.43999481201172\n",
            "Epoch 13, Loss: 0.011593864299356937, Accuracy: 99.61166381835938, Test Loss: 0.11788257956504822, Test Accuracy: 97.40999603271484\n",
            "Epoch 14, Loss: 0.012299101799726486, Accuracy: 99.58000183105469, Test Loss: 0.11815956979990005, Test Accuracy: 97.41999816894531\n",
            "Epoch 15, Loss: 0.011621860787272453, Accuracy: 99.58499908447266, Test Loss: 0.11615957319736481, Test Accuracy: 97.68000030517578\n",
            "Epoch 16, Loss: 0.010683695785701275, Accuracy: 99.63666534423828, Test Loss: 0.10716858506202698, Test Accuracy: 97.79000091552734\n",
            "Epoch 17, Loss: 0.009701147675514221, Accuracy: 99.69666290283203, Test Loss: 0.14380846917629242, Test Accuracy: 97.23999786376953\n",
            "Epoch 18, Loss: 0.010576954111456871, Accuracy: 99.63166809082031, Test Loss: 0.11750660836696625, Test Accuracy: 97.94999694824219\n",
            "Epoch 19, Loss: 0.01003506500273943, Accuracy: 99.66666412353516, Test Loss: 0.13443432748317719, Test Accuracy: 97.44999694824219\n",
            "Epoch 20, Loss: 0.008295785635709763, Accuracy: 99.71666717529297, Test Loss: 0.10920628160238266, Test Accuracy: 97.97999572753906\n"
          ]
        }
      ]
    },
    {
      "cell_type": "markdown",
      "source": [
        "## 結語\n",
        "\n",
        "在本範例中，我們示範了如何用`tf.keras.Sequential()`函數、`Functional API`以及`模型子類化`來建立一個簡單的機器學習模型。接下來我們將了解如何透過建立`Callback`物件以及利用`Tensorboard`來監控模型的訓練流程。"
      ],
      "metadata": {
        "id": "3FOp77zawrpZ"
      }
    }
  ]
}
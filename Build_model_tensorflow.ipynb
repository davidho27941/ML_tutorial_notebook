{
  "nbformat": 4,
  "nbformat_minor": 0,
  "metadata": {
    "colab": {
      "name": "Build_model_tensorflow.ipynb",
      "provenance": [],
      "authorship_tag": "ABX9TyO+RipgrGA1L1c8Jnej3uQv",
      "include_colab_link": true
    },
    "kernelspec": {
      "name": "python3",
      "display_name": "Python 3"
    },
    "language_info": {
      "name": "python"
    },
    "accelerator": "GPU"
  },
  "cells": [
    {
      "cell_type": "markdown",
      "metadata": {
        "id": "view-in-github",
        "colab_type": "text"
      },
      "source": [
        "<a href=\"https://colab.research.google.com/github/davidho27941/ML_tutorial_notebook/blob/main/Build_model_tensorflow.ipynb\" target=\"_parent\"><img src=\"https://colab.research.google.com/assets/colab-badge.svg\" alt=\"Open In Colab\"/></a>"
      ]
    },
    {
      "cell_type": "markdown",
      "source": [
        "# 基於TesnorFlow平台的基本模型建立\n",
        "\n",
        "## 載入必要函式庫以及資料集\n",
        "\n",
        "為了在`TensorFlow`建立模型，我們需要導入以下函式庫：\n",
        "\n",
        "* tensorflow \n",
        "* tensorflow-datasets\n",
        "\n",
        "以及常用的資料處理函式庫：\n",
        "\n",
        "* Numpy \n",
        "* Pandas\n",
        "\n",
        "我們可以透過`tf.test.is_gpu_available()`來確認GPU是否可用，並選擇在CPU或是GPU上運行我們的程式。"
      ],
      "metadata": {
        "id": "0rWrXBG_csBC"
      }
    },
    {
      "cell_type": "code",
      "execution_count": 1,
      "metadata": {
        "id": "l05jzHHeE7RE",
        "colab": {
          "base_uri": "https://localhost:8080/"
        },
        "outputId": "48e07ffb-db29-472f-d0de-9a3b00658fc3"
      },
      "outputs": [
        {
          "output_type": "execute_result",
          "data": {
            "text/plain": [
              "[PhysicalDevice(name='/physical_device:GPU:0', device_type='GPU')]"
            ]
          },
          "metadata": {},
          "execution_count": 1
        }
      ],
      "source": [
        "import tensorflow as tf \n",
        "import tensorflow_datasets as tfds\n",
        "import numpy as np\n",
        "import pandas as pd\n",
        "\n",
        "tf.config.list_physical_devices('GPU')"
      ]
    },
    {
      "cell_type": "markdown",
      "source": [
        "## 匯入MNIST資料集\n",
        "\n",
        "在此範例中，我們一樣會使用MNIST資料集進行示範。\n",
        "在載入時，我們需要使用`tensorflow-datasets`的`tfds.load()`函式來抽取MNSIT資料集。並利用經由`tf.data.Dataset`的`map()`方法對資料集進行轉置；最後，我們設定批次數量為64。\n",
        "\n",
        "我們將分別導入訓練資料集以及測試資料集作為訓練以及測試使用。"
      ],
      "metadata": {
        "id": "fxItFbrvfnOi"
      }
    },
    {
      "cell_type": "code",
      "source": [
        "train_ds, train_ds_info = tfds.load(name=\"mnist\", \n",
        "                    split='train', \n",
        "                    with_info=True, \n",
        "                    as_supervised=True)\n",
        "\n",
        "test_ds, test_ds_info = tfds.load(name=\"mnist\", \n",
        "                    split='test', \n",
        "                    with_info=True, \n",
        "                    as_supervised=True)\n",
        "\n",
        "def preprocess(x, y):\n",
        "    x = x/255\n",
        "    x = tf.reshape(x, [784])\n",
        "\n",
        "    y = tf.one_hot(y, 10)  \n",
        "    return x, y\n",
        "\n",
        "train_ds = train_ds.map(lambda x, y: preprocess(x, y)).batch(64)\n",
        "test_ds = test_ds.map(lambda x, y: preprocess(x, y)).batch(64)"
      ],
      "metadata": {
        "id": "gbqukyCqc8xt"
      },
      "execution_count": 2,
      "outputs": []
    },
    {
      "cell_type": "markdown",
      "source": [
        "## 建立順序式模型\n",
        "\n",
        "在`TensorFlow`之中，建立順序是模型可以透過`tf.kears.Sequential()`函式來進行。主要有兩種作作法。\n",
        "\n",
        "1. 先行建立`model`物件，並透過`model.add()`方法為模型添加結構。\n",
        "2. 利用`tf.kears.Sequential`建立模型時，直接在參數內填入模型結構。"
      ],
      "metadata": {
        "id": "sUug2qgpnYoL"
      }
    },
    {
      "cell_type": "markdown",
      "source": [
        "### 方法一"
      ],
      "metadata": {
        "id": "hUuEbK5WFHV9"
      }
    },
    {
      "cell_type": "code",
      "source": [
        "model_1 = tf.keras.Sequential()\n",
        "model_1.add(tf.keras.layers.InputLayer(input_shape=(784)))\n",
        "model_1.add(tf.keras.layers.Dense(128, activation='relu'))\n",
        "model_1.add(tf.keras.layers.Dense(64, activation='relu'))\n",
        "model_1.add(tf.keras.layers.Dense(10, activation='softmax'))\n",
        "\n",
        "model_1.summary()"
      ],
      "metadata": {
        "colab": {
          "base_uri": "https://localhost:8080/"
        },
        "id": "37YhkhdngaCP",
        "outputId": "73ddf4cb-c81c-416e-bcc2-9d1d0ba3444b"
      },
      "execution_count": 3,
      "outputs": [
        {
          "output_type": "stream",
          "name": "stdout",
          "text": [
            "Model: \"sequential\"\n",
            "_________________________________________________________________\n",
            " Layer (type)                Output Shape              Param #   \n",
            "=================================================================\n",
            " dense (Dense)               (None, 128)               100480    \n",
            "                                                                 \n",
            " dense_1 (Dense)             (None, 64)                8256      \n",
            "                                                                 \n",
            " dense_2 (Dense)             (None, 10)                650       \n",
            "                                                                 \n",
            "=================================================================\n",
            "Total params: 109,386\n",
            "Trainable params: 109,386\n",
            "Non-trainable params: 0\n",
            "_________________________________________________________________\n"
          ]
        }
      ]
    },
    {
      "cell_type": "markdown",
      "source": [
        "### 方法二"
      ],
      "metadata": {
        "id": "0Xx3G_I4FKMT"
      }
    },
    {
      "cell_type": "code",
      "source": [
        "model_2 = tf.keras.Sequential([\n",
        "                             tf.keras.layers.InputLayer(input_shape=(784)), \n",
        "                             tf.keras.layers.Dense(128, activation='relu'), \n",
        "                             tf.keras.layers.Dense(64, activation='relu'), \n",
        "                             tf.keras.layers.Dense(10, activation='softmax'),\n",
        "                            ])\n",
        "\n",
        "model_2.summary()"
      ],
      "metadata": {
        "id": "zCJd_-Q3wnNH",
        "colab": {
          "base_uri": "https://localhost:8080/"
        },
        "outputId": "379754fd-f94c-4221-8c19-b4ddb9547e08"
      },
      "execution_count": 4,
      "outputs": [
        {
          "output_type": "stream",
          "name": "stdout",
          "text": [
            "Model: \"sequential_1\"\n",
            "_________________________________________________________________\n",
            " Layer (type)                Output Shape              Param #   \n",
            "=================================================================\n",
            " dense_3 (Dense)             (None, 128)               100480    \n",
            "                                                                 \n",
            " dense_4 (Dense)             (None, 64)                8256      \n",
            "                                                                 \n",
            " dense_5 (Dense)             (None, 10)                650       \n",
            "                                                                 \n",
            "=================================================================\n",
            "Total params: 109,386\n",
            "Trainable params: 109,386\n",
            "Non-trainable params: 0\n",
            "_________________________________________________________________\n"
          ]
        }
      ]
    },
    {
      "cell_type": "markdown",
      "source": [
        "## 設定各項超參數、損失函數以及優化器\n",
        "\n"
      ],
      "metadata": {
        "id": "1S0ETCX1FpSo"
      }
    },
    {
      "cell_type": "code",
      "source": [
        "EPOCHS = 10 #@param {type:\"slider\", min:1, max:100, setp: 1}\n",
        "LR = 1e-2 #@param {type:\"number\"}\n",
        "OPTIMIZER = 'adam' #@param [\"adam\", \"SGD\"] {type:\"raw\"}\n",
        "LOSS_FN = 'binary_crossentropy' #@param [\"binary_crossentropy\", \"categoricalcrossentropy\"] {type:\"raw\"}\n",
        "\n",
        "if OPTIMIZER == 'adam':\n",
        "    optimizer = tf.keras.optimizers.Adam(learning_rate = LR)\n",
        "elif OPTIMIZER == 'SGD':\n",
        "    momentum = 0.3 #@param {type:\"slider\", min:0, max:1, step:0.1}\n",
        "    optimizer = tf.keras.optimizers.SGD(learning_rate = LR, \n",
        "                                        momentum = momentum)\n"
      ],
      "metadata": {
        "id": "rteqkPg6Fv2I"
      },
      "execution_count": 5,
      "outputs": []
    },
    {
      "cell_type": "markdown",
      "source": [
        "## 進行訓練\n",
        "\n",
        "在建立模型，並設定好超參數以及優化器之後，我們可以利用`model.compile()`對模型進行編譯，並利用`model.fit()`進行訓練。\n",
        "\n",
        "### 編譯模型\n",
        "\n",
        "在模型建立之後，我們必須利用`model.compile()`對模型的優化器、損失函數以及評估量尺等選項進行設定。\n",
        "\n",
        "需要設定的選項如下：\n",
        "\n",
        "* 優化器（optimizer）\n",
        "* 損失函數（loss function）\n",
        "* 評估量尺（metrics）\n",
        "\n",
        "可選設定如下：\n",
        "* 損失函數權重（loss weights）\n",
        "* 權重矩陣（weighted metrics）\n",
        "* 除錯模式（run_eagerly）\n",
        "\n",
        "> 更多選項可以至[官方文件](https://www.tensorflow.org/api_docs/python/tf/keras/Model#compile)了解"
      ],
      "metadata": {
        "id": "bJlipl3cGHgD"
      }
    },
    {
      "cell_type": "code",
      "source": [
        "model_1.compile(loss = LOSS_FN, \n",
        "                optimizer = optimizer, \n",
        "                metrics=['acc'])"
      ],
      "metadata": {
        "id": "HLpw7oHcJ_fE"
      },
      "execution_count": 6,
      "outputs": []
    },
    {
      "cell_type": "markdown",
      "source": [
        "### 進行訓練\n",
        "\n",
        "當模型編譯完成後，我們就可以開始進行訓練。訓練的方式為利用`model.fit()`函數搭配相關的參數進行訓練。`model.fit()`在訓練結束後，將會回傳一個帶有訓練歷史資訊的物件，我們可以建立一個`history`變數用以儲存回傳值，並在後續對訓練過程進行了解。\n",
        "\n",
        "必要的參數有：\n",
        "\n",
        "* 輸入資料以及標籤（x, y）\n",
        "* 批次內資料數量（batch_size）\n",
        "* 週期數量（epochs）\n",
        "* 顯示模式（verbose）\n",
        "\n",
        "> 資料輸入的形式以及設定可以參照我們先前的[介紹](https://hackmd.io/@davidho9713/HyfHBzcxY/%2F86N1lvF2SdaRkcnuuWeJTg)\n",
        "\n",
        "可選設定如下：\n",
        "* 回測函式（callbacks）\n",
        "* 驗證資料集以及標籤（validation_data）\n",
        "* 驗證比例（validation_split）\n",
        "\n",
        "> 更多的選項可至[官方文件](https://www.tensorflow.org/api_docs/python/tf/keras/Model#compile)查閱\n"
      ],
      "metadata": {
        "id": "uyOS8LgiLiWs"
      }
    },
    {
      "cell_type": "code",
      "source": [
        "history = model_1.fit(train_ds, \n",
        "            epochs = EPOCHS, \n",
        "            verbose = 1,\n",
        "            )"
      ],
      "metadata": {
        "colab": {
          "base_uri": "https://localhost:8080/"
        },
        "id": "4WsR3fPsLfeN",
        "outputId": "de7fc912-d886-4146-9566-bf58b79b8200"
      },
      "execution_count": 9,
      "outputs": [
        {
          "output_type": "stream",
          "name": "stdout",
          "text": [
            "Epoch 1/10\n",
            "938/938 [==============================] - 4s 4ms/step - loss: 0.0100 - acc: 0.9859\n",
            "Epoch 2/10\n",
            "938/938 [==============================] - 4s 4ms/step - loss: 0.0097 - acc: 0.9862\n",
            "Epoch 3/10\n",
            "938/938 [==============================] - 4s 4ms/step - loss: 0.0104 - acc: 0.9854\n",
            "Epoch 4/10\n",
            "938/938 [==============================] - 4s 4ms/step - loss: 0.0091 - acc: 0.9865\n",
            "Epoch 5/10\n",
            "938/938 [==============================] - 4s 4ms/step - loss: 0.0088 - acc: 0.9880\n",
            "Epoch 6/10\n",
            "938/938 [==============================] - 4s 4ms/step - loss: 0.0078 - acc: 0.9887\n",
            "Epoch 7/10\n",
            "938/938 [==============================] - 4s 4ms/step - loss: 0.0080 - acc: 0.9884\n",
            "Epoch 8/10\n",
            "938/938 [==============================] - 4s 4ms/step - loss: 0.0087 - acc: 0.9881\n",
            "Epoch 9/10\n",
            "938/938 [==============================] - 4s 4ms/step - loss: 0.0074 - acc: 0.9898\n",
            "Epoch 10/10\n",
            "938/938 [==============================] - 4s 4ms/step - loss: 0.0080 - acc: 0.9889\n"
          ]
        }
      ]
    },
    {
      "cell_type": "markdown",
      "source": [
        "## 查看學習曲線\n",
        "\n",
        "在上一個部份，我們對模型進行了訓練，並取得了一個帶有模型訓練資訊的`history`變數。我們可以先透過內建的`__dict__`方法查看`history`物件下帶有哪些資訊。"
      ],
      "metadata": {
        "id": "ybS6PXLAPp1P"
      }
    },
    {
      "cell_type": "code",
      "source": [
        "print(f\"Type of history: {type(history)}\")\n",
        "\n",
        "history.__dict__"
      ],
      "metadata": {
        "colab": {
          "base_uri": "https://localhost:8080/"
        },
        "id": "Wct3CGCiNtlS",
        "outputId": "249ce0f4-c6a5-4a1c-d136-760cbc654513"
      },
      "execution_count": 20,
      "outputs": [
        {
          "output_type": "stream",
          "name": "stdout",
          "text": [
            "Type of history: <class 'keras.callbacks.History'>\n"
          ]
        },
        {
          "output_type": "execute_result",
          "data": {
            "text/plain": [
              "{'_chief_worker_only': None,\n",
              " '_supports_tf_logs': False,\n",
              " 'epoch': [0, 1, 2, 3, 4, 5, 6, 7, 8, 9],\n",
              " 'history': {'acc': [0.985883355140686,\n",
              "   0.9861999750137329,\n",
              "   0.9854000210762024,\n",
              "   0.9865333437919617,\n",
              "   0.9879666566848755,\n",
              "   0.9887333512306213,\n",
              "   0.9884499907493591,\n",
              "   0.988099992275238,\n",
              "   0.989799976348877,\n",
              "   0.9888833165168762],\n",
              "  'loss': [0.009955227375030518,\n",
              "   0.009743010625243187,\n",
              "   0.010406341403722763,\n",
              "   0.009098926559090614,\n",
              "   0.008774219080805779,\n",
              "   0.007801896892488003,\n",
              "   0.008027376607060432,\n",
              "   0.00865394901484251,\n",
              "   0.007354162633419037,\n",
              "   0.00796431303024292]},\n",
              " 'model': <keras.engine.sequential.Sequential at 0x7ff926e2d950>,\n",
              " 'params': {'epochs': 10, 'steps': 938, 'verbose': 1},\n",
              " 'validation_data': None}"
            ]
          },
          "metadata": {},
          "execution_count": 20
        }
      ]
    },
    {
      "cell_type": "markdown",
      "source": [
        "由上方的執行結果，我們可以得知幾項資訊：\n",
        "\n",
        "1. `history`變數為`keras.callbacks.History`物件，並非字典物件。雖然可以利用`__dict__`方法將內部資料以字典方式來輸出，但並無法利用字典物件所具有的`.keys()`、`.values()`以及`.items()`方法來提取資訊。\n",
        "\n",
        "2. `history`變數下的`history`分枝儲存了以下重要資訊：\n",
        "\n",
        "    * `acc`\n",
        "    * `loss`\n",
        "\n",
        "接下來我們將利用`acc`以及`loss`資訊來作圖，顯示訓練中的準確率以及損失值變化。"
      ],
      "metadata": {
        "id": "DcOoPsxEReBz"
      }
    },
    {
      "cell_type": "code",
      "source": [
        "import matplotlib.pyplot as plt\n",
        "\n",
        "x = [i for i in range(1, EPOCHS+1)]\n",
        "plt.figure(figsize=(8,6))\n",
        "plt.plot(x, history.history['loss'], label='loss')\n",
        "plt.legend(loc='upper right')\n",
        "plt.xlabel('Epochs')\n",
        "plt.ylabel('loss')\n",
        "plt.show()\n",
        "\n",
        "plt.figure(figsize=(8,6))\n",
        "plt.plot(x, history.history['acc'], label='acc')\n",
        "plt.legend(loc='upper right')\n",
        "plt.xlabel('Epochs')\n",
        "plt.ylabel('acc')\n",
        "plt.show()\n"
      ],
      "metadata": {
        "colab": {
          "base_uri": "https://localhost:8080/",
          "height": 762
        },
        "id": "Z3Z4kKpeQx-_",
        "outputId": "2b7a7585-4abb-44fd-d229-62e73d171528"
      },
      "execution_count": 22,
      "outputs": [
        {
          "output_type": "display_data",
          "data": {
            "text/plain": [
              "<Figure size 576x432 with 1 Axes>"
            ],
            "image/png": "[encoded data removed]"
          },
          "metadata": {
            "needs_background": "light"
          }
        },
        {
          "output_type": "display_data",
          "data": {
            "text/plain": [
              "<Figure size 576x432 with 1 Axes>"
            ],
            "image/png": "[encoded data removed]"
          },
          "metadata": {
            "needs_background": "light"
          }
        }
      ]
    },
    {
      "cell_type": "code",
      "source": [
        ""
      ],
      "metadata": {
        "id": "-VWr4zFuUqUY"
      },
      "execution_count": null,
      "outputs": []
    }
  ]
}
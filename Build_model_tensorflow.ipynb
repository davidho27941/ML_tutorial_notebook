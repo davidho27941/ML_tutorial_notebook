{
  "nbformat": 4,
  "nbformat_minor": 0,
  "metadata": {
    "colab": {
      "name": "Build_model_tensorflow.ipynb",
      "provenance": [],
      "authorship_tag": "ABX9TyN1WlH9CNVKuUM/rR/Q/ano",
      "include_colab_link": true
    },
    "kernelspec": {
      "name": "python3",
      "display_name": "Python 3"
    },
    "language_info": {
      "name": "python"
    },
    "accelerator": "GPU",
    "widgets": {
      "application/vnd.jupyter.widget-state+json": {
        "1dc4cba3d5a54f8e9b1e139f2b107c23": {
          "model_module": "@jupyter-widgets/controls",
          "model_name": "HBoxModel",
          "model_module_version": "1.5.0",
          "state": {
            "_dom_classes": [],
            "_model_module": "@jupyter-widgets/controls",
            "_model_module_version": "1.5.0",
            "_model_name": "HBoxModel",
            "_view_count": null,
            "_view_module": "@jupyter-widgets/controls",
            "_view_module_version": "1.5.0",
            "_view_name": "HBoxView",
            "box_style": "",
            "children": [
              "IPY_MODEL_4695f49d389d42d7b78709a352d1f1cc",
              "IPY_MODEL_28591e613b6a4c85b021dd2122997fe7",
              "IPY_MODEL_a1074393e70e48b6a7eef0041c48ca06"
            ],
            "layout": "IPY_MODEL_60bbc25981064f5a8464db49a896f360"
          }
        },
        "4695f49d389d42d7b78709a352d1f1cc": {
          "model_module": "@jupyter-widgets/controls",
          "model_name": "HTMLModel",
          "model_module_version": "1.5.0",
          "state": {
            "_dom_classes": [],
            "_model_module": "@jupyter-widgets/controls",
            "_model_module_version": "1.5.0",
            "_model_name": "HTMLModel",
            "_view_count": null,
            "_view_module": "@jupyter-widgets/controls",
            "_view_module_version": "1.5.0",
            "_view_name": "HTMLView",
            "description": "",
            "description_tooltip": null,
            "layout": "IPY_MODEL_674c66bac07445c292d8b8c0c214e69b",
            "placeholder": "​",
            "style": "IPY_MODEL_d99167b94ad245e59277feb4b3fc388c",
            "value": "Dl Completed...: 100%"
          }
        },
        "28591e613b6a4c85b021dd2122997fe7": {
          "model_module": "@jupyter-widgets/controls",
          "model_name": "FloatProgressModel",
          "model_module_version": "1.5.0",
          "state": {
            "_dom_classes": [],
            "_model_module": "@jupyter-widgets/controls",
            "_model_module_version": "1.5.0",
            "_model_name": "FloatProgressModel",
            "_view_count": null,
            "_view_module": "@jupyter-widgets/controls",
            "_view_module_version": "1.5.0",
            "_view_name": "ProgressView",
            "bar_style": "success",
            "description": "",
            "description_tooltip": null,
            "layout": "IPY_MODEL_e80ddd71db174aa9a35e0f3801b5a116",
            "max": 4,
            "min": 0,
            "orientation": "horizontal",
            "style": "IPY_MODEL_0ca1626ff0ba493081688efd2ce6d5ca",
            "value": 4
          }
        },
        "a1074393e70e48b6a7eef0041c48ca06": {
          "model_module": "@jupyter-widgets/controls",
          "model_name": "HTMLModel",
          "model_module_version": "1.5.0",
          "state": {
            "_dom_classes": [],
            "_model_module": "@jupyter-widgets/controls",
            "_model_module_version": "1.5.0",
            "_model_name": "HTMLModel",
            "_view_count": null,
            "_view_module": "@jupyter-widgets/controls",
            "_view_module_version": "1.5.0",
            "_view_name": "HTMLView",
            "description": "",
            "description_tooltip": null,
            "layout": "IPY_MODEL_4a5262beb56f4edb87299ab8552a2008",
            "placeholder": "​",
            "style": "IPY_MODEL_3ca2b251eba84bda96829bf29500f509",
            "value": " 4/4 [00:00&lt;00:00, 11.21 file/s]"
          }
        },
        "60bbc25981064f5a8464db49a896f360": {
          "model_module": "@jupyter-widgets/base",
          "model_name": "LayoutModel",
          "model_module_version": "1.2.0",
          "state": {
            "_model_module": "@jupyter-widgets/base",
            "_model_module_version": "1.2.0",
            "_model_name": "LayoutModel",
            "_view_count": null,
            "_view_module": "@jupyter-widgets/base",
            "_view_module_version": "1.2.0",
            "_view_name": "LayoutView",
            "align_content": null,
            "align_items": null,
            "align_self": null,
            "border": null,
            "bottom": null,
            "display": null,
            "flex": null,
            "flex_flow": null,
            "grid_area": null,
            "grid_auto_columns": null,
            "grid_auto_flow": null,
            "grid_auto_rows": null,
            "grid_column": null,
            "grid_gap": null,
            "grid_row": null,
            "grid_template_areas": null,
            "grid_template_columns": null,
            "grid_template_rows": null,
            "height": null,
            "justify_content": null,
            "justify_items": null,
            "left": null,
            "margin": null,
            "max_height": null,
            "max_width": null,
            "min_height": null,
            "min_width": null,
            "object_fit": null,
            "object_position": null,
            "order": null,
            "overflow": null,
            "overflow_x": null,
            "overflow_y": null,
            "padding": null,
            "right": null,
            "top": null,
            "visibility": null,
            "width": null
          }
        },
        "674c66bac07445c292d8b8c0c214e69b": {
          "model_module": "@jupyter-widgets/base",
          "model_name": "LayoutModel",
          "model_module_version": "1.2.0",
          "state": {
            "_model_module": "@jupyter-widgets/base",
            "_model_module_version": "1.2.0",
            "_model_name": "LayoutModel",
            "_view_count": null,
            "_view_module": "@jupyter-widgets/base",
            "_view_module_version": "1.2.0",
            "_view_name": "LayoutView",
            "align_content": null,
            "align_items": null,
            "align_self": null,
            "border": null,
            "bottom": null,
            "display": null,
            "flex": null,
            "flex_flow": null,
            "grid_area": null,
            "grid_auto_columns": null,
            "grid_auto_flow": null,
            "grid_auto_rows": null,
            "grid_column": null,
            "grid_gap": null,
            "grid_row": null,
            "grid_template_areas": null,
            "grid_template_columns": null,
            "grid_template_rows": null,
            "height": null,
            "justify_content": null,
            "justify_items": null,
            "left": null,
            "margin": null,
            "max_height": null,
            "max_width": null,
            "min_height": null,
            "min_width": null,
            "object_fit": null,
            "object_position": null,
            "order": null,
            "overflow": null,
            "overflow_x": null,
            "overflow_y": null,
            "padding": null,
            "right": null,
            "top": null,
            "visibility": null,
            "width": null
          }
        },
        "d99167b94ad245e59277feb4b3fc388c": {
          "model_module": "@jupyter-widgets/controls",
          "model_name": "DescriptionStyleModel",
          "model_module_version": "1.5.0",
          "state": {
            "_model_module": "@jupyter-widgets/controls",
            "_model_module_version": "1.5.0",
            "_model_name": "DescriptionStyleModel",
            "_view_count": null,
            "_view_module": "@jupyter-widgets/base",
            "_view_module_version": "1.2.0",
            "_view_name": "StyleView",
            "description_width": ""
          }
        },
        "e80ddd71db174aa9a35e0f3801b5a116": {
          "model_module": "@jupyter-widgets/base",
          "model_name": "LayoutModel",
          "model_module_version": "1.2.0",
          "state": {
            "_model_module": "@jupyter-widgets/base",
            "_model_module_version": "1.2.0",
            "_model_name": "LayoutModel",
            "_view_count": null,
            "_view_module": "@jupyter-widgets/base",
            "_view_module_version": "1.2.0",
            "_view_name": "LayoutView",
            "align_content": null,
            "align_items": null,
            "align_self": null,
            "border": null,
            "bottom": null,
            "display": null,
            "flex": null,
            "flex_flow": null,
            "grid_area": null,
            "grid_auto_columns": null,
            "grid_auto_flow": null,
            "grid_auto_rows": null,
            "grid_column": null,
            "grid_gap": null,
            "grid_row": null,
            "grid_template_areas": null,
            "grid_template_columns": null,
            "grid_template_rows": null,
            "height": null,
            "justify_content": null,
            "justify_items": null,
            "left": null,
            "margin": null,
            "max_height": null,
            "max_width": null,
            "min_height": null,
            "min_width": null,
            "object_fit": null,
            "object_position": null,
            "order": null,
            "overflow": null,
            "overflow_x": null,
            "overflow_y": null,
            "padding": null,
            "right": null,
            "top": null,
            "visibility": null,
            "width": null
          }
        },
        "0ca1626ff0ba493081688efd2ce6d5ca": {
          "model_module": "@jupyter-widgets/controls",
          "model_name": "ProgressStyleModel",
          "model_module_version": "1.5.0",
          "state": {
            "_model_module": "@jupyter-widgets/controls",
            "_model_module_version": "1.5.0",
            "_model_name": "ProgressStyleModel",
            "_view_count": null,
            "_view_module": "@jupyter-widgets/base",
            "_view_module_version": "1.2.0",
            "_view_name": "StyleView",
            "bar_color": null,
            "description_width": ""
          }
        },
        "4a5262beb56f4edb87299ab8552a2008": {
          "model_module": "@jupyter-widgets/base",
          "model_name": "LayoutModel",
          "model_module_version": "1.2.0",
          "state": {
            "_model_module": "@jupyter-widgets/base",
            "_model_module_version": "1.2.0",
            "_model_name": "LayoutModel",
            "_view_count": null,
            "_view_module": "@jupyter-widgets/base",
            "_view_module_version": "1.2.0",
            "_view_name": "LayoutView",
            "align_content": null,
            "align_items": null,
            "align_self": null,
            "border": null,
            "bottom": null,
            "display": null,
            "flex": null,
            "flex_flow": null,
            "grid_area": null,
            "grid_auto_columns": null,
            "grid_auto_flow": null,
            "grid_auto_rows": null,
            "grid_column": null,
            "grid_gap": null,
            "grid_row": null,
            "grid_template_areas": null,
            "grid_template_columns": null,
            "grid_template_rows": null,
            "height": null,
            "justify_content": null,
            "justify_items": null,
            "left": null,
            "margin": null,
            "max_height": null,
            "max_width": null,
            "min_height": null,
            "min_width": null,
            "object_fit": null,
            "object_position": null,
            "order": null,
            "overflow": null,
            "overflow_x": null,
            "overflow_y": null,
            "padding": null,
            "right": null,
            "top": null,
            "visibility": null,
            "width": null
          }
        },
        "3ca2b251eba84bda96829bf29500f509": {
          "model_module": "@jupyter-widgets/controls",
          "model_name": "DescriptionStyleModel",
          "model_module_version": "1.5.0",
          "state": {
            "_model_module": "@jupyter-widgets/controls",
            "_model_module_version": "1.5.0",
            "_model_name": "DescriptionStyleModel",
            "_view_count": null,
            "_view_module": "@jupyter-widgets/base",
            "_view_module_version": "1.2.0",
            "_view_name": "StyleView",
            "description_width": ""
          }
        }
      }
    }
  },
  "cells": [
    {
      "cell_type": "markdown",
      "metadata": {
        "id": "view-in-github",
        "colab_type": "text"
      },
      "source": [
        "<a href=\"https://colab.research.google.com/github/davidho27941/ML_tutorial_notebook/blob/main/Build_model_tensorflow.ipynb\" target=\"_parent\"><img src=\"https://colab.research.google.com/assets/colab-badge.svg\" alt=\"Open In Colab\"/></a>"
      ]
    },
    {
      "cell_type": "markdown",
      "source": [
        "# 基於TesnorFlow平台的基本模型建立\n",
        "---\n",
        "## 載入必要函式庫以及資料集\n",
        "\n",
        "為了在`TensorFlow`建立模型，我們需要導入以下函式庫：\n",
        "\n",
        "* tensorflow \n",
        "* tensorflow-datasets\n",
        "\n",
        "以及常用的資料處理函式庫：\n",
        "\n",
        "* Numpy \n",
        "* Pandas\n",
        "\n",
        "我們可以透過`tf.config.list_physical_devices('GPU')`來確認GPU是否可用，並選擇在CPU或是GPU上運行我們的程式。"
      ],
      "metadata": {
        "id": "0rWrXBG_csBC"
      }
    },
    {
      "cell_type": "code",
      "execution_count": 2,
      "metadata": {
        "id": "l05jzHHeE7RE",
        "colab": {
          "base_uri": "https://localhost:8080/"
        },
        "outputId": "16ca820b-514e-4d08-b8e3-8748f8a7a752"
      },
      "outputs": [
        {
          "output_type": "execute_result",
          "data": {
            "text/plain": [
              "[PhysicalDevice(name='/physical_device:GPU:0', device_type='GPU')]"
            ]
          },
          "metadata": {},
          "execution_count": 2
        }
      ],
      "source": [
        "import tensorflow as tf \n",
        "import tensorflow_datasets as tfds\n",
        "import numpy as np\n",
        "import pandas as pd\n",
        "\n",
        "tf.config.list_physical_devices('GPU')"
      ]
    },
    {
      "cell_type": "markdown",
      "source": [
        "---\n",
        "## 匯入MNIST資料集\n",
        "\n",
        "在此範例中，我們一樣會使用MNIST資料集進行示範。\n",
        "在載入時，我們需要使用`tensorflow-datasets`的`tfds.load()`函式來抽取MNSIT資料集。並利用經由`tf.data.Dataset`的`map()`方法對資料集進行轉置；最後，我們設定批次數量為64。\n",
        "\n",
        "我們將分別導入訓練資料集以及測試資料集作為訓練以及測試使用。"
      ],
      "metadata": {
        "id": "fxItFbrvfnOi"
      }
    },
    {
      "cell_type": "code",
      "source": [
        "train_ds, train_ds_info = tfds.load(name=\"mnist\", \n",
        "                    split='train', \n",
        "                    with_info=True, \n",
        "                    as_supervised=True)\n",
        "\n",
        "test_ds, test_ds_info = tfds.load(name=\"mnist\", \n",
        "                    split='test', \n",
        "                    with_info=True, \n",
        "                    as_supervised=True)\n",
        "\n",
        "def preprocess(x, y):\n",
        "    x = x/255\n",
        "    x = tf.reshape(x, [784])\n",
        "\n",
        "    y = tf.one_hot(y, 10)  \n",
        "    return x, y\n",
        "\n",
        "train_ds = train_ds.map(lambda x, y: preprocess(x, y)).batch(64)\n",
        "test_ds = test_ds.map(lambda x, y: preprocess(x, y)).batch(64)"
      ],
      "metadata": {
        "id": "gbqukyCqc8xt",
        "colab": {
          "base_uri": "https://localhost:8080/",
          "height": 188,
          "referenced_widgets": [
            "1dc4cba3d5a54f8e9b1e139f2b107c23",
            "4695f49d389d42d7b78709a352d1f1cc",
            "28591e613b6a4c85b021dd2122997fe7",
            "a1074393e70e48b6a7eef0041c48ca06",
            "60bbc25981064f5a8464db49a896f360",
            "674c66bac07445c292d8b8c0c214e69b",
            "d99167b94ad245e59277feb4b3fc388c",
            "e80ddd71db174aa9a35e0f3801b5a116",
            "0ca1626ff0ba493081688efd2ce6d5ca",
            "4a5262beb56f4edb87299ab8552a2008",
            "3ca2b251eba84bda96829bf29500f509"
          ]
        },
        "outputId": "a470b76c-0c81-41bb-9ae9-996a111075b6"
      },
      "execution_count": 3,
      "outputs": [
        {
          "output_type": "stream",
          "name": "stdout",
          "text": [
            "\u001b[1mDownloading and preparing dataset mnist/3.0.1 (download: 11.06 MiB, generated: 21.00 MiB, total: 32.06 MiB) to /root/tensorflow_datasets/mnist/3.0.1...\u001b[0m\n"
          ]
        },
        {
          "output_type": "stream",
          "name": "stderr",
          "text": [
            "WARNING:absl:Dataset mnist is hosted on GCS. It will automatically be downloaded to your\n",
            "local data directory. If you'd instead prefer to read directly from our public\n",
            "GCS bucket (recommended if you're running on GCP), you can instead pass\n",
            "`try_gcs=True` to `tfds.load` or set `data_dir=gs://tfds-data/datasets`.\n",
            "\n"
          ]
        },
        {
          "output_type": "display_data",
          "data": {
            "text/plain": [
              "Dl Completed...:   0%|          | 0/4 [00:00<?, ? file/s]"
            ],
            "application/vnd.jupyter.widget-view+json": {
              "version_major": 2,
              "version_minor": 0,
              "model_id": "1dc4cba3d5a54f8e9b1e139f2b107c23"
            }
          },
          "metadata": {}
        },
        {
          "output_type": "stream",
          "name": "stdout",
          "text": [
            "\n",
            "\u001b[1mDataset mnist downloaded and prepared to /root/tensorflow_datasets/mnist/3.0.1. Subsequent calls will reuse this data.\u001b[0m\n"
          ]
        }
      ]
    },
    {
      "cell_type": "markdown",
      "source": [
        "---\n",
        "## 建立順序式模型\n",
        "\n",
        "在`TensorFlow`之中，建立順序是模型可以透過`tf.kears.Sequential()`函式來進行。主要有兩種作作法。\n",
        "\n",
        "1. 先行建立`model`物件，並透過`model.add()`方法為模型添加結構。\n",
        "2. 利用`tf.kears.Sequential`建立模型時，直接在參數內填入模型結構。"
      ],
      "metadata": {
        "id": "sUug2qgpnYoL"
      }
    },
    {
      "cell_type": "markdown",
      "source": [
        "### 方法一"
      ],
      "metadata": {
        "id": "hUuEbK5WFHV9"
      }
    },
    {
      "cell_type": "code",
      "source": [
        "model_1 = tf.keras.Sequential()\n",
        "model_1.add(tf.keras.layers.InputLayer(input_shape=(784)))\n",
        "model_1.add(tf.keras.layers.Dense(128, activation='relu'))\n",
        "model_1.add(tf.keras.layers.Dense(64, activation='relu'))\n",
        "model_1.add(tf.keras.layers.Dense(10, activation='softmax'))\n",
        "\n",
        "model_1.summary()"
      ],
      "metadata": {
        "colab": {
          "base_uri": "https://localhost:8080/"
        },
        "id": "37YhkhdngaCP",
        "outputId": "41991266-9ff5-4d2c-d1f8-3d8d6660e4dd"
      },
      "execution_count": 4,
      "outputs": [
        {
          "output_type": "stream",
          "name": "stdout",
          "text": [
            "Model: \"sequential\"\n",
            "_________________________________________________________________\n",
            " Layer (type)                Output Shape              Param #   \n",
            "=================================================================\n",
            " dense (Dense)               (None, 128)               100480    \n",
            "                                                                 \n",
            " dense_1 (Dense)             (None, 64)                8256      \n",
            "                                                                 \n",
            " dense_2 (Dense)             (None, 10)                650       \n",
            "                                                                 \n",
            "=================================================================\n",
            "Total params: 109,386\n",
            "Trainable params: 109,386\n",
            "Non-trainable params: 0\n",
            "_________________________________________________________________\n"
          ]
        }
      ]
    },
    {
      "cell_type": "markdown",
      "source": [
        "### 方法二"
      ],
      "metadata": {
        "id": "0Xx3G_I4FKMT"
      }
    },
    {
      "cell_type": "code",
      "source": [
        "model_2 = tf.keras.Sequential([\n",
        "                             tf.keras.layers.InputLayer(input_shape=(784)), \n",
        "                             tf.keras.layers.Dense(128, activation='relu'), \n",
        "                             tf.keras.layers.Dense(64, activation='relu'), \n",
        "                             tf.keras.layers.Dense(10, activation='softmax'),\n",
        "                            ])\n",
        "\n",
        "model_2.summary()"
      ],
      "metadata": {
        "id": "zCJd_-Q3wnNH",
        "colab": {
          "base_uri": "https://localhost:8080/"
        },
        "outputId": "e2d687d9-931a-4fa0-f95f-229f1c8a666c"
      },
      "execution_count": 4,
      "outputs": [
        {
          "output_type": "stream",
          "name": "stdout",
          "text": [
            "Model: \"sequential_1\"\n",
            "_________________________________________________________________\n",
            " Layer (type)                Output Shape              Param #   \n",
            "=================================================================\n",
            " dense_3 (Dense)             (None, 128)               100480    \n",
            "                                                                 \n",
            " dense_4 (Dense)             (None, 64)                8256      \n",
            "                                                                 \n",
            " dense_5 (Dense)             (None, 10)                650       \n",
            "                                                                 \n",
            "=================================================================\n",
            "Total params: 109,386\n",
            "Trainable params: 109,386\n",
            "Non-trainable params: 0\n",
            "_________________________________________________________________\n"
          ]
        }
      ]
    },
    {
      "cell_type": "markdown",
      "source": [
        "---\n",
        "## 設定各項超參數、損失函數以及優化器\n",
        "\n"
      ],
      "metadata": {
        "id": "1S0ETCX1FpSo"
      }
    },
    {
      "cell_type": "code",
      "source": [
        "EPOCHS = 20 #@param {type:\"slider\", min:1, max:100, setp: 1}\n",
        "LR = 1e-2 #@param {type:\"number\"}\n",
        "OPTIMIZER = \"adam\" #@param [\"adam\", \"SGD\"]\n",
        "LOSS_FN = \"binary_crossentropy\" #@param [\"binary_crossentropy\", \"categorical_crossentropy\"]\n",
        "\n",
        "if OPTIMIZER == 'adam':\n",
        "    optimizer = tf.keras.optimizers.Adam(learning_rate = LR)\n",
        "elif OPTIMIZER == 'SGD':\n",
        "    momentum = 0.4 #@param {type:\"slider\", min:0, max:1, step:0.1}\n",
        "    optimizer = tf.keras.optimizers.SGD(learning_rate = LR, \n",
        "                                        momentum = momentum)\n"
      ],
      "metadata": {
        "id": "rteqkPg6Fv2I"
      },
      "execution_count": 9,
      "outputs": []
    },
    {
      "cell_type": "markdown",
      "source": [
        "---\n",
        "## 進行訓練\n",
        "\n",
        "在建立模型，並設定好超參數以及優化器之後，我們可以利用`model.compile()`對模型進行編譯，並利用`model.fit()`進行訓練。\n",
        "\n",
        "### 編譯模型\n",
        "\n",
        "在模型建立之後，我們必須利用`model.compile()`對模型的優化器、損失函數以及評估量尺等選項進行設定。\n",
        "\n",
        "需要設定的選項如下：\n",
        "\n",
        "* 優化器（optimizer）\n",
        "* 損失函數（loss function）\n",
        "* 評估量尺（metrics）\n",
        "\n",
        "可選設定如下：\n",
        "* 損失函數權重（loss weights）\n",
        "* 權重矩陣（weighted metrics）\n",
        "* 除錯模式（run_eagerly）\n",
        "\n",
        "> 更多選項可以至[官方文件](https://www.tensorflow.org/api_docs/python/tf/keras/Model#compile)了解"
      ],
      "metadata": {
        "id": "bJlipl3cGHgD"
      }
    },
    {
      "cell_type": "code",
      "source": [
        "model_1.compile(loss = LOSS_FN, \n",
        "                optimizer = optimizer, \n",
        "                metrics=['acc'])"
      ],
      "metadata": {
        "id": "HLpw7oHcJ_fE"
      },
      "execution_count": 6,
      "outputs": []
    },
    {
      "cell_type": "markdown",
      "source": [
        "---\n",
        "### 進行訓練\n",
        "\n",
        "當模型編譯完成後，我們就可以開始進行訓練。訓練的方式為利用`model.fit()`函數搭配相關的參數進行訓練。`model.fit()`在訓練結束後，將會回傳一個帶有訓練歷史資訊的物件，我們可以建立一個`history`變數用以儲存回傳值，並在後續對訓練過程進行了解。\n",
        "\n",
        "必要的參數有：\n",
        "\n",
        "* 輸入資料以及標籤（x, y）\n",
        "* 批次內資料數量（batch_size）\n",
        "* 週期數量（epochs）\n",
        "* 顯示模式（verbose）\n",
        "\n",
        "> 資料輸入的形式以及設定可以參照我們先前的[介紹](https://hackmd.io/@davidho9713/HyfHBzcxY/%2F86N1lvF2SdaRkcnuuWeJTg)。\n",
        "\n",
        "可選設定如下：\n",
        "* 回測函式（callbacks）\n",
        "* 驗證資料集以及標籤（validation_data）\n",
        "* 驗證比例（validation_split）\n",
        "\n",
        "> 更多的選項可至[官方文件](https://www.tensorflow.org/api_docs/python/tf/keras/Model#compile)查閱。\n"
      ],
      "metadata": {
        "id": "uyOS8LgiLiWs"
      }
    },
    {
      "cell_type": "code",
      "source": [
        "history = model_1.fit(train_ds, \n",
        "            epochs = EPOCHS, \n",
        "            verbose = 1)"
      ],
      "metadata": {
        "colab": {
          "base_uri": "https://localhost:8080/"
        },
        "id": "4WsR3fPsLfeN",
        "outputId": "44e97bd4-d3ef-40c5-b49f-66781c2a6d5f"
      },
      "execution_count": 7,
      "outputs": [
        {
          "output_type": "stream",
          "name": "stdout",
          "text": [
            "Epoch 1/20\n",
            "938/938 [==============================] - 29s 25ms/step - loss: 0.0420 - acc: 0.9302\n",
            "Epoch 2/20\n",
            "938/938 [==============================] - 8s 8ms/step - loss: 0.0226 - acc: 0.9651\n",
            "Epoch 3/20\n",
            "938/938 [==============================] - 8s 8ms/step - loss: 0.0187 - acc: 0.9713\n",
            "Epoch 4/20\n",
            "938/938 [==============================] - 8s 8ms/step - loss: 0.0166 - acc: 0.9752\n",
            "Epoch 5/20\n",
            "938/938 [==============================] - 8s 8ms/step - loss: 0.0154 - acc: 0.9769\n",
            "Epoch 6/20\n",
            "938/938 [==============================] - 8s 8ms/step - loss: 0.0137 - acc: 0.9798\n",
            "Epoch 7/20\n",
            "938/938 [==============================] - 8s 8ms/step - loss: 0.0130 - acc: 0.9805\n",
            "Epoch 8/20\n",
            "938/938 [==============================] - 8s 8ms/step - loss: 0.0121 - acc: 0.9821\n",
            "Epoch 9/20\n",
            "938/938 [==============================] - 8s 9ms/step - loss: 0.0113 - acc: 0.9834\n",
            "Epoch 10/20\n",
            "938/938 [==============================] - 8s 8ms/step - loss: 0.0111 - acc: 0.9843\n",
            "Epoch 11/20\n",
            "938/938 [==============================] - 8s 9ms/step - loss: 0.0102 - acc: 0.9851\n",
            "Epoch 12/20\n",
            "938/938 [==============================] - 8s 8ms/step - loss: 0.0095 - acc: 0.9862\n",
            "Epoch 13/20\n",
            "938/938 [==============================] - 8s 8ms/step - loss: 0.0092 - acc: 0.9874\n",
            "Epoch 14/20\n",
            "938/938 [==============================] - 8s 8ms/step - loss: 0.0095 - acc: 0.9865\n",
            "Epoch 15/20\n",
            "938/938 [==============================] - 8s 8ms/step - loss: 0.0097 - acc: 0.9869\n",
            "Epoch 16/20\n",
            "938/938 [==============================] - 8s 8ms/step - loss: 0.0085 - acc: 0.9876\n",
            "Epoch 17/20\n",
            "938/938 [==============================] - 8s 8ms/step - loss: 0.0083 - acc: 0.9885\n",
            "Epoch 18/20\n",
            "938/938 [==============================] - 8s 8ms/step - loss: 0.0079 - acc: 0.9891\n",
            "Epoch 19/20\n",
            "938/938 [==============================] - 8s 8ms/step - loss: 0.0076 - acc: 0.9893\n",
            "Epoch 20/20\n",
            "938/938 [==============================] - 8s 8ms/step - loss: 0.0074 - acc: 0.9897\n"
          ]
        }
      ]
    },
    {
      "cell_type": "markdown",
      "source": [
        "---\n",
        "## 查看學習曲線\n",
        "\n",
        "在上一個部份，我們對模型進行了訓練，並取得了一個帶有模型訓練資訊的`history`變數。我們可以先透過內建的`__dict__`方法查看`history`物件下帶有哪些資訊。"
      ],
      "metadata": {
        "id": "ybS6PXLAPp1P"
      }
    },
    {
      "cell_type": "code",
      "source": [
        "print(f\"Type of history: {type(history)}\")\n",
        "\n",
        "history.__dict__"
      ],
      "metadata": {
        "colab": {
          "base_uri": "https://localhost:8080/"
        },
        "id": "Wct3CGCiNtlS",
        "outputId": "f5663e30-3780-476e-eccf-c6734b46a960"
      },
      "execution_count": 8,
      "outputs": [
        {
          "output_type": "stream",
          "name": "stdout",
          "text": [
            "Type of history: <class 'keras.callbacks.History'>\n"
          ]
        },
        {
          "output_type": "execute_result",
          "data": {
            "text/plain": [
              "{'_chief_worker_only': None,\n",
              " '_supports_tf_logs': False,\n",
              " 'epoch': [0,\n",
              "  1,\n",
              "  2,\n",
              "  3,\n",
              "  4,\n",
              "  5,\n",
              "  6,\n",
              "  7,\n",
              "  8,\n",
              "  9,\n",
              "  10,\n",
              "  11,\n",
              "  12,\n",
              "  13,\n",
              "  14,\n",
              "  15,\n",
              "  16,\n",
              "  17,\n",
              "  18,\n",
              "  19],\n",
              " 'history': {'acc': [0.9301999807357788,\n",
              "   0.96506667137146,\n",
              "   0.9713000059127808,\n",
              "   0.9752166867256165,\n",
              "   0.9768666625022888,\n",
              "   0.9797833561897278,\n",
              "   0.9805333614349365,\n",
              "   0.9821000099182129,\n",
              "   0.9833666682243347,\n",
              "   0.984250009059906,\n",
              "   0.9850999712944031,\n",
              "   0.9861999750137329,\n",
              "   0.9874333143234253,\n",
              "   0.986549973487854,\n",
              "   0.9869499802589417,\n",
              "   0.9876000285148621,\n",
              "   0.9884666800498962,\n",
              "   0.9891166687011719,\n",
              "   0.9893166422843933,\n",
              "   0.9896666407585144],\n",
              "  'loss': [0.0420457124710083,\n",
              "   0.022628113627433777,\n",
              "   0.018658721819519997,\n",
              "   0.016573892906308174,\n",
              "   0.015381831675767899,\n",
              "   0.013715801760554314,\n",
              "   0.013027049601078033,\n",
              "   0.01208391785621643,\n",
              "   0.01126111950725317,\n",
              "   0.011059775948524475,\n",
              "   0.01021718978881836,\n",
              "   0.009544560685753822,\n",
              "   0.009200699627399445,\n",
              "   0.009503175504505634,\n",
              "   0.009703416377305984,\n",
              "   0.008521676994860172,\n",
              "   0.008346802555024624,\n",
              "   0.007934576831758022,\n",
              "   0.007602965924888849,\n",
              "   0.007390528451651335]},\n",
              " 'model': <keras.engine.sequential.Sequential at 0x7f774d6197d0>,\n",
              " 'params': {'epochs': 20, 'steps': 938, 'verbose': 1},\n",
              " 'validation_data': None}"
            ]
          },
          "metadata": {},
          "execution_count": 8
        }
      ]
    },
    {
      "cell_type": "markdown",
      "source": [
        "由上方的執行結果，我們可以得知幾項資訊：\n",
        "\n",
        "1. `history`變數為`keras.callbacks.History`物件，並非字典物件。雖然可以利用`__dict__`方法將內部資料以字典方式來輸出，但並無法利用字典物件所具有的`.keys()`、`.values()`以及`.items()`方法來提取資訊。\n",
        "\n",
        "2. `history`變數下的`history`分枝儲存了以下重要資訊：\n",
        "\n",
        "    * `acc`\n",
        "    * `loss`\n",
        "\n",
        "接下來我們將利用`acc`以及`loss`資訊來作圖，顯示訓練中的準確率以及損失值變化。"
      ],
      "metadata": {
        "id": "DcOoPsxEReBz"
      }
    },
    {
      "cell_type": "code",
      "source": [
        "import matplotlib.pyplot as plt\n",
        "\n",
        "x = [i for i in range(1, EPOCHS+1)]\n",
        "plt.figure(figsize=(8,6))\n",
        "plt.plot(x, history.history['loss'], label='loss')\n",
        "plt.legend(loc='upper right')\n",
        "plt.xlabel('Epochs')\n",
        "plt.ylabel('loss')\n",
        "plt.show()\n",
        "\n",
        "plt.figure(figsize=(8,6))\n",
        "plt.plot(x, history.history['acc'], label='acc')\n",
        "plt.legend(loc='upper right')\n",
        "plt.xlabel('Epochs')\n",
        "plt.ylabel('acc')\n",
        "plt.show()\n"
      ],
      "metadata": {
        "colab": {
          "base_uri": "https://localhost:8080/",
          "height": 759
        },
        "id": "Z3Z4kKpeQx-_",
        "outputId": "fad6a5e8-4e9c-4c13-cac1-86b2d425ee60"
      },
      "execution_count": 9,
      "outputs": [
        {
          "output_type": "display_data",
          "data": {
            "text/plain": [
              "<Figure size 576x432 with 1 Axes>"
            ],
            "image/png": "[encoded data removed]"
          },
          "metadata": {
            "needs_background": "light"
          }
        },
        {
          "output_type": "display_data",
          "data": {
            "text/plain": [
              "<Figure size 576x432 with 1 Axes>"
            ],
            "image/png": "[encoded data removed]"
          },
          "metadata": {
            "needs_background": "light"
          }
        }
      ]
    },
    {
      "cell_type": "markdown",
      "source": [
        "---\n",
        "## 利用Functional API 建立自定義模型\n",
        "\n",
        "先前的部份中，我們介紹了如何利用`tf.keras.Sequential`建立順序式模型。對於機器學習專案，常態下我們需要建立各式各樣的自訂模型結構。例如`ResNet-50`中所利用的殘差連結（Shortcut connection/Residual connection）就是一種無法利用順序式模型來建立的結構。我們將在此章節示範如何利用`Functional API`建立自定義的模型結構。\n",
        "\n",
        "> 本章將不會實作殘差連結。有興趣者可以參閱此[介紹](https://medium.com/@hupinwei/%E6%B7%B1%E5%BA%A6%E5%AD%B8%E7%BF%92-resnet%E4%B9%8B%E6%AE%98%E5%B7%AE%E5%AD%B8%E7%BF%92-f3ac36701b2f)\n",
        "\n",
        "`Functional API`是一個由`Keras`套件所提供的實作方法，可以讓我們以更加彈性的方式建立我們所希望的模型結構。無論是非線性拓樸，或是共享層以及多重輸入/輸出都可以藉由`Functional API`來實踐。\n",
        "\n",
        "參考我們在先前所建立的順序式模型，如果我們要利用`Functional API`來建立相同的模型，要如何來達成呢？且看以下範例。"
      ],
      "metadata": {
        "id": "Wyi8ivT3ohDY"
      }
    },
    {
      "cell_type": "code",
      "source": [
        "# 建立輸入層\n",
        "inputs = tf.keras.layers.Input(shape=(784))\n",
        "\n",
        "# 建立全連結層\n",
        "dense_1 = tf.keras.layers.Dense(128, activation='relu')(inputs)\n",
        "dense_2 = tf.keras.layers.Dense(64, activation='relu')(dense_1)\n",
        "outputs = tf.keras.layers.Dense(10, activation='softmax')(dense_2)\n",
        "\n",
        "\n",
        "# 封裝模型\n",
        "model = tf.keras.Model(inputs = inputs, \n",
        "                       outputs = outputs, \n",
        "                       name='functional_api_model')\n",
        "\n",
        "model.summary()"
      ],
      "metadata": {
        "colab": {
          "base_uri": "https://localhost:8080/"
        },
        "id": "-VWr4zFuUqUY",
        "outputId": "3b4e4997-32b5-42e7-c6c8-dae7dec01c4c"
      },
      "execution_count": 10,
      "outputs": [
        {
          "output_type": "stream",
          "name": "stdout",
          "text": [
            "Model: \"functional_api_model\"\n",
            "_________________________________________________________________\n",
            " Layer (type)                Output Shape              Param #   \n",
            "=================================================================\n",
            " input_3 (InputLayer)        [(None, 784)]             0         \n",
            "                                                                 \n",
            " dense_6 (Dense)             (None, 128)               100480    \n",
            "                                                                 \n",
            " dense_7 (Dense)             (None, 64)                8256      \n",
            "                                                                 \n",
            " dense_8 (Dense)             (None, 10)                650       \n",
            "                                                                 \n",
            "=================================================================\n",
            "Total params: 109,386\n",
            "Trainable params: 109,386\n",
            "Non-trainable params: 0\n",
            "_________________________________________________________________\n"
          ]
        }
      ]
    },
    {
      "cell_type": "markdown",
      "source": [
        "在上方的範例中，我們於第二行利用`tf.keras.Input`函式建立了模型的輸入點，用以承接導入模型的資料；從第五行開始，我們建立了一系列的全連結層。\n",
        "\n",
        "利用`Functional API`建立模型時最大的不同在於，我們將會在每一層的設定時，額外於行末利用括號宣告將會輸入的資料。以第五行為例：\n",
        "\n",
        "```\n",
        "dense_1 = tf.keras.layers.Dense(128, activation='relu')(inputs)\n",
        "```\n",
        "在`Dense`函數的後方，與以往不同的多出了一個`(inputs)`，這寫法的意義在於，告知`Functional API`，本層的輸入函數為`inputs`所輸出的結果。我們可以在第六行以及第七行發現相同的寫法。\n",
        "\n",
        "在完成模型結構的建構後，最重要的一步就是將模型進行封裝。在順序式模型中，因為具有明確的順序關係，`Sequential`函式將會自動封裝整個模型。在利用`Functional API`建構的模型中，我們必須自行宣告模型的輸入以及輸出，並利用`tf.keras.Model`函式對模型進行封裝。"
      ],
      "metadata": {
        "id": "GJ2jttxYykDB"
      }
    },
    {
      "cell_type": "markdown",
      "source": [
        "## 編譯並進行訓練\n",
        "\n",
        "在完成對模型的封裝以後，我們就可以利用與先前相同的方法，對模型進行編譯以及訓練。"
      ],
      "metadata": {
        "id": "tkKz6ccCtOEQ"
      }
    },
    {
      "cell_type": "code",
      "source": [
        "model.compile(loss = LOSS_FN, \n",
        "                optimizer = optimizer, \n",
        "                metrics=['acc'])\n",
        "\n",
        "history = model.fit(train_ds, \n",
        "            epochs = EPOCHS, \n",
        "            verbose = 1)"
      ],
      "metadata": {
        "colab": {
          "base_uri": "https://localhost:8080/"
        },
        "id": "7dCEWfdgwQG7",
        "outputId": "cd5ad275-897c-4147-f55d-fc45e8a53a13"
      },
      "execution_count": 11,
      "outputs": [
        {
          "output_type": "stream",
          "name": "stdout",
          "text": [
            "Epoch 1/20\n",
            "938/938 [==============================] - 8s 8ms/step - loss: 0.0598 - acc: 0.8998\n",
            "Epoch 2/20\n",
            "938/938 [==============================] - 8s 8ms/step - loss: 0.0343 - acc: 0.9441\n",
            "Epoch 3/20\n",
            "938/938 [==============================] - 8s 8ms/step - loss: 0.0289 - acc: 0.9528\n",
            "Epoch 4/20\n",
            "938/938 [==============================] - 8s 9ms/step - loss: 0.0262 - acc: 0.9581\n",
            "Epoch 5/20\n",
            "938/938 [==============================] - 8s 8ms/step - loss: 0.0242 - acc: 0.9617\n",
            "Epoch 6/20\n",
            "938/938 [==============================] - 8s 8ms/step - loss: 0.0227 - acc: 0.9639\n",
            "Epoch 7/20\n",
            "938/938 [==============================] - 8s 8ms/step - loss: 0.0216 - acc: 0.9656\n",
            "Epoch 8/20\n",
            "938/938 [==============================] - 8s 8ms/step - loss: 0.0202 - acc: 0.9678\n",
            "Epoch 9/20\n",
            "938/938 [==============================] - 8s 8ms/step - loss: 0.0197 - acc: 0.9682\n",
            "Epoch 10/20\n",
            "938/938 [==============================] - 8s 8ms/step - loss: 0.0192 - acc: 0.9694\n",
            "Epoch 11/20\n",
            "938/938 [==============================] - 8s 8ms/step - loss: 0.0184 - acc: 0.9710\n",
            "Epoch 12/20\n",
            "938/938 [==============================] - 8s 8ms/step - loss: 0.0179 - acc: 0.9719\n",
            "Epoch 13/20\n",
            "938/938 [==============================] - 8s 8ms/step - loss: 0.0171 - acc: 0.9730\n",
            "Epoch 14/20\n",
            "938/938 [==============================] - 8s 8ms/step - loss: 0.0171 - acc: 0.9735\n",
            "Epoch 15/20\n",
            "938/938 [==============================] - 8s 8ms/step - loss: 0.0165 - acc: 0.9735\n",
            "Epoch 16/20\n",
            "938/938 [==============================] - 8s 8ms/step - loss: 0.0160 - acc: 0.9745\n",
            "Epoch 17/20\n",
            "938/938 [==============================] - 8s 8ms/step - loss: 0.0157 - acc: 0.9752\n",
            "Epoch 18/20\n",
            "938/938 [==============================] - 8s 8ms/step - loss: 0.0153 - acc: 0.9762\n",
            "Epoch 19/20\n",
            "938/938 [==============================] - 8s 8ms/step - loss: 0.0153 - acc: 0.9755\n",
            "Epoch 20/20\n",
            "938/938 [==============================] - 8s 8ms/step - loss: 0.0145 - acc: 0.9777\n"
          ]
        }
      ]
    },
    {
      "cell_type": "markdown",
      "source": [
        "同樣的，我們也能用`.fit()`函式回傳的模型訓練資料進行作圖，並顯示訓練中的準確度以及損失值變化。"
      ],
      "metadata": {
        "id": "XxzgshbawXD6"
      }
    },
    {
      "cell_type": "code",
      "source": [
        "import matplotlib.pyplot as plt\n",
        "\n",
        "x = [i for i in range(1, EPOCHS+1)]\n",
        "plt.figure(figsize=(8,6))\n",
        "plt.plot(x, history.history['loss'], label='loss')\n",
        "plt.legend(loc='upper right')\n",
        "plt.xlabel('Epochs')\n",
        "plt.ylabel('loss')\n",
        "plt.show()\n",
        "\n",
        "plt.figure(figsize=(8,6))\n",
        "plt.plot(x, history.history['acc'], label='acc')\n",
        "plt.legend(loc='upper right')\n",
        "plt.xlabel('Epochs')\n",
        "plt.ylabel('acc')\n",
        "plt.show()\n"
      ],
      "metadata": {
        "colab": {
          "base_uri": "https://localhost:8080/",
          "height": 759
        },
        "id": "-nzO7v90uorg",
        "outputId": "712f9386-b8c8-4358-ad34-b45082b82420"
      },
      "execution_count": 12,
      "outputs": [
        {
          "output_type": "display_data",
          "data": {
            "text/plain": [
              "<Figure size 576x432 with 1 Axes>"
            ],
            "image/png": "[encoded data removed]"
          },
          "metadata": {
            "needs_background": "light"
          }
        },
        {
          "output_type": "display_data",
          "data": {
            "text/plain": [
              "<Figure size 576x432 with 1 Axes>"
            ],
            "image/png": "[encoded data removed]"
          },
          "metadata": {
            "needs_background": "light"
          }
        }
      ]
    },
    {
      "cell_type": "markdown",
      "source": [
        "---\n",
        "## 利用自定義類別建立模型\n",
        "\n",
        "在先前的部份，我們嘗試利用`Functional API`建立自訂結構的模型。但在此之上，我們還能有更加彈性的選擇，那就是利用繼承了`tf.keras.Model`類別來進行模型的建立。此方法有幾個必要的元素：\n",
        "\n",
        "1. 一個繼承了`tf.keras.Model`的類別。\n",
        "2. 類別內必須實作`__init__`以及`call`兩個方法。\n",
        "3. 類別必須利用`spuer().__init__()`方法繼承`tf.keras.Model`的初始化設定。\n",
        "\n",
        "以下是利用此方法建立模型的範例。我們將使用與先前相同的模型結構來進行示範。\n",
        "\n",
        "### 模型設定\n"
      ],
      "metadata": {
        "id": "IPvEHlnYxQMl"
      }
    },
    {
      "cell_type": "code",
      "source": [
        "class MLP_MODEL(tf.keras.Model):\n",
        "    def __init__(self, **kargs):\n",
        "        super(MLP_MODEL, self).__init__(**kargs)\n",
        "        self.dense_1 = tf.keras.layers.Dense(128, activation='relu')\n",
        "        self.dense_2 = tf.keras.layers.Dense(64, activation='relu')\n",
        "        self.dense_3 = tf.keras.layers.Dense(10, activation='softmax')\n",
        "    def call(self, inputs):\n",
        "        y = self.dense_1(inputs)\n",
        "        y = self.dense_2(y)\n",
        "        outputs = self.dense_3(y)\n",
        "        return outputs\n",
        "\n",
        "model = MLP_MODEL()"
      ],
      "metadata": {
        "id": "DWjOTvQY5Ebc"
      },
      "execution_count": 5,
      "outputs": []
    },
    {
      "cell_type": "markdown",
      "source": [
        "以上這種方法，又稱`模型子類化(model subclassing)`。有別於先前的建立模式，利用這種方式所建立的模型不需要經由`model.compile`函式進行編譯，也不需要利用`model.fit()`進行訓練。利用此方法建立的模型將具有更大的自由度以及更加彈性的架構。相對的，其編寫、訓練以及設定上也將更加複雜。"
      ],
      "metadata": {
        "id": "_RwE5PnXARfk"
      }
    },
    {
      "cell_type": "markdown",
      "source": [
        "### 設定損失函數以及優化器"
      ],
      "metadata": {
        "id": "uqIR_IH0EM5m"
      }
    },
    {
      "cell_type": "code",
      "source": [
        "loss_object = tf.keras.losses.CategoricalCrossentropy()\n",
        "optimizer = tf.keras.optimizers.Adam()\n",
        "\n",
        "train_loss = tf.keras.metrics.Mean(name='train_loss')\n",
        "train_acc = tf.keras.metrics.CategoricalAccuracy(name='train_acc')\n",
        "\n",
        "test_loss = tf.keras.metrics.Mean(name='test_loss')\n",
        "test_acc = tf.keras.metrics.CategoricalAccuracy(name='test_acc')"
      ],
      "metadata": {
        "id": "2NpqxT7dES4_"
      },
      "execution_count": 6,
      "outputs": []
    },
    {
      "cell_type": "markdown",
      "source": [
        "### 設定訓練以及測試流程\n",
        "\n",
        "透過`模型子類化`建立的模型，需要利用`tf.GradientTape`函式來進行訓練；梯度的計算，模型的優化則透過先前建立的`loss_object`、`optimizer`以及相對應的`metrics`物件進行處理。"
      ],
      "metadata": {
        "id": "10sE3wddFerg"
      }
    },
    {
      "cell_type": "code",
      "source": [
        "@tf.function\n",
        "def train_step(images, labels):\n",
        "    with tf.GradientTape() as tape:\n",
        "        pred = model(images, training=True)\n",
        "        loss = loss_object(labels, pred)\n",
        "    gradients = tape.gradient(loss, model.trainable_variables)\n",
        "    optimizer.apply_gradients(zip(gradients, model.trainable_variables))\n",
        "\n",
        "    train_loss(loss)\n",
        "    train_acc(labels, pred)\n",
        "\n",
        "@tf.function\n",
        "def test_step(images, labels):\n",
        "    test_pred = model(images, training=False)\n",
        "    test_losses = loss_object(labels, test_pred)\n",
        "\n",
        "    test_loss(test_losses)\n",
        "    test_acc(labels, test_pred)"
      ],
      "metadata": {
        "id": "phh9dOPTGtoy"
      },
      "execution_count": 13,
      "outputs": []
    },
    {
      "cell_type": "markdown",
      "source": [
        "### 進行訓練以及測試\n",
        "\n"
      ],
      "metadata": {
        "id": "RBukgs3MKFYH"
      }
    },
    {
      "cell_type": "code",
      "source": [
        "for epoch in range(EPOCHS):\n",
        "    # Reset the metrics at the start of the next epoch\n",
        "    train_loss.reset_states()\n",
        "    train_acc.reset_states()\n",
        "    test_loss.reset_states()\n",
        "    test_acc.reset_states()\n",
        "\n",
        "    for images, labels in train_ds:\n",
        "        train_step(images, labels)\n",
        "\n",
        "    for test_images, test_labels in test_ds:\n",
        "        test_step(test_images, test_labels)\n",
        "\n",
        "    print(\n",
        "    f'Epoch {epoch + 1}, '\n",
        "    f'Loss: {train_loss.result()}, '\n",
        "    f'Accuracy: {train_acc.result() * 100}, '\n",
        "    f'Test Loss: {test_loss.result()}, '\n",
        "    f'Test Accuracy: {test_acc.result() * 100}'\n",
        "    )"
      ],
      "metadata": {
        "colab": {
          "base_uri": "https://localhost:8080/"
        },
        "id": "498Ysmja4O5Q",
        "outputId": "a16d23da-404c-461d-c019-5d44a35fb0e1"
      },
      "execution_count": 14,
      "outputs": [
        {
          "output_type": "stream",
          "name": "stdout",
          "text": [
            "Epoch 1, Loss: 0.10257095098495483, Accuracy: 97.24166107177734, Test Loss: 0.1258823424577713, Test Accuracy: 96.86000061035156\n",
            "Epoch 2, Loss: 0.09232383221387863, Accuracy: 97.52833557128906, Test Loss: 0.1455402821302414, Test Accuracy: 96.68000030517578\n",
            "Epoch 3, Loss: 0.09847172349691391, Accuracy: 97.39666748046875, Test Loss: 0.15411247313022614, Test Accuracy: 96.55000305175781\n",
            "Epoch 4, Loss: 0.0830605998635292, Accuracy: 97.76166534423828, Test Loss: 0.15152032673358917, Test Accuracy: 96.80000305175781\n",
            "Epoch 5, Loss: 0.08318177610635757, Accuracy: 97.80332946777344, Test Loss: 0.15016533434391022, Test Accuracy: 96.76000213623047\n",
            "Epoch 6, Loss: 0.07981283962726593, Accuracy: 97.91667175292969, Test Loss: 0.15467844903469086, Test Accuracy: 96.81999969482422\n",
            "Epoch 7, Loss: 0.07160687446594238, Accuracy: 98.11000061035156, Test Loss: 0.13336355984210968, Test Accuracy: 97.05999755859375\n",
            "Epoch 8, Loss: 0.07107507437467575, Accuracy: 98.13833618164062, Test Loss: 0.1916608363389969, Test Accuracy: 96.79000091552734\n",
            "Epoch 9, Loss: 0.07225831598043442, Accuracy: 98.24832916259766, Test Loss: 0.17652039229869843, Test Accuracy: 97.04000091552734\n",
            "Epoch 10, Loss: 0.06349088996648788, Accuracy: 98.42333221435547, Test Loss: 0.17315194010734558, Test Accuracy: 97.05999755859375\n",
            "Epoch 11, Loss: 0.07034673541784286, Accuracy: 98.28333282470703, Test Loss: 0.19529904425144196, Test Accuracy: 96.73999786376953\n",
            "Epoch 12, Loss: 0.05842065066099167, Accuracy: 98.51166534423828, Test Loss: 0.1842498928308487, Test Accuracy: 97.0999984741211\n",
            "Epoch 13, Loss: 0.06852377951145172, Accuracy: 98.36166381835938, Test Loss: 0.205844908952713, Test Accuracy: 96.80999755859375\n",
            "Epoch 14, Loss: 0.06071803346276283, Accuracy: 98.56832885742188, Test Loss: 0.18550550937652588, Test Accuracy: 97.02999877929688\n",
            "Epoch 15, Loss: 0.05816756933927536, Accuracy: 98.61666870117188, Test Loss: 0.18922828137874603, Test Accuracy: 96.91999816894531\n",
            "Epoch 16, Loss: 0.058251187205314636, Accuracy: 98.65166473388672, Test Loss: 0.17523494362831116, Test Accuracy: 97.15999603271484\n",
            "Epoch 17, Loss: 0.053748633712530136, Accuracy: 98.72833251953125, Test Loss: 0.2630065679550171, Test Accuracy: 96.93000030517578\n",
            "Epoch 18, Loss: 0.06676917523145676, Accuracy: 98.53333282470703, Test Loss: 0.27822428941726685, Test Accuracy: 96.97000122070312\n",
            "Epoch 19, Loss: 0.057328108698129654, Accuracy: 98.73832702636719, Test Loss: 0.21373894810676575, Test Accuracy: 97.27999877929688\n",
            "Epoch 20, Loss: 0.05618877708911896, Accuracy: 98.71666717529297, Test Loss: 0.2197774201631546, Test Accuracy: 97.2699966430664\n"
          ]
        }
      ]
    },
    {
      "cell_type": "markdown",
      "source": [
        "## 結語\n",
        "\n",
        "在本範例中，我們示範了如何用`tf.keras.Sequential()`函數以及利用`Functional API`來建立一個簡單的機器學習模型。接下來我們將了解如何透過建立`Callback`物件以及利用`Tensorboard`來監控模型的訓練流程。"
      ],
      "metadata": {
        "id": "3FOp77zawrpZ"
      }
    }
  ]
}
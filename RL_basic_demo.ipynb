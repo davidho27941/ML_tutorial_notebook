{
  "nbformat": 4,
  "nbformat_minor": 0,
  "metadata": {
    "colab": {
      "name": "RL_basic_demo.ipynb",
      "provenance": [],
      "authorship_tag": "ABX9TyPb0oMpWqanBZX3ngz77wIj",
      "include_colab_link": true
    },
    "kernelspec": {
      "name": "python3",
      "display_name": "Python 3"
    },
    "language_info": {
      "name": "python"
    },
    "accelerator": "GPU",
    "gpuClass": "standard",
    "widgets": {
      "application/vnd.jupyter.widget-state+json": {
        "c11327f3d2764f3682f8e3d66f43f08d": {
          "model_module": "@jupyter-widgets/controls",
          "model_name": "HBoxModel",
          "model_module_version": "1.5.0",
          "state": {
            "_dom_classes": [],
            "_model_module": "@jupyter-widgets/controls",
            "_model_module_version": "1.5.0",
            "_model_name": "HBoxModel",
            "_view_count": null,
            "_view_module": "@jupyter-widgets/controls",
            "_view_module_version": "1.5.0",
            "_view_name": "HBoxView",
            "box_style": "",
            "children": [
              "IPY_MODEL_f22cb5bf21034c1e80066c645e166bbb",
              "IPY_MODEL_153f4d60488d4dc3aee35d76add096e2",
              "IPY_MODEL_1e2b294bbc194046a1a38aa48370a6b5"
            ],
            "layout": "IPY_MODEL_a7efc09c0d074b0a8fc397c5b23a2665"
          }
        },
        "f22cb5bf21034c1e80066c645e166bbb": {
          "model_module": "@jupyter-widgets/controls",
          "model_name": "HTMLModel",
          "model_module_version": "1.5.0",
          "state": {
            "_dom_classes": [],
            "_model_module": "@jupyter-widgets/controls",
            "_model_module_version": "1.5.0",
            "_model_name": "HTMLModel",
            "_view_count": null,
            "_view_module": "@jupyter-widgets/controls",
            "_view_module_version": "1.5.0",
            "_view_name": "HTMLView",
            "description": "",
            "description_tooltip": null,
            "layout": "IPY_MODEL_beb737518fd94c11ad19e0cf3e81d863",
            "placeholder": "​",
            "style": "IPY_MODEL_d4fde2d044db409eb54b2d4cb98558bd",
            "value": "Epoch 9999: 100%"
          }
        },
        "153f4d60488d4dc3aee35d76add096e2": {
          "model_module": "@jupyter-widgets/controls",
          "model_name": "FloatProgressModel",
          "model_module_version": "1.5.0",
          "state": {
            "_dom_classes": [],
            "_model_module": "@jupyter-widgets/controls",
            "_model_module_version": "1.5.0",
            "_model_name": "FloatProgressModel",
            "_view_count": null,
            "_view_module": "@jupyter-widgets/controls",
            "_view_module_version": "1.5.0",
            "_view_name": "ProgressView",
            "bar_style": "success",
            "description": "",
            "description_tooltip": null,
            "layout": "IPY_MODEL_5cb5944111c646e1ba114f159fdeafff",
            "max": 1,
            "min": 0,
            "orientation": "horizontal",
            "style": "IPY_MODEL_3be54577e42847baa53715c4d4a23984",
            "value": 1
          }
        },
        "1e2b294bbc194046a1a38aa48370a6b5": {
          "model_module": "@jupyter-widgets/controls",
          "model_name": "HTMLModel",
          "model_module_version": "1.5.0",
          "state": {
            "_dom_classes": [],
            "_model_module": "@jupyter-widgets/controls",
            "_model_module_version": "1.5.0",
            "_model_name": "HTMLModel",
            "_view_count": null,
            "_view_module": "@jupyter-widgets/controls",
            "_view_module_version": "1.5.0",
            "_view_name": "HTMLView",
            "description": "",
            "description_tooltip": null,
            "layout": "IPY_MODEL_66d7e71ef3064c7cb4620e2a3744ca2c",
            "placeholder": "​",
            "style": "IPY_MODEL_f7225c94ff33482c88702e544fb346fa",
            "value": " 1/1 [00:00&lt;00:00, 27.35it/s, loss=0.0607, v_num=5]"
          }
        },
        "a7efc09c0d074b0a8fc397c5b23a2665": {
          "model_module": "@jupyter-widgets/base",
          "model_name": "LayoutModel",
          "model_module_version": "1.2.0",
          "state": {
            "_model_module": "@jupyter-widgets/base",
            "_model_module_version": "1.2.0",
            "_model_name": "LayoutModel",
            "_view_count": null,
            "_view_module": "@jupyter-widgets/base",
            "_view_module_version": "1.2.0",
            "_view_name": "LayoutView",
            "align_content": null,
            "align_items": null,
            "align_self": null,
            "border": null,
            "bottom": null,
            "display": "inline-flex",
            "flex": null,
            "flex_flow": "row wrap",
            "grid_area": null,
            "grid_auto_columns": null,
            "grid_auto_flow": null,
            "grid_auto_rows": null,
            "grid_column": null,
            "grid_gap": null,
            "grid_row": null,
            "grid_template_areas": null,
            "grid_template_columns": null,
            "grid_template_rows": null,
            "height": null,
            "justify_content": null,
            "justify_items": null,
            "left": null,
            "margin": null,
            "max_height": null,
            "max_width": null,
            "min_height": null,
            "min_width": null,
            "object_fit": null,
            "object_position": null,
            "order": null,
            "overflow": null,
            "overflow_x": null,
            "overflow_y": null,
            "padding": null,
            "right": null,
            "top": null,
            "visibility": null,
            "width": "100%"
          }
        },
        "beb737518fd94c11ad19e0cf3e81d863": {
          "model_module": "@jupyter-widgets/base",
          "model_name": "LayoutModel",
          "model_module_version": "1.2.0",
          "state": {
            "_model_module": "@jupyter-widgets/base",
            "_model_module_version": "1.2.0",
            "_model_name": "LayoutModel",
            "_view_count": null,
            "_view_module": "@jupyter-widgets/base",
            "_view_module_version": "1.2.0",
            "_view_name": "LayoutView",
            "align_content": null,
            "align_items": null,
            "align_self": null,
            "border": null,
            "bottom": null,
            "display": null,
            "flex": null,
            "flex_flow": null,
            "grid_area": null,
            "grid_auto_columns": null,
            "grid_auto_flow": null,
            "grid_auto_rows": null,
            "grid_column": null,
            "grid_gap": null,
            "grid_row": null,
            "grid_template_areas": null,
            "grid_template_columns": null,
            "grid_template_rows": null,
            "height": null,
            "justify_content": null,
            "justify_items": null,
            "left": null,
            "margin": null,
            "max_height": null,
            "max_width": null,
            "min_height": null,
            "min_width": null,
            "object_fit": null,
            "object_position": null,
            "order": null,
            "overflow": null,
            "overflow_x": null,
            "overflow_y": null,
            "padding": null,
            "right": null,
            "top": null,
            "visibility": null,
            "width": null
          }
        },
        "d4fde2d044db409eb54b2d4cb98558bd": {
          "model_module": "@jupyter-widgets/controls",
          "model_name": "DescriptionStyleModel",
          "model_module_version": "1.5.0",
          "state": {
            "_model_module": "@jupyter-widgets/controls",
            "_model_module_version": "1.5.0",
            "_model_name": "DescriptionStyleModel",
            "_view_count": null,
            "_view_module": "@jupyter-widgets/base",
            "_view_module_version": "1.2.0",
            "_view_name": "StyleView",
            "description_width": ""
          }
        },
        "5cb5944111c646e1ba114f159fdeafff": {
          "model_module": "@jupyter-widgets/base",
          "model_name": "LayoutModel",
          "model_module_version": "1.2.0",
          "state": {
            "_model_module": "@jupyter-widgets/base",
            "_model_module_version": "1.2.0",
            "_model_name": "LayoutModel",
            "_view_count": null,
            "_view_module": "@jupyter-widgets/base",
            "_view_module_version": "1.2.0",
            "_view_name": "LayoutView",
            "align_content": null,
            "align_items": null,
            "align_self": null,
            "border": null,
            "bottom": null,
            "display": null,
            "flex": "2",
            "flex_flow": null,
            "grid_area": null,
            "grid_auto_columns": null,
            "grid_auto_flow": null,
            "grid_auto_rows": null,
            "grid_column": null,
            "grid_gap": null,
            "grid_row": null,
            "grid_template_areas": null,
            "grid_template_columns": null,
            "grid_template_rows": null,
            "height": null,
            "justify_content": null,
            "justify_items": null,
            "left": null,
            "margin": null,
            "max_height": null,
            "max_width": null,
            "min_height": null,
            "min_width": null,
            "object_fit": null,
            "object_position": null,
            "order": null,
            "overflow": null,
            "overflow_x": null,
            "overflow_y": null,
            "padding": null,
            "right": null,
            "top": null,
            "visibility": null,
            "width": null
          }
        },
        "3be54577e42847baa53715c4d4a23984": {
          "model_module": "@jupyter-widgets/controls",
          "model_name": "ProgressStyleModel",
          "model_module_version": "1.5.0",
          "state": {
            "_model_module": "@jupyter-widgets/controls",
            "_model_module_version": "1.5.0",
            "_model_name": "ProgressStyleModel",
            "_view_count": null,
            "_view_module": "@jupyter-widgets/base",
            "_view_module_version": "1.2.0",
            "_view_name": "StyleView",
            "bar_color": null,
            "description_width": ""
          }
        },
        "66d7e71ef3064c7cb4620e2a3744ca2c": {
          "model_module": "@jupyter-widgets/base",
          "model_name": "LayoutModel",
          "model_module_version": "1.2.0",
          "state": {
            "_model_module": "@jupyter-widgets/base",
            "_model_module_version": "1.2.0",
            "_model_name": "LayoutModel",
            "_view_count": null,
            "_view_module": "@jupyter-widgets/base",
            "_view_module_version": "1.2.0",
            "_view_name": "LayoutView",
            "align_content": null,
            "align_items": null,
            "align_self": null,
            "border": null,
            "bottom": null,
            "display": null,
            "flex": null,
            "flex_flow": null,
            "grid_area": null,
            "grid_auto_columns": null,
            "grid_auto_flow": null,
            "grid_auto_rows": null,
            "grid_column": null,
            "grid_gap": null,
            "grid_row": null,
            "grid_template_areas": null,
            "grid_template_columns": null,
            "grid_template_rows": null,
            "height": null,
            "justify_content": null,
            "justify_items": null,
            "left": null,
            "margin": null,
            "max_height": null,
            "max_width": null,
            "min_height": null,
            "min_width": null,
            "object_fit": null,
            "object_position": null,
            "order": null,
            "overflow": null,
            "overflow_x": null,
            "overflow_y": null,
            "padding": null,
            "right": null,
            "top": null,
            "visibility": null,
            "width": null
          }
        },
        "f7225c94ff33482c88702e544fb346fa": {
          "model_module": "@jupyter-widgets/controls",
          "model_name": "DescriptionStyleModel",
          "model_module_version": "1.5.0",
          "state": {
            "_model_module": "@jupyter-widgets/controls",
            "_model_module_version": "1.5.0",
            "_model_name": "DescriptionStyleModel",
            "_view_count": null,
            "_view_module": "@jupyter-widgets/base",
            "_view_module_version": "1.2.0",
            "_view_name": "StyleView",
            "description_width": ""
          }
        }
      }
    }
  },
  "cells": [
    {
      "cell_type": "markdown",
      "metadata": {
        "id": "view-in-github",
        "colab_type": "text"
      },
      "source": [
        "<a href=\"https://colab.research.google.com/github/davidho27941/ML_tutorial_notebook/blob/main/RL_basic_demo.ipynb\" target=\"_parent\"><img src=\"https://colab.research.google.com/assets/colab-badge.svg\" alt=\"Open In Colab\"/></a>"
      ]
    },
    {
      "cell_type": "markdown",
      "source": [
        "# 強化學習小遊戲小遊戲 － 拉霸機遊戲\n",
        "\n",
        "## 前言\n",
        "假設一遊戲場之中，有10台拉霸機，各自有不同的出貨機率。我們要如何利用機器學習的方法，讓模型學習如何獲得最大利益呢？答案是可以靠著強化學習來達成這一點。"
      ],
      "metadata": {
        "id": "pOWGHSLY3ZSK"
      }
    },
    {
      "cell_type": "markdown",
      "source": [
        "## 安裝必要函式庫\n",
        "\n",
        "在開始之前，我們需要先導入我們將用到的函式庫。在此範例中，我們將使用下列函式庫來協助我們建立一個利用強化學習解決拉霸機遊戲的模型。\n",
        "\n",
        "### 數據分析相關\n",
        "- [Numpy](https://numpy.org/doc/stable/index.html)\n",
        "- [Matplotlib](https://matplotlib.org/)\n",
        "- [Scipy](https://scipy.org)\n",
        "\n",
        "### 機器學習相關\n",
        "- [PyTorch](https://pytorch.org)\n",
        "- [PyTorch-Lightning](https://www.pytorchlightning.ai/)\n",
        "\n",
        "### 其他\n",
        "- [Time](https://docs.python.org/zh-tw/3/library/time.html)\n",
        "- [Typing](https://docs.python.org/3/library/typing.html)\n",
        "- [IPython](https://ipython.org/)\n",
        "\n"
      ],
      "metadata": {
        "id": "APj6N3af4RV-"
      }
    },
    {
      "cell_type": "code",
      "execution_count": 1,
      "metadata": {
        "id": "j9wKvncb3Ufi"
      },
      "outputs": [],
      "source": [
        "!pip3 install -q torch torchvision torchaudio pytorch-lightning\n",
        "import torch \n",
        "import numpy as np \n",
        "import matplotlib.pyplot as plt \n",
        "import pytorch_lightning as pl \n",
        "import torch.nn.functional as F\n",
        "\n",
        "from scipy import stats\n",
        "from IPython.display import clear_output\n",
        "from time import sleep\n",
        "from typing import List"
      ]
    },
    {
      "cell_type": "markdown",
      "source": [
        "## 用語定義\n",
        "\n",
        "在本篇教學中，我們將使用以下用語代稱：\n",
        "\n",
        "- 代理人（Agent）：係指演算法或是模型。\n",
        "- 回饋（Reward）：係指執行某動作或做出某選擇後，所得到的結果所帶來之利益以及損失。"
      ],
      "metadata": {
        "id": "z31C8lOFSYXB"
      }
    },
    {
      "cell_type": "markdown",
      "source": [
        "## 情景建立\n",
        "\n",
        "首先，假設我在一個遊樂場中。遊樂場內有一組10台(`N_devices = 10`)的拉霸機，每一台的中獎率為$p_{i}$，$i$為拉霸機的編號，範圍從０到９為止。我們可以根據此設定，來定義一個長度為10的串列`Reward_prob`，用以儲存每一台拉霸機的中獎率。"
      ],
      "metadata": {
        "id": "hBX0NHqu7Nvf"
      }
    },
    {
      "cell_type": "code",
      "source": [
        "N_devices = 10\n",
        "Reward_prob = np.random.rand(N_devices)\n",
        "for idx, prob in enumerate(Reward_prob):\n",
        "  print(f'機台：{idx}, 中獎機率：{prob:.3f}')"
      ],
      "metadata": {
        "colab": {
          "base_uri": "https://localhost:8080/"
        },
        "id": "_ItwKLQx3xGQ",
        "outputId": "6c15ba00-b1ab-48a8-f10f-d3371bdd3c9f"
      },
      "execution_count": 2,
      "outputs": [
        {
          "output_type": "stream",
          "name": "stdout",
          "text": [
            "機台：0, 中獎機率：0.711\n",
            "機台：1, 中獎機率：0.058\n",
            "機台：2, 中獎機率：0.454\n",
            "機台：3, 中獎機率：0.461\n",
            "機台：4, 中獎機率：0.093\n",
            "機台：5, 中獎機率：0.819\n",
            "機台：6, 中獎機率：0.522\n",
            "機台：7, 中獎機率：0.700\n",
            "機台：8, 中獎機率：0.268\n",
            "機台：9, 中獎機率：0.033\n"
          ]
        }
      ]
    },
    {
      "cell_type": "markdown",
      "source": [
        "## 小試身手\n",
        "\n",
        "假設我們嘗試每一台機器都玩了10次，我們要如何計算每一台拉霸機的期望收益，又如何取得哪一台拉霸機才是最能獲得利益的機台呢？我們可以先思考一個隨機模擬的遊戲。\n",
        "\n",
        "---\n",
        "假設在地上有一個圓圈，我們可以隨機的往圓圈丟10次石頭。只有在我們的石頭落在指定的範圍內\n",
        "時，我們才可以獲得獎勵。那我們如何計算我們在每次玩這個遊戲時，能獲得多少的獎勵，以及玩了一百次時，平均獲得的獎勵數量呢？\n",
        "\n",
        "首先，我們可以用`throw_ball`函式來隨機產生一個0~1之間的值，並給定一個範圍`prob`用以界定可以獲得獎勵的範圍。然後寫一個函數`play_game`來根據給定的範圍，執行一個丟十次球的遊戲，並在遊戲結束時計算獲得的獎勵。"
      ],
      "metadata": {
        "id": "9Gc3j2cv83e8"
      }
    },
    {
      "cell_type": "code",
      "source": [
        "prob = 0.5 #@param {type:\"slider\", min:0, max:1, step:0.1}\n",
        "def throw_ball():\n",
        "    return np.random.random()\n",
        "\n",
        "def play_game(prob):\n",
        "    reward = 0\n",
        "    for _ in range(10):\n",
        "        if throw_ball() < prob:\n",
        "            reward += 1\n",
        "        else: \n",
        "            pass\n",
        "    return reward \n",
        "\n",
        "result = play_game(prob)\n",
        "print(f\"玩了一場遊戲： 得到{result}獎勵！\")"
      ],
      "metadata": {
        "colab": {
          "base_uri": "https://localhost:8080/"
        },
        "id": "7HWL8gvH8rjl",
        "outputId": "75c42d95-b3da-4d7b-d015-53b92a0a89c7"
      },
      "execution_count": 3,
      "outputs": [
        {
          "output_type": "stream",
          "name": "stdout",
          "text": [
            "玩了一場遊戲： 得到7獎勵！\n"
          ]
        }
      ]
    },
    {
      "cell_type": "markdown",
      "source": [
        "接下來，我們將重複遊玩這個遊戲2000次，來觀察我們在遊玩過程中的獎勵分佈，以及平均收益為何。我們將利用一個串列`rewards`來儲存每一次的獎勵紀錄。"
      ],
      "metadata": {
        "id": "7kiS0tQ2B7XT"
      }
    },
    {
      "cell_type": "code",
      "source": [
        "prob = 0.2 #@param {type:\"slider\", min:0, max:1, step:0.1}\n",
        "rewards = []\n",
        "for idx in range(2000):\n",
        "    reward = play_game(prob)\n",
        "    rewards.append(reward)\n",
        "\n",
        "plt.figure(figsize=(6,4))\n",
        "plt.hist(rewards, bins=[x for x in range(0,11,)])\n",
        "plt.title(\"Histogram of rewards.\")\n",
        "plt.xlabel(\"rewards\")\n",
        "plt.ylabel(\"counts of rewards\")\n",
        "print(f\"平均收益：{np.mean(rewards)}\")\n"
      ],
      "metadata": {
        "colab": {
          "base_uri": "https://localhost:8080/",
          "height": 312
        },
        "id": "ia6DcSrNA9WZ",
        "outputId": "2cfcf534-c6a8-4180-e25a-cf8264b4eaa6"
      },
      "execution_count": 4,
      "outputs": [
        {
          "output_type": "stream",
          "name": "stdout",
          "text": [
            "平均收益：1.985\n"
          ]
        },
        {
          "output_type": "display_data",
          "data": {
            "text/plain": [
              "<Figure size 432x288 with 1 Axes>"
            ],
            "image/png": "[encoded data removed]"
          },
          "metadata": {
            "needs_background": "light"
          }
        }
      ]
    },
    {
      "cell_type": "markdown",
      "source": [
        "由上方的小遊戲我們可以看出，當我們改變了可以得到獎勵的範圍時，所能得到的獎勵也隨之增加，反之亦然。那麼我們也可以利用類似的手法來模擬出遊玩每個拉霸機時，所能獲取到的收益，並找出最能夠賺錢的拉霸機。"
      ],
      "metadata": {
        "id": "-HQy1QMRFsYm"
      }
    },
    {
      "cell_type": "markdown",
      "source": [
        "---\n",
        "## 前置準備與遊戲流程\n",
        "\n",
        "### 遊戲流程\n",
        "在接下來的遊戲中，我們將在每一回合遊玩一台特定的拉霸機特定的拉霸機**10次**，並計算收益。我們總共將進行進行500個回合。\n",
        "\n",
        "### 前置準備\n",
        "為了能夠紀錄遊玩每一台拉霸機的收益紀錄，我們可以考慮這麼做：\n",
        "\n",
        "1. 以一個陣列`record`紀錄每一台拉霸機的遊玩次數（n）以及**平均**收益（$\\mu$）。\n",
        "2. 編寫一個`update_record()`函式用以更新每個機台的收益以及遊玩次數的紀錄。\n",
        "3. 編寫`get_reward()`以及`get_best_arm()`函式用以取得當次遊玩的收益以及收益最佳的拉霸機。\n",
        "4. 建立一個`rewards`串列來紀錄每回合收益的平均。\n",
        "\n",
        "為何在`record`中，我們選擇紀錄平均值而非每次的收益？這是因為如果要紀錄每次的收益，當遊玩次數非常多時，我們所需要的資源將變得將當得多。而紀錄平均值的好處是，我們將能透過更少的資源紀錄到更多的資訊。"
      ],
      "metadata": {
        "id": "4WLfuTrchXxd"
      }
    },
    {
      "cell_type": "code",
      "source": [
        "# record: A list with length = N_devices and contains [n, \\mu] of each device.\n",
        "record = np.zeros((N_devices, 2))\n",
        "rewards = [0]\n",
        "def get_reward(prob: float) -> int:\n",
        "    reward = 0\n",
        "    for _ in range(10):\n",
        "        if np.random.random() < prob:\n",
        "            reward += 1\n",
        "    return reward\n",
        "\n",
        "def update_record(\n",
        "                  record: List, \n",
        "                  device: int, \n",
        "                  current_reward: int,\n",
        "                  ) -> List:\n",
        "    new_avg = (record[device, 0] * record[device, 1] + current_reward) / (record[device, 0] + 1)\n",
        "    record[device, 1] = new_avg\n",
        "    record[device, 0] += 1\n",
        "    return record\n",
        "\n",
        "def get_best_arm(record: List) -> int:\n",
        "    best_arm = np.argmax(record[:, 1],)\n",
        "    return best_arm"
      ],
      "metadata": {
        "id": "RjrwrRYoD6Cz"
      },
      "execution_count": 5,
      "outputs": []
    },
    {
      "cell_type": "markdown",
      "source": [
        "## 貪婪策略\n",
        "\n",
        "在真正開始玩拉霸機遊戲之前，我們需要再引入一個新概念：[貪婪策略](https://zh.m.wikipedia.org/zh-tw/%E8%B4%AA%E5%BF%83%E7%AE%97%E6%B3%95)。\n",
        "\n",
        "貪婪策略可以簡述為：在每一步的決策或是行動中，演算法將採取已知最大利益的選擇，進而獲取最大利益的作法。\n",
        "\n",
        "我們將引入一個介於0到1之間的常數 $\\epsilon$，用以表達貪婪程度。當 $\\epsilon$ 越高時，我們的代理人將更傾向去遊玩已知最大收益的拉霸機；反之，代理人將開始去尋找其他可能帶來更高收益的拉霸機。"
      ],
      "metadata": {
        "id": "QIZ6fNaBoXoT"
      }
    },
    {
      "cell_type": "code",
      "source": [
        "epsilon = 0.7 #@param {type: \"slider\", min:0, max:1, step: 0.1}\n"
      ],
      "metadata": {
        "id": "4-HfuEGRjuvi"
      },
      "execution_count": 6,
      "outputs": []
    },
    {
      "cell_type": "markdown",
      "source": [
        "那麼，就讓我們開始玩拉霸機吧！"
      ],
      "metadata": {
        "id": "2vx_L0G4tSLR"
      }
    },
    {
      "cell_type": "markdown",
      "source": [
        "## 建立遊戲流程\n",
        "\n",
        "接下來，我們將利用前面幾個章節所建立的函式，來構築我們的遊戲流程。"
      ],
      "metadata": {
        "id": "0vbqAs1FtX8e"
      }
    },
    {
      "cell_type": "code",
      "source": [
        "epsilon = 0.7 #@param {type: \"slider\", min:0, max:1, step: 0.1}\n",
        "N_devices = 10 #@param {type: \"slider\", min:1, max:100, step: 1}\n",
        "N_game = 500 #@param {type: \"slider\", min:100, max:1000, step: 10}\n",
        "prob_devices = np.random.rand(N_devices)\n",
        "record = np.zeros((N_devices, 2))\n",
        "rewards = [0]\n",
        "for round_idx in range(N_game):\n",
        "    # 選擇要遊玩的機台\n",
        "    if np.random.random() < epsilon:\n",
        "        choice = get_best_arm(record)\n",
        "    else: \n",
        "        choice = np.random.randint(10)\n",
        "    reward_in_game = get_reward(prob_devices[choice])\n",
        "    record = update_record(record, choice, reward_in_game)\n",
        "    mean_reward = ((round_idx+1) * rewards[-1] + reward_in_game) / (round_idx+2)\n",
        "    rewards.append(mean_reward)\n",
        "\n",
        "plt.figure(figsize=(8,6))\n",
        "plt.scatter(np.arange(len(rewards)),rewards)\n",
        "plt.title(\"Average reward\")\n",
        "plt.xlabel(\"Rounds\")\n",
        "plt.ylabel(\"Average reward.\")\n",
        "plt.show()"
      ],
      "metadata": {
        "colab": {
          "base_uri": "https://localhost:8080/",
          "height": 404
        },
        "id": "etDTauO3tXLo",
        "outputId": "88cb9f44-bef3-4aed-87c0-aafd866a0134"
      },
      "execution_count": 7,
      "outputs": [
        {
          "output_type": "display_data",
          "data": {
            "text/plain": [
              "<Figure size 576x432 with 1 Axes>"
            ],
            "image/png": "[encoded data removed]"
          },
          "metadata": {
            "needs_background": "light"
          }
        }
      ]
    },
    {
      "cell_type": "markdown",
      "source": [
        "## 其他選擇策略\n",
        "\n",
        "在先前我們使用了貪婪策略來讓代理人在一定機率下採取探索其他可能性的選擇。除了貪婪策略以外，我們也可以利用`Softmax`函數來產生一個機率分佈，並在此機率分佈下讓代理人隨機選擇一個機台來進行遊戲。\n",
        "\n",
        "Softmax函數的形式如下：\n",
        "\n",
        "\n",
        "# $Softmax = \\frac{e^{\\beta V_{i}}}{∑_{i=0}^{N}e^{\\beta V_{i}}}$\n",
        "\n",
        "\n",
        "其中，$V_{i}$為價值函數（每一個動作的相應價值或收益），$\\beta$為溫度常數。$V_{i}$在我們此次的遊戲中等價於`record`陣列中的第二項。\n",
        "\n",
        "我們可以使用`Softmax`函數取代貪婪策略，讓遊戲在`Softmax`所產生的機率分佈中選擇一個機台進行遊戲。"
      ],
      "metadata": {
        "id": "L6ppWuRx11KX"
      }
    },
    {
      "cell_type": "code",
      "source": [
        "N_devices = 10 #@param {type: \"slider\", min:1, max:100, step: 1}\n",
        "N_game = 500 #@param {type: \"slider\", min:100, max:1000, step: 10}\n",
        "prob_devices = np.random.rand(N_devices)\n",
        "record = np.zeros((N_devices, 2))\n",
        "rewards = [0]\n",
        "\n",
        "def softmax(v, beta=1/1.12):\n",
        "    softm = ( np.exp(v * beta) / np.sum( np.exp(v * beta) ) )\n",
        "    return softm\n",
        "\n",
        "for round_idx in range(N_game):\n",
        "    # 選擇要遊玩的機台\n",
        "    probability = softmax(record[:, 1], beta=1/0.7)\n",
        "    choice = np.random.choice(np.arange(N_devices), p=probability)\n",
        "    reward_in_game = get_reward(prob_devices[choice])\n",
        "    record = update_record(record, choice, reward_in_game)\n",
        "    mean_reward = ((round_idx+1) * rewards[-1] + reward_in_game) / (round_idx+2)\n",
        "    rewards.append(mean_reward)\n",
        "\n",
        "plt.figure(figsize=(8,6))\n",
        "plt.scatter(np.arange(len(rewards)),rewards)\n",
        "plt.title(\"Average reward\")\n",
        "plt.xlabel(\"Rounds\")\n",
        "plt.ylabel(\"Average reward.\")\n",
        "plt.show()"
      ],
      "metadata": {
        "colab": {
          "base_uri": "https://localhost:8080/",
          "height": 404
        },
        "id": "daGFs9Wn5Kj2",
        "outputId": "963e16be-7c2c-4298-84d9-8c9a44e4d263"
      },
      "execution_count": 8,
      "outputs": [
        {
          "output_type": "display_data",
          "data": {
            "text/plain": [
              "<Figure size 576x432 with 1 Axes>"
            ],
            "image/png": "[encoded data removed]"
          },
          "metadata": {
            "needs_background": "light"
          }
        }
      ]
    },
    {
      "cell_type": "markdown",
      "source": [
        "## 將深度學習導入強化學習\n",
        "\n",
        "在先前的範例中，我們都使用一個串列來紀錄每一個機台所能帶來的收益，這是基於傳統的Q-Learning方法所進行的訓練。Q-Learning是一個透過一張表(Q-Table)記錄下過往所有學習過的策略所帶來的回饋以及獎勵，來取得最大化利益的策略。Q-Learning的好處是不需要針對環境進行建模，只需要紀錄過往所有操作所帶來的影響，並從中學習；壞處是當條件以及遊戲越來越複雜時，Q-Table的大小將變得非常巨大，對整體效率以及表現造成拖累。\n",
        "\n",
        "為了改善為了改善Q-Learning的缺陷，我們可以透過將機器學習導入到Q-Learning，建構出Deep Q-Learning，或稱為Deep Q-Network(DQN)。DQN的做法即為利用神經網路取代傳統的Q-Learning演算法，利用神經網路來取代Q-Table，來利用更小的參數空間對更複雜的狀況作出預測。"
      ],
      "metadata": {
        "id": "DXNLdFoR96AF"
      }
    },
    {
      "cell_type": "markdown",
      "source": [
        "### 廣告推薦問題\n",
        "\n",
        "在前一個拉霸機遊戲的場景中，沒有一個「狀態」的概念，整體上只是一個**動作－回饋值**的組合問題，所需要的表不需要太大的空間即可描述所有組合。當問題出現的「狀態」的考量時，就會形成**狀態－動作－回饋值**的組合問題，此時我們所需要的參數空間就會變得更加巨大。考慮10個狀態、10種動作以及10種回饋的組合，我們將需要元素數量為1000的表來紀錄我們的行為，這將大幅提升運算需求。\n",
        "\n",
        "考慮一個情景：我們現在有一個廣告推送系統。我們要考量客戶所在的電商網站（共10個，編號，編號0~9），以及客戶給的回饋（是否點擊電商網站的廣告）以及所需要執行的動作（推送哪一個電商的廣告）。\n",
        "\n",
        "我們可以透過建立下方類別物件來建立此問題的環境。"
      ],
      "metadata": {
        "id": "uZQJtWVRBPpn"
      }
    },
    {
      "cell_type": "code",
      "source": [
        "class AdvertiseMachine():\n",
        "    def __init__(self, N_sites=10):\n",
        "        \"\"\"初始化類別，利用`N_sites`建立`self.n_sites`屬性，\n",
        "           並利用屬性數量以及狀態數量建立一隨機機率矩陣`self.prob_dist`；\n",
        "           同時產生一隨機狀態`self.state`作為作為用戶所在的網站使用。\n",
        "\n",
        "        Arg:\n",
        "        N_sites(str): 網站的數量。初始值為10。\n",
        "        \"\"\"\n",
        "        self.n_sites = N_sites\n",
        "        self.init_dist()\n",
        "        self.update_state()\n",
        "\n",
        "    def init_dist(self):\n",
        "        \"\"\"初始化一隨機機率分佈矩陣。\n",
        "           矩陣大小為n_sites * n_sites。\n",
        "        \"\"\"\n",
        "        states = self.n_sites\n",
        "        self.prob_dist = torch.rand(states, self.n_sites)\n",
        "    \n",
        "    def update_state(self):\n",
        "        \"\"\"產生一隨機整數，並作為客戶所在之網站使用。\n",
        "        \"\"\"\n",
        "        self.state = torch.randint(0, self.n_sites, (1,))\n",
        "    def calc_reward(self, prob):\n",
        "        \"\"\"基於給定的機率，取得回饋值。\n",
        "        \"\"\"\n",
        "        _reward = (torch.rand(self.n_sites) < prob).sum()\n",
        "        return _reward\n",
        "\n",
        "    def get_reward(self, site):\n",
        "        \"\"\"根據給定的網站，取得該網站在機率矩陣中的值，並利用此值傳入`self.reward()`函式計算回饋值。\n",
        "        \"\"\"\n",
        "        reward = self.calc_reward(self.prob_dist[[self.state, [site]]])\n",
        "        return reward\n",
        "    \n",
        "    def get_state(self):\n",
        "        \"\"\"取得當前狀態。\n",
        "        \"\"\"\n",
        "        return self.state\n",
        "\n",
        "    def choose_site(self, site):\n",
        "        \"\"\"選取一個網站，並取得此動作的回饋值。\n",
        "        \"\"\"\n",
        "        reward = self.get_reward(site)\n",
        "        self.update_state()\n",
        "        return reward"
      ],
      "metadata": {
        "id": "w9Mbwi3v7qsw"
      },
      "execution_count": 9,
      "outputs": []
    },
    {
      "cell_type": "markdown",
      "source": [
        "我們可以檢查一下我們所建構的類別物件使否正常運作。"
      ],
      "metadata": {
        "id": "WFV5bz16fBq7"
      }
    },
    {
      "cell_type": "code",
      "source": [
        "# 建立一個環境\n",
        "env = AdvertiseMachine()\n",
        "# 取得一隨機狀態\n",
        "current_state = env.get_state()\n",
        "print(f\"現在狀態： {current_state}\")\n",
        "# 選擇一網站，並取得動作的回饋。\n",
        "reward = env.choose_site(1)\n",
        "print(f\"選取網站1，取得回饋值：{reward}\")"
      ],
      "metadata": {
        "colab": {
          "base_uri": "https://localhost:8080/"
        },
        "id": "2ye1oZTJGtmR",
        "outputId": "de7262fd-85ec-42d7-bae8-68bb44c19fea"
      },
      "execution_count": 10,
      "outputs": [
        {
          "output_type": "stream",
          "name": "stdout",
          "text": [
            "現在狀態： tensor([2])\n",
            "選取網站1，取得回饋值：1\n"
          ]
        }
      ]
    },
    {
      "cell_type": "markdown",
      "source": [
        "## 建立神經網路\n",
        "\n",
        "接下來，我們可以建立一個神經網路，用以訓練一個深度強化學習模型作為代理人，並讓代理人學習如何推薦用戶相關廣告。\n",
        "\n",
        "在這個案例之中，我們有10個狀態，每個狀態都有10種動作，一共有100種可能性。因為我們將會把輸入的資訊進行`one-hot`編碼，故輸入層將會是一個具有10*100個神經元的網路。在輸入層之後，我們可以用一個具有100個神經元的隱藏層來作為網路的第二層。由於我們所能做的動作有10種，故輸出層的神經元數量需要設定為10。\n",
        "\n",
        "在此，我們將使用`pytorch-lightning`函式庫來協助我們建立模型以及訓練模型。"
      ],
      "metadata": {
        "id": "1UhYsPoqhjaH"
      }
    },
    {
      "cell_type": "code",
      "source": [
        "class AdertiseDataset(torch.utils.data.Dataset):\n",
        "    def __init__(self, env=AdvertiseMachine()):\n",
        "        self.env = env\n",
        "    def __len__(self):\n",
        "        return 1\n",
        "    def __getitem__(self, index):\n",
        "        _cur_state = self.env.get_state().clone().detach()\n",
        "        _data = torch.nn.functional.one_hot(_cur_state, num_classes=self.env.n_sites)\n",
        "        return torch.squeeze(_data).type(torch.FloatTensor)\n",
        "        \n",
        "class AdvertiseModel(pl.LightningModule):\n",
        "    def __init__(self, env=AdvertiseMachine()):\n",
        "        super().__init__()\n",
        "        D_in = 10\n",
        "        H = 100\n",
        "        D_out = 10\n",
        "        self.env = env\n",
        "        self.rewards = []\n",
        "        self.model = torch.nn.Sequential(\n",
        "                        torch.nn.Linear(D_in, H), #隱藏層\n",
        "                        torch.nn.ReLU(),\n",
        "                        torch.nn.Linear(H, D_out), #輸出層\n",
        "                        torch.nn.ReLU(),\n",
        "                     )\n",
        "    \n",
        "    def forward(self, x):\n",
        "        return self.model(x)\n",
        "\n",
        "    def train_dataloader(self):\n",
        "        dataloader = torch.utils.data.DataLoader(\n",
        "                                                 dataset=AdertiseDataset(env=self.env),\n",
        "                                                 batch_size=1,\n",
        "                                                 )\n",
        "        return dataloader\n",
        "    def training_step(self, batch, batch_idx):\n",
        "        current_state = batch\n",
        "        y_pred = self(current_state)\n",
        "        prob_dist = F.softmax(y_pred)\n",
        "\n",
        "        choice = torch.multinomial(prob_dist, 1, replacement=True).type(torch.LongTensor)\n",
        "        current_reward = self.env.choose_site(choice).type(torch.FloatTensor)\n",
        "        one_hot_reward = y_pred.clone().detach()\n",
        "\n",
        "        one_hot_reward[[0], choice] = current_reward\n",
        "        self.rewards.append(current_reward)\n",
        "        loss = F.mse_loss(y_pred, one_hot_reward)\n",
        "        self.env.update_state()\n",
        "        return loss\n",
        "    \n",
        "    def configure_optimizers(self):\n",
        "        optimizer = torch.optim.Adam(self.parameters(), lr=1e-3)\n",
        "        return optimizer"
      ],
      "metadata": {
        "id": "GLINRSCyGy13"
      },
      "execution_count": 16,
      "outputs": []
    },
    {
      "cell_type": "code",
      "source": [
        "model = AdvertiseModel()\n",
        "trainer = pl.Trainer(max_epochs=10000, gpus=1)\n",
        "\n",
        "trainer.fit(model)"
      ],
      "metadata": {
        "colab": {
          "base_uri": "https://localhost:8080/",
          "height": 416,
          "referenced_widgets": [
            "c11327f3d2764f3682f8e3d66f43f08d",
            "f22cb5bf21034c1e80066c645e166bbb",
            "153f4d60488d4dc3aee35d76add096e2",
            "1e2b294bbc194046a1a38aa48370a6b5",
            "a7efc09c0d074b0a8fc397c5b23a2665",
            "beb737518fd94c11ad19e0cf3e81d863",
            "d4fde2d044db409eb54b2d4cb98558bd",
            "5cb5944111c646e1ba114f159fdeafff",
            "3be54577e42847baa53715c4d4a23984",
            "66d7e71ef3064c7cb4620e2a3744ca2c",
            "f7225c94ff33482c88702e544fb346fa"
          ]
        },
        "id": "05HsDyhbBAZy",
        "outputId": "b918094d-3c7a-490d-e6c4-f337df0638b5"
      },
      "execution_count": 17,
      "outputs": [
        {
          "output_type": "stream",
          "name": "stderr",
          "text": [
            "/usr/local/lib/python3.7/dist-packages/pytorch_lightning/trainer/connectors/accelerator_connector.py:446: LightningDeprecationWarning: Setting `Trainer(gpus=1)` is deprecated in v1.7 and will be removed in v2.0. Please use `Trainer(accelerator='gpu', devices=1)` instead.\n",
            "  f\"Setting `Trainer(gpus={gpus!r})` is deprecated in v1.7 and will be removed\"\n",
            "GPU available: True (cuda), used: True\n",
            "TPU available: False, using: 0 TPU cores\n",
            "IPU available: False, using: 0 IPUs\n",
            "HPU available: False, using: 0 HPUs\n",
            "LOCAL_RANK: 0 - CUDA_VISIBLE_DEVICES: [0]\n",
            "\n",
            "  | Name  | Type       | Params\n",
            "-------------------------------------\n",
            "0 | model | Sequential | 2.1 K \n",
            "-------------------------------------\n",
            "2.1 K     Trainable params\n",
            "0         Non-trainable params\n",
            "2.1 K     Total params\n",
            "0.008     Total estimated model params size (MB)\n",
            "/usr/local/lib/python3.7/dist-packages/pytorch_lightning/trainer/trainer.py:1895: PossibleUserWarning: The number of training batches (1) is smaller than the logging interval Trainer(log_every_n_steps=50). Set a lower value for log_every_n_steps if you want to see logs for the training epoch.\n",
            "  category=PossibleUserWarning,\n"
          ]
        },
        {
          "output_type": "display_data",
          "data": {
            "text/plain": [
              "Training: 0it [00:00, ?it/s]"
            ],
            "application/vnd.jupyter.widget-view+json": {
              "version_major": 2,
              "version_minor": 0,
              "model_id": "c11327f3d2764f3682f8e3d66f43f08d"
            }
          },
          "metadata": {}
        },
        {
          "output_type": "stream",
          "name": "stderr",
          "text": [
            "/usr/local/lib/python3.7/dist-packages/ipykernel_launcher.py:38: UserWarning: Implicit dimension choice for softmax has been deprecated. Change the call to include dim=X as an argument.\n",
            "`Trainer.fit` stopped: `max_epochs=10000` reached.\n"
          ]
        }
      ]
    },
    {
      "cell_type": "markdown",
      "source": [
        "在訓練完成後，我們可以透過計算移動平均值，並將其視覺化，來了解我們的代理人是否學習到了如何取得最佳的推薦邏輯，並取得最大的回饋。"
      ],
      "metadata": {
        "id": "Zu2R1-t6ZCOe"
      }
    },
    {
      "cell_type": "code",
      "source": [
        "def running_mean(x,N =100): #定義一個可以算出移動平均回饋值的函式\n",
        "    c = x.shape[0] - N\n",
        "    y = np.zeros(c)\n",
        "    conv = np.ones(N)\n",
        "    for i in range(c):\n",
        "        y[i] = (x[i:i+N] @ conv)/N #@ is equal to matmul()\n",
        "    return y\n",
        "\n",
        "plt.figure(figsize=(20,7))\n",
        "plt.ylabel(\"Average reward\",fontsize=14)\n",
        "plt.xlabel(\"Training Epochs\",fontsize=14)\n",
        "plt.plot(running_mean(np.array(model.rewards),N=50))"
      ],
      "metadata": {
        "colab": {
          "base_uri": "https://localhost:8080/",
          "height": 463
        },
        "id": "F0OSOzIOCago",
        "outputId": "389e3b81-80c5-42fd-c8ba-20947ca4823d"
      },
      "execution_count": 13,
      "outputs": [
        {
          "output_type": "execute_result",
          "data": {
            "text/plain": [
              "[<matplotlib.lines.Line2D at 0x7f77c58aea10>]"
            ]
          },
          "metadata": {},
          "execution_count": 13
        },
        {
          "output_type": "display_data",
          "data": {
            "text/plain": [
              "<Figure size 1440x504 with 1 Axes>"
            ],
            "image/png": "[encoded data removed]"
          },
          "metadata": {
            "needs_background": "light"
          }
        }
      ]
    }
  ]
}